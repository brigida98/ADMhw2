{
 "cells": [
  {
   "cell_type": "code",
   "execution_count": 1,
   "id": "f3bdf4ae",
   "metadata": {},
   "outputs": [],
   "source": [
    "import pandas as pd\n",
    "import matplotlib.pyplot as plt"
   ]
  },
  {
   "cell_type": "code",
   "execution_count": 2,
   "id": "3a068a28",
   "metadata": {},
   "outputs": [],
   "source": [
    "data_profile = pd.read_csv('F:/Sapienza/ADM/ADM_HW2/instagram_profiles.zip', usecols = ['profile_id','profile_name','firstname_lastname','n_posts','followers','following', 'cts'] , delimiter = '\\t')"
   ]
  },
  {
   "cell_type": "code",
   "execution_count": 3,
   "id": "4470ae79",
   "metadata": {},
   "outputs": [],
   "source": [
    "data_post = pd.read_csv('F:/Sapienza/ADM/ADM_HW2/instagram_posts.zip', usecols = ['sid','profile_id','post_id','location_id','post_type','numbr_likes','number_comments'],delimiter = '\\t')"
   ]
  },
  {
   "cell_type": "code",
   "execution_count": 200,
   "id": "f40186bc",
   "metadata": {},
   "outputs": [],
   "source": [
    "data_loc = pd.read_csv('F:/Sapienza/ADM/ADM_HW2/instagram_locations.zip',delimiter = '\\t')"
   ]
  },
  {
   "cell_type": "markdown",
   "id": "15933dad",
   "metadata": {},
   "source": [
    "Plot the top 10 most popular users in terms of followers and their number of posts."
   ]
  },
  {
   "cell_type": "code",
   "execution_count": 230,
   "id": "7eceb423",
   "metadata": {},
   "outputs": [],
   "source": [
    "#create a sub-dataframe of 10 popular profiles\n",
    "selected = data_profile.sort_values(['followers','n_posts'] , ascending = [False,False]).head(10)"
   ]
  },
  {
   "cell_type": "code",
   "execution_count": 85,
   "id": "681cd87d",
   "metadata": {},
   "outputs": [
    {
     "data": {
      "text/html": [
       "<div>\n",
       "<style scoped>\n",
       "    .dataframe tbody tr th:only-of-type {\n",
       "        vertical-align: middle;\n",
       "    }\n",
       "\n",
       "    .dataframe tbody tr th {\n",
       "        vertical-align: top;\n",
       "    }\n",
       "\n",
       "    .dataframe thead th {\n",
       "        text-align: right;\n",
       "    }\n",
       "</style>\n",
       "<table border=\"1\" class=\"dataframe\">\n",
       "  <thead>\n",
       "    <tr style=\"text-align: right;\">\n",
       "      <th></th>\n",
       "      <th>profile_id</th>\n",
       "      <th>profile_name</th>\n",
       "      <th>firstname_lastname</th>\n",
       "      <th>following</th>\n",
       "      <th>followers</th>\n",
       "      <th>n_posts</th>\n",
       "      <th>cts</th>\n",
       "    </tr>\n",
       "  </thead>\n",
       "  <tbody>\n",
       "    <tr>\n",
       "      <th>2880218</th>\n",
       "      <td>2.502532e+07</td>\n",
       "      <td>instagram</td>\n",
       "      <td>Instagram</td>\n",
       "      <td>226.0</td>\n",
       "      <td>285457645.0</td>\n",
       "      <td>5760.0</td>\n",
       "      <td>NaN</td>\n",
       "    </tr>\n",
       "    <tr>\n",
       "      <th>2582507</th>\n",
       "      <td>3.416684e+06</td>\n",
       "      <td>victoriassecret</td>\n",
       "      <td>Victoria's Secret</td>\n",
       "      <td>549.0</td>\n",
       "      <td>65269440.0</td>\n",
       "      <td>7355.0</td>\n",
       "      <td>NaN</td>\n",
       "    </tr>\n",
       "    <tr>\n",
       "      <th>3820939</th>\n",
       "      <td>2.082449e+07</td>\n",
       "      <td>nba</td>\n",
       "      <td>NBA</td>\n",
       "      <td>817.0</td>\n",
       "      <td>35339708.0</td>\n",
       "      <td>28816.0</td>\n",
       "      <td>NaN</td>\n",
       "    </tr>\n",
       "    <tr>\n",
       "      <th>701965</th>\n",
       "      <td>1.876191e+08</td>\n",
       "      <td>louisvuitton</td>\n",
       "      <td>Louis Vuitton Official</td>\n",
       "      <td>5.0</td>\n",
       "      <td>30689316.0</td>\n",
       "      <td>3352.0</td>\n",
       "      <td>NaN</td>\n",
       "    </tr>\n",
       "    <tr>\n",
       "      <th>2414951</th>\n",
       "      <td>2.125507e+09</td>\n",
       "      <td>buzzfeedtasty</td>\n",
       "      <td>Tasty</td>\n",
       "      <td>298.0</td>\n",
       "      <td>30246783.0</td>\n",
       "      <td>2791.0</td>\n",
       "      <td>NaN</td>\n",
       "    </tr>\n",
       "    <tr>\n",
       "      <th>2785241</th>\n",
       "      <td>4.968651e+08</td>\n",
       "      <td>andresiniesta8</td>\n",
       "      <td>Andres Iniesta</td>\n",
       "      <td>151.0</td>\n",
       "      <td>29542143.0</td>\n",
       "      <td>990.0</td>\n",
       "      <td>2019-05-08 23:54:35.377 -0400</td>\n",
       "    </tr>\n",
       "    <tr>\n",
       "      <th>333193</th>\n",
       "      <td>2.341008e+07</td>\n",
       "      <td>hm</td>\n",
       "      <td>H&amp;M</td>\n",
       "      <td>403.0</td>\n",
       "      <td>29176804.0</td>\n",
       "      <td>4566.0</td>\n",
       "      <td>2018-05-31 19:33:46.022 -0400</td>\n",
       "    </tr>\n",
       "    <tr>\n",
       "      <th>3934581</th>\n",
       "      <td>2.423993e+07</td>\n",
       "      <td>princessyahrini</td>\n",
       "      <td>Syahrini</td>\n",
       "      <td>835.0</td>\n",
       "      <td>29042823.0</td>\n",
       "      <td>4719.0</td>\n",
       "      <td>2019-06-26 15:05:53.411 -0400</td>\n",
       "    </tr>\n",
       "    <tr>\n",
       "      <th>1311970</th>\n",
       "      <td>5.041706e+07</td>\n",
       "      <td>danbilzerian</td>\n",
       "      <td>Dan Bilzerian</td>\n",
       "      <td>252.0</td>\n",
       "      <td>26476004.0</td>\n",
       "      <td>1311.0</td>\n",
       "      <td>NaN</td>\n",
       "    </tr>\n",
       "    <tr>\n",
       "      <th>1703764</th>\n",
       "      <td>9.070254e+08</td>\n",
       "      <td>akshaykumar</td>\n",
       "      <td>Akshay Kumar</td>\n",
       "      <td>5.0</td>\n",
       "      <td>26252169.0</td>\n",
       "      <td>1173.0</td>\n",
       "      <td>2019-05-14 08:29:29.754 -0400</td>\n",
       "    </tr>\n",
       "  </tbody>\n",
       "</table>\n",
       "</div>"
      ],
      "text/plain": [
       "           profile_id     profile_name      firstname_lastname  following  \\\n",
       "2880218  2.502532e+07        instagram               Instagram      226.0   \n",
       "2582507  3.416684e+06  victoriassecret       Victoria's Secret      549.0   \n",
       "3820939  2.082449e+07              nba                     NBA      817.0   \n",
       "701965   1.876191e+08     louisvuitton  Louis Vuitton Official        5.0   \n",
       "2414951  2.125507e+09    buzzfeedtasty                   Tasty      298.0   \n",
       "2785241  4.968651e+08   andresiniesta8          Andres Iniesta      151.0   \n",
       "333193   2.341008e+07               hm                     H&M      403.0   \n",
       "3934581  2.423993e+07  princessyahrini                Syahrini      835.0   \n",
       "1311970  5.041706e+07     danbilzerian           Dan Bilzerian      252.0   \n",
       "1703764  9.070254e+08      akshaykumar            Akshay Kumar        5.0   \n",
       "\n",
       "           followers  n_posts                            cts  \n",
       "2880218  285457645.0   5760.0                            NaN  \n",
       "2582507   65269440.0   7355.0                            NaN  \n",
       "3820939   35339708.0  28816.0                            NaN  \n",
       "701965    30689316.0   3352.0                            NaN  \n",
       "2414951   30246783.0   2791.0                            NaN  \n",
       "2785241   29542143.0    990.0  2019-05-08 23:54:35.377 -0400  \n",
       "333193    29176804.0   4566.0  2018-05-31 19:33:46.022 -0400  \n",
       "3934581   29042823.0   4719.0  2019-06-26 15:05:53.411 -0400  \n",
       "1311970   26476004.0   1311.0                            NaN  \n",
       "1703764   26252169.0   1173.0  2019-05-14 08:29:29.754 -0400  "
      ]
     },
     "execution_count": 85,
     "metadata": {},
     "output_type": "execute_result"
    }
   ],
   "source": [
    "selected"
   ]
  },
  {
   "cell_type": "code",
   "execution_count": 86,
   "id": "889893bf",
   "metadata": {},
   "outputs": [
    {
     "data": {
      "image/png": "[encoded data removed]",
      "text/plain": [
       "<Figure size 432x288 with 1 Axes>"
      ]
     },
     "metadata": {
      "needs_background": "light"
     },
     "output_type": "display_data"
    }
   ],
   "source": [
    "selected.plot(x = 'followers' , y = 'n_posts', kind = 'line')\n",
    "plt.show()"
   ]
  },
  {
   "cell_type": "markdown",
   "id": "d6f444e9",
   "metadata": {},
   "source": [
    "Who is the most influential user?"
   ]
  },
  {
   "cell_type": "code",
   "execution_count": 89,
   "id": "6589f043",
   "metadata": {},
   "outputs": [
    {
     "data": {
      "text/plain": [
       "2880218    instagram\n",
       "Name: profile_name, dtype: object"
      ]
     },
     "execution_count": 89,
     "metadata": {},
     "output_type": "execute_result"
    }
   ],
   "source": [
    "# top 1 profile id based on the number of followers and posts\n",
    "selected['profile_name'].head(1)"
   ]
  },
  {
   "cell_type": "markdown",
   "id": "dee8ead1",
   "metadata": {},
   "source": [
    "Have they posted anything with tagged locations? Extract the most frequent areas on their posts and plot the number of times each city has been visited."
   ]
  },
  {
   "cell_type": "code",
   "execution_count": 213,
   "id": "7ccf49bf",
   "metadata": {},
   "outputs": [],
   "source": [
    "merged = pd.merge(selected['profile_id'], data_post[['profile_id','post_id','location_id']], on = 'profile_id', how = \"left\")"
   ]
  },
  {
   "cell_type": "code",
   "execution_count": 221,
   "id": "f53a5b54",
   "metadata": {},
   "outputs": [],
   "source": [
    "locations = merged.fillna(0)"
   ]
  },
  {
   "cell_type": "code",
   "execution_count": 222,
   "id": "762b130c",
   "metadata": {},
   "outputs": [
    {
     "data": {
      "text/html": [
       "<div>\n",
       "<style scoped>\n",
       "    .dataframe tbody tr th:only-of-type {\n",
       "        vertical-align: middle;\n",
       "    }\n",
       "\n",
       "    .dataframe tbody tr th {\n",
       "        vertical-align: top;\n",
       "    }\n",
       "\n",
       "    .dataframe thead th {\n",
       "        text-align: right;\n",
       "    }\n",
       "</style>\n",
       "<table border=\"1\" class=\"dataframe\">\n",
       "  <thead>\n",
       "    <tr style=\"text-align: right;\">\n",
       "      <th></th>\n",
       "      <th>profile_id</th>\n",
       "      <th>post_id</th>\n",
       "      <th>location_id</th>\n",
       "    </tr>\n",
       "  </thead>\n",
       "  <tbody>\n",
       "    <tr>\n",
       "      <th>0</th>\n",
       "      <td>25025320.0</td>\n",
       "      <td>Ss3ULFBQeM</td>\n",
       "      <td>5.332856e+06</td>\n",
       "    </tr>\n",
       "    <tr>\n",
       "      <th>1</th>\n",
       "      <td>25025320.0</td>\n",
       "      <td>BeECzRuh1O6</td>\n",
       "      <td>5.873874e+08</td>\n",
       "    </tr>\n",
       "    <tr>\n",
       "      <th>2</th>\n",
       "      <td>25025320.0</td>\n",
       "      <td>Brl3hGMAxiy</td>\n",
       "      <td>8.770667e+14</td>\n",
       "    </tr>\n",
       "    <tr>\n",
       "      <th>3</th>\n",
       "      <td>25025320.0</td>\n",
       "      <td>BZNHb3ijnDT</td>\n",
       "      <td>3.500213e+08</td>\n",
       "    </tr>\n",
       "    <tr>\n",
       "      <th>4</th>\n",
       "      <td>25025320.0</td>\n",
       "      <td>uvObMahQV4</td>\n",
       "      <td>5.243120e+08</td>\n",
       "    </tr>\n",
       "    <tr>\n",
       "      <th>...</th>\n",
       "      <td>...</td>\n",
       "      <td>...</td>\n",
       "      <td>...</td>\n",
       "    </tr>\n",
       "    <tr>\n",
       "      <th>136</th>\n",
       "      <td>907025384.0</td>\n",
       "      <td>Bwt0a6unVO0</td>\n",
       "      <td>0.000000e+00</td>\n",
       "    </tr>\n",
       "    <tr>\n",
       "      <th>137</th>\n",
       "      <td>907025384.0</td>\n",
       "      <td>BwqyXzInHvZ</td>\n",
       "      <td>0.000000e+00</td>\n",
       "    </tr>\n",
       "    <tr>\n",
       "      <th>138</th>\n",
       "      <td>907025384.0</td>\n",
       "      <td>Bwmmqhpn2gs</td>\n",
       "      <td>0.000000e+00</td>\n",
       "    </tr>\n",
       "    <tr>\n",
       "      <th>139</th>\n",
       "      <td>907025384.0</td>\n",
       "      <td>BwmiC_ZHyF8</td>\n",
       "      <td>0.000000e+00</td>\n",
       "    </tr>\n",
       "    <tr>\n",
       "      <th>140</th>\n",
       "      <td>907025384.0</td>\n",
       "      <td>Bwihlb2HmHo</td>\n",
       "      <td>0.000000e+00</td>\n",
       "    </tr>\n",
       "  </tbody>\n",
       "</table>\n",
       "<p>141 rows × 3 columns</p>\n",
       "</div>"
      ],
      "text/plain": [
       "      profile_id      post_id   location_id\n",
       "0     25025320.0   Ss3ULFBQeM  5.332856e+06\n",
       "1     25025320.0  BeECzRuh1O6  5.873874e+08\n",
       "2     25025320.0  Brl3hGMAxiy  8.770667e+14\n",
       "3     25025320.0  BZNHb3ijnDT  3.500213e+08\n",
       "4     25025320.0   uvObMahQV4  5.243120e+08\n",
       "..           ...          ...           ...\n",
       "136  907025384.0  Bwt0a6unVO0  0.000000e+00\n",
       "137  907025384.0  BwqyXzInHvZ  0.000000e+00\n",
       "138  907025384.0  Bwmmqhpn2gs  0.000000e+00\n",
       "139  907025384.0  BwmiC_ZHyF8  0.000000e+00\n",
       "140  907025384.0  Bwihlb2HmHo  0.000000e+00\n",
       "\n",
       "[141 rows x 3 columns]"
      ]
     },
     "execution_count": 222,
     "metadata": {},
     "output_type": "execute_result"
    }
   ],
   "source": [
    "locations"
   ]
  },
  {
   "cell_type": "code",
   "execution_count": 225,
   "id": "33c17c06",
   "metadata": {},
   "outputs": [],
   "source": [
    "location_freq = locations.groupby(['location_id','profile_id']).count()"
   ]
  },
  {
   "cell_type": "code",
   "execution_count": 226,
   "id": "adb8bb59",
   "metadata": {},
   "outputs": [
    {
     "data": {
      "text/html": [
       "<div>\n",
       "<style scoped>\n",
       "    .dataframe tbody tr th:only-of-type {\n",
       "        vertical-align: middle;\n",
       "    }\n",
       "\n",
       "    .dataframe tbody tr th {\n",
       "        vertical-align: top;\n",
       "    }\n",
       "\n",
       "    .dataframe thead th {\n",
       "        text-align: right;\n",
       "    }\n",
       "</style>\n",
       "<table border=\"1\" class=\"dataframe\">\n",
       "  <thead>\n",
       "    <tr style=\"text-align: right;\">\n",
       "      <th></th>\n",
       "      <th></th>\n",
       "      <th>post_id</th>\n",
       "    </tr>\n",
       "    <tr>\n",
       "      <th>location_id</th>\n",
       "      <th>profile_id</th>\n",
       "      <th></th>\n",
       "    </tr>\n",
       "  </thead>\n",
       "  <tbody>\n",
       "    <tr>\n",
       "      <th rowspan=\"2\" valign=\"top\">0.000000e+00</th>\n",
       "      <th>9.070254e+08</th>\n",
       "      <td>12</td>\n",
       "    </tr>\n",
       "    <tr>\n",
       "      <th>2.125507e+09</th>\n",
       "      <td>12</td>\n",
       "    </tr>\n",
       "    <tr>\n",
       "      <th>2.130118e+08</th>\n",
       "      <th>2.423993e+07</th>\n",
       "      <td>9</td>\n",
       "    </tr>\n",
       "    <tr>\n",
       "      <th rowspan=\"2\" valign=\"top\">0.000000e+00</th>\n",
       "      <th>4.968651e+08</th>\n",
       "      <td>7</td>\n",
       "    </tr>\n",
       "    <tr>\n",
       "      <th>5.041706e+07</th>\n",
       "      <td>5</td>\n",
       "    </tr>\n",
       "    <tr>\n",
       "      <th>...</th>\n",
       "      <th>...</th>\n",
       "      <td>...</td>\n",
       "    </tr>\n",
       "    <tr>\n",
       "      <th>2.389998e+08</th>\n",
       "      <th>2.502532e+07</th>\n",
       "      <td>1</td>\n",
       "    </tr>\n",
       "    <tr>\n",
       "      <th>2.368281e+08</th>\n",
       "      <th>5.041706e+07</th>\n",
       "      <td>1</td>\n",
       "    </tr>\n",
       "    <tr>\n",
       "      <th>2.343171e+08</th>\n",
       "      <th>2.082449e+07</th>\n",
       "      <td>1</td>\n",
       "    </tr>\n",
       "    <tr>\n",
       "      <th>2.293029e+08</th>\n",
       "      <th>2.341008e+07</th>\n",
       "      <td>1</td>\n",
       "    </tr>\n",
       "    <tr>\n",
       "      <th>2.019565e+15</th>\n",
       "      <th>4.968651e+08</th>\n",
       "      <td>1</td>\n",
       "    </tr>\n",
       "  </tbody>\n",
       "</table>\n",
       "<p>96 rows × 1 columns</p>\n",
       "</div>"
      ],
      "text/plain": [
       "                           post_id\n",
       "location_id  profile_id           \n",
       "0.000000e+00 9.070254e+08       12\n",
       "             2.125507e+09       12\n",
       "2.130118e+08 2.423993e+07        9\n",
       "0.000000e+00 4.968651e+08        7\n",
       "             5.041706e+07        5\n",
       "...                            ...\n",
       "2.389998e+08 2.502532e+07        1\n",
       "2.368281e+08 5.041706e+07        1\n",
       "2.343171e+08 2.082449e+07        1\n",
       "2.293029e+08 2.341008e+07        1\n",
       "2.019565e+15 4.968651e+08        1\n",
       "\n",
       "[96 rows x 1 columns]"
      ]
     },
     "execution_count": 226,
     "metadata": {},
     "output_type": "execute_result"
    }
   ],
   "source": [
    "location_freq.sort_values(by = 'post_id', ascending = False)"
   ]
  },
  {
   "cell_type": "markdown",
   "id": "8bb5464d",
   "metadata": {},
   "source": [
    "How many pictures-only posts have they published? How many reels? (only videos) and how many with both contents? Provide the number as percentages and interpret those figures."
   ]
  },
  {
   "cell_type": "code",
   "execution_count": 8,
   "id": "b70bf45b",
   "metadata": {},
   "outputs": [],
   "source": [
    "post = data_post.fillna(0)"
   ]
  },
  {
   "cell_type": "code",
   "execution_count": 113,
   "id": "522d58f7",
   "metadata": {},
   "outputs": [],
   "source": [
    "#create a sub-dataframe \n",
    "merged_2 = pd.merge(selected['profile_id'], data_post[['profile_id','post_id','post_type','numbr_likes','number_comments']], on = 'profile_id', how = \"left\")"
   ]
  },
  {
   "cell_type": "code",
   "execution_count": 114,
   "id": "d7111c44",
   "metadata": {},
   "outputs": [
    {
     "data": {
      "text/html": [
       "<div>\n",
       "<style scoped>\n",
       "    .dataframe tbody tr th:only-of-type {\n",
       "        vertical-align: middle;\n",
       "    }\n",
       "\n",
       "    .dataframe tbody tr th {\n",
       "        vertical-align: top;\n",
       "    }\n",
       "\n",
       "    .dataframe thead th {\n",
       "        text-align: right;\n",
       "    }\n",
       "</style>\n",
       "<table border=\"1\" class=\"dataframe\">\n",
       "  <thead>\n",
       "    <tr style=\"text-align: right;\">\n",
       "      <th></th>\n",
       "      <th>profile_id</th>\n",
       "      <th>post_id</th>\n",
       "      <th>post_type</th>\n",
       "      <th>numbr_likes</th>\n",
       "      <th>number_comments</th>\n",
       "    </tr>\n",
       "  </thead>\n",
       "  <tbody>\n",
       "    <tr>\n",
       "      <th>0</th>\n",
       "      <td>25025320.0</td>\n",
       "      <td>Ss3ULFBQeM</td>\n",
       "      <td>1</td>\n",
       "      <td>125428.0</td>\n",
       "      <td>1240.0</td>\n",
       "    </tr>\n",
       "    <tr>\n",
       "      <th>1</th>\n",
       "      <td>25025320.0</td>\n",
       "      <td>BeECzRuh1O6</td>\n",
       "      <td>1</td>\n",
       "      <td>669786.0</td>\n",
       "      <td>4818.0</td>\n",
       "    </tr>\n",
       "    <tr>\n",
       "      <th>2</th>\n",
       "      <td>25025320.0</td>\n",
       "      <td>Brl3hGMAxiy</td>\n",
       "      <td>1</td>\n",
       "      <td>1914299.0</td>\n",
       "      <td>20065.0</td>\n",
       "    </tr>\n",
       "    <tr>\n",
       "      <th>3</th>\n",
       "      <td>25025320.0</td>\n",
       "      <td>BZNHb3ijnDT</td>\n",
       "      <td>1</td>\n",
       "      <td>840588.0</td>\n",
       "      <td>3627.0</td>\n",
       "    </tr>\n",
       "    <tr>\n",
       "      <th>4</th>\n",
       "      <td>25025320.0</td>\n",
       "      <td>uvObMahQV4</td>\n",
       "      <td>1</td>\n",
       "      <td>385494.0</td>\n",
       "      <td>5664.0</td>\n",
       "    </tr>\n",
       "    <tr>\n",
       "      <th>...</th>\n",
       "      <td>...</td>\n",
       "      <td>...</td>\n",
       "      <td>...</td>\n",
       "      <td>...</td>\n",
       "      <td>...</td>\n",
       "    </tr>\n",
       "    <tr>\n",
       "      <th>136</th>\n",
       "      <td>907025384.0</td>\n",
       "      <td>Bwt0a6unVO0</td>\n",
       "      <td>1</td>\n",
       "      <td>241543.0</td>\n",
       "      <td>1152.0</td>\n",
       "    </tr>\n",
       "    <tr>\n",
       "      <th>137</th>\n",
       "      <td>907025384.0</td>\n",
       "      <td>BwqyXzInHvZ</td>\n",
       "      <td>1</td>\n",
       "      <td>797506.0</td>\n",
       "      <td>2733.0</td>\n",
       "    </tr>\n",
       "    <tr>\n",
       "      <th>138</th>\n",
       "      <td>907025384.0</td>\n",
       "      <td>Bwmmqhpn2gs</td>\n",
       "      <td>1</td>\n",
       "      <td>921671.0</td>\n",
       "      <td>9349.0</td>\n",
       "    </tr>\n",
       "    <tr>\n",
       "      <th>139</th>\n",
       "      <td>907025384.0</td>\n",
       "      <td>BwmiC_ZHyF8</td>\n",
       "      <td>1</td>\n",
       "      <td>1402087.0</td>\n",
       "      <td>16180.0</td>\n",
       "    </tr>\n",
       "    <tr>\n",
       "      <th>140</th>\n",
       "      <td>907025384.0</td>\n",
       "      <td>Bwihlb2HmHo</td>\n",
       "      <td>1</td>\n",
       "      <td>1646010.0</td>\n",
       "      <td>5548.0</td>\n",
       "    </tr>\n",
       "  </tbody>\n",
       "</table>\n",
       "<p>141 rows × 5 columns</p>\n",
       "</div>"
      ],
      "text/plain": [
       "      profile_id      post_id  post_type  numbr_likes  number_comments\n",
       "0     25025320.0   Ss3ULFBQeM          1     125428.0           1240.0\n",
       "1     25025320.0  BeECzRuh1O6          1     669786.0           4818.0\n",
       "2     25025320.0  Brl3hGMAxiy          1    1914299.0          20065.0\n",
       "3     25025320.0  BZNHb3ijnDT          1     840588.0           3627.0\n",
       "4     25025320.0   uvObMahQV4          1     385494.0           5664.0\n",
       "..           ...          ...        ...          ...              ...\n",
       "136  907025384.0  Bwt0a6unVO0          1     241543.0           1152.0\n",
       "137  907025384.0  BwqyXzInHvZ          1     797506.0           2733.0\n",
       "138  907025384.0  Bwmmqhpn2gs          1     921671.0           9349.0\n",
       "139  907025384.0  BwmiC_ZHyF8          1    1402087.0          16180.0\n",
       "140  907025384.0  Bwihlb2HmHo          1    1646010.0           5548.0\n",
       "\n",
       "[141 rows x 5 columns]"
      ]
     },
     "execution_count": 114,
     "metadata": {},
     "output_type": "execute_result"
    }
   ],
   "source": [
    "merged_2"
   ]
  },
  {
   "cell_type": "code",
   "execution_count": 115,
   "id": "5c5d0431",
   "metadata": {},
   "outputs": [
    {
     "data": {
      "text/plain": [
       "1    128\n",
       "2     13\n",
       "Name: post_type, dtype: int64"
      ]
     },
     "execution_count": 115,
     "metadata": {},
     "output_type": "execute_result"
    }
   ],
   "source": [
    "merged_2['post_type'].value_counts()\n",
    "#top 10 popular users just share type 1 and 2;in other words, photo and video"
   ]
  },
  {
   "cell_type": "code",
   "execution_count": 116,
   "id": "6d864274",
   "metadata": {},
   "outputs": [
    {
     "data": {
      "image/png": "[encoded data removed]",
      "text/plain": [
       "<Figure size 432x288 with 1 Axes>"
      ]
     },
     "metadata": {},
     "output_type": "display_data"
    }
   ],
   "source": [
    "my_labels = 'Photo','Video'\n",
    "my_colors = ['lightblue','lightcoral']\n",
    "plt.pie(merged_2['post_type'].value_counts(), labels = my_labels, autopct = '%1.1f%%', startangle = 10, colors = my_colors)\n",
    "plt.title('Post Type')\n",
    "plt.axis('equal')\n",
    "plt.show()"
   ]
  },
  {
   "cell_type": "markdown",
   "id": "33bfc589",
   "metadata": {},
   "source": [
    "How many \"likes\" and comments did posts with only pictures receive? How about videos and mixed posts? Try to provide the average numbers and confront them with their followers amount, explaining what you can say from that comparison."
   ]
  },
  {
   "cell_type": "code",
   "execution_count": 131,
   "id": "b9a0f26b",
   "metadata": {},
   "outputs": [],
   "source": [
    "#create sub-dataframe based on type of post\n",
    "photo = merged_2[merged_2['post_type'] == 1]\n",
    "video = merged_2[merged_2['post_type'] == 2]\n",
    "both  = merged_2[merged_2['post_type'] == 3]"
   ]
  },
  {
   "cell_type": "code",
   "execution_count": 132,
   "id": "87522bf8",
   "metadata": {},
   "outputs": [],
   "source": [
    "#the number of rows in each sub-data frame\n",
    "n_photo = len(photo)\n",
    "n_video = len(video)\n",
    "n_both  = len(both)"
   ]
  },
  {
   "cell_type": "code",
   "execution_count": 133,
   "id": "025a0db7",
   "metadata": {},
   "outputs": [
    {
     "name": "stdout",
     "output_type": "stream",
     "text": [
      "128\n",
      "13\n",
      "0\n"
     ]
    }
   ],
   "source": [
    "print(n_photo)\n",
    "print(n_video)\n",
    "print(n_both)\n",
    "#top 10 profiles just share photo and video"
   ]
  },
  {
   "cell_type": "code",
   "execution_count": 137,
   "id": "f4fc4208",
   "metadata": {},
   "outputs": [
    {
     "data": {
      "text/html": [
       "<div>\n",
       "<style scoped>\n",
       "    .dataframe tbody tr th:only-of-type {\n",
       "        vertical-align: middle;\n",
       "    }\n",
       "\n",
       "    .dataframe tbody tr th {\n",
       "        vertical-align: top;\n",
       "    }\n",
       "\n",
       "    .dataframe thead th {\n",
       "        text-align: right;\n",
       "    }\n",
       "</style>\n",
       "<table border=\"1\" class=\"dataframe\">\n",
       "  <thead>\n",
       "    <tr style=\"text-align: right;\">\n",
       "      <th></th>\n",
       "      <th></th>\n",
       "      <th>numbr_likes</th>\n",
       "      <th>number_comments</th>\n",
       "    </tr>\n",
       "    <tr>\n",
       "      <th>profile_id</th>\n",
       "      <th>post_type</th>\n",
       "      <th></th>\n",
       "      <th></th>\n",
       "    </tr>\n",
       "  </thead>\n",
       "  <tbody>\n",
       "    <tr>\n",
       "      <th>3.416684e+06</th>\n",
       "      <th>1</th>\n",
       "      <td>1153749.0</td>\n",
       "      <td>2192.0</td>\n",
       "    </tr>\n",
       "    <tr>\n",
       "      <th>2.082449e+07</th>\n",
       "      <th>1</th>\n",
       "      <td>3149064.0</td>\n",
       "      <td>14142.0</td>\n",
       "    </tr>\n",
       "    <tr>\n",
       "      <th>2.341008e+07</th>\n",
       "      <th>1</th>\n",
       "      <td>162427.0</td>\n",
       "      <td>730.0</td>\n",
       "    </tr>\n",
       "    <tr>\n",
       "      <th>2.423993e+07</th>\n",
       "      <th>1</th>\n",
       "      <td>3263087.0</td>\n",
       "      <td>17421.0</td>\n",
       "    </tr>\n",
       "    <tr>\n",
       "      <th>2.502532e+07</th>\n",
       "      <th>1</th>\n",
       "      <td>28083937.0</td>\n",
       "      <td>207802.0</td>\n",
       "    </tr>\n",
       "    <tr>\n",
       "      <th>5.041706e+07</th>\n",
       "      <th>1</th>\n",
       "      <td>12946699.0</td>\n",
       "      <td>128921.0</td>\n",
       "    </tr>\n",
       "    <tr>\n",
       "      <th>1.876191e+08</th>\n",
       "      <th>1</th>\n",
       "      <td>186857.0</td>\n",
       "      <td>867.0</td>\n",
       "    </tr>\n",
       "    <tr>\n",
       "      <th>4.968651e+08</th>\n",
       "      <th>1</th>\n",
       "      <td>5676272.0</td>\n",
       "      <td>26845.0</td>\n",
       "    </tr>\n",
       "    <tr>\n",
       "      <th>9.070254e+08</th>\n",
       "      <th>1</th>\n",
       "      <td>13352324.0</td>\n",
       "      <td>85572.0</td>\n",
       "    </tr>\n",
       "    <tr>\n",
       "      <th>2.125507e+09</th>\n",
       "      <th>1</th>\n",
       "      <td>1311218.0</td>\n",
       "      <td>12521.0</td>\n",
       "    </tr>\n",
       "  </tbody>\n",
       "</table>\n",
       "</div>"
      ],
      "text/plain": [
       "                        numbr_likes  number_comments\n",
       "profile_id   post_type                              \n",
       "3.416684e+06 1            1153749.0           2192.0\n",
       "2.082449e+07 1            3149064.0          14142.0\n",
       "2.341008e+07 1             162427.0            730.0\n",
       "2.423993e+07 1            3263087.0          17421.0\n",
       "2.502532e+07 1           28083937.0         207802.0\n",
       "5.041706e+07 1           12946699.0         128921.0\n",
       "1.876191e+08 1             186857.0            867.0\n",
       "4.968651e+08 1            5676272.0          26845.0\n",
       "9.070254e+08 1           13352324.0          85572.0\n",
       "2.125507e+09 1            1311218.0          12521.0"
      ]
     },
     "execution_count": 137,
     "metadata": {},
     "output_type": "execute_result"
    }
   ],
   "source": [
    "#the average of likes and comments for their photo\n",
    "avg_photo = photo.groupby(['profile_id','post_type']).agg('sum')\n",
    "avg_photo"
   ]
  },
  {
   "cell_type": "code",
   "execution_count": 138,
   "id": "f7a1d6e2",
   "metadata": {},
   "outputs": [
    {
     "data": {
      "text/html": [
       "<div>\n",
       "<style scoped>\n",
       "    .dataframe tbody tr th:only-of-type {\n",
       "        vertical-align: middle;\n",
       "    }\n",
       "\n",
       "    .dataframe tbody tr th {\n",
       "        vertical-align: top;\n",
       "    }\n",
       "\n",
       "    .dataframe thead th {\n",
       "        text-align: right;\n",
       "    }\n",
       "</style>\n",
       "<table border=\"1\" class=\"dataframe\">\n",
       "  <thead>\n",
       "    <tr style=\"text-align: right;\">\n",
       "      <th></th>\n",
       "      <th></th>\n",
       "      <th>numbr_likes</th>\n",
       "      <th>number_comments</th>\n",
       "    </tr>\n",
       "    <tr>\n",
       "      <th>profile_id</th>\n",
       "      <th>post_type</th>\n",
       "      <th></th>\n",
       "      <th></th>\n",
       "    </tr>\n",
       "  </thead>\n",
       "  <tbody>\n",
       "    <tr>\n",
       "      <th>3416684.0</th>\n",
       "      <th>2</th>\n",
       "      <td>522816.0</td>\n",
       "      <td>1166.0</td>\n",
       "    </tr>\n",
       "    <tr>\n",
       "      <th>20824486.0</th>\n",
       "      <th>2</th>\n",
       "      <td>1036478.0</td>\n",
       "      <td>5134.0</td>\n",
       "    </tr>\n",
       "    <tr>\n",
       "      <th>24239929.0</th>\n",
       "      <th>2</th>\n",
       "      <td>125291.0</td>\n",
       "      <td>2710.0</td>\n",
       "    </tr>\n",
       "    <tr>\n",
       "      <th>25025320.0</th>\n",
       "      <th>2</th>\n",
       "      <td>1780229.0</td>\n",
       "      <td>17248.0</td>\n",
       "    </tr>\n",
       "  </tbody>\n",
       "</table>\n",
       "</div>"
      ],
      "text/plain": [
       "                      numbr_likes  number_comments\n",
       "profile_id post_type                              \n",
       "3416684.0  2             522816.0           1166.0\n",
       "20824486.0 2            1036478.0           5134.0\n",
       "24239929.0 2             125291.0           2710.0\n",
       "25025320.0 2            1780229.0          17248.0"
      ]
     },
     "execution_count": 138,
     "metadata": {},
     "output_type": "execute_result"
    }
   ],
   "source": [
    "#the average of likes and comments for their video\n",
    "avg_video =  video.groupby(['profile_id','post_type']).agg('sum')\n",
    "avg_video"
   ]
  },
  {
   "cell_type": "code",
   "execution_count": 139,
   "id": "1c7b91b4",
   "metadata": {},
   "outputs": [],
   "source": [
    "#the average of followers\n",
    "merged_3 = pd.merge(avg_photo, avg_video, on = 'profile_id', how = \"left\")"
   ]
  },
  {
   "cell_type": "code",
   "execution_count": 140,
   "id": "81a9af19",
   "metadata": {},
   "outputs": [
    {
     "data": {
      "text/html": [
       "<div>\n",
       "<style scoped>\n",
       "    .dataframe tbody tr th:only-of-type {\n",
       "        vertical-align: middle;\n",
       "    }\n",
       "\n",
       "    .dataframe tbody tr th {\n",
       "        vertical-align: top;\n",
       "    }\n",
       "\n",
       "    .dataframe thead th {\n",
       "        text-align: right;\n",
       "    }\n",
       "</style>\n",
       "<table border=\"1\" class=\"dataframe\">\n",
       "  <thead>\n",
       "    <tr style=\"text-align: right;\">\n",
       "      <th></th>\n",
       "      <th>numbr_likes_x</th>\n",
       "      <th>number_comments_x</th>\n",
       "      <th>numbr_likes_y</th>\n",
       "      <th>number_comments_y</th>\n",
       "    </tr>\n",
       "    <tr>\n",
       "      <th>profile_id</th>\n",
       "      <th></th>\n",
       "      <th></th>\n",
       "      <th></th>\n",
       "      <th></th>\n",
       "    </tr>\n",
       "  </thead>\n",
       "  <tbody>\n",
       "    <tr>\n",
       "      <th>3.416684e+06</th>\n",
       "      <td>1153749.0</td>\n",
       "      <td>2192.0</td>\n",
       "      <td>522816.0</td>\n",
       "      <td>1166.0</td>\n",
       "    </tr>\n",
       "    <tr>\n",
       "      <th>2.082449e+07</th>\n",
       "      <td>3149064.0</td>\n",
       "      <td>14142.0</td>\n",
       "      <td>1036478.0</td>\n",
       "      <td>5134.0</td>\n",
       "    </tr>\n",
       "    <tr>\n",
       "      <th>2.341008e+07</th>\n",
       "      <td>162427.0</td>\n",
       "      <td>730.0</td>\n",
       "      <td>NaN</td>\n",
       "      <td>NaN</td>\n",
       "    </tr>\n",
       "    <tr>\n",
       "      <th>2.423993e+07</th>\n",
       "      <td>3263087.0</td>\n",
       "      <td>17421.0</td>\n",
       "      <td>125291.0</td>\n",
       "      <td>2710.0</td>\n",
       "    </tr>\n",
       "    <tr>\n",
       "      <th>2.502532e+07</th>\n",
       "      <td>28083937.0</td>\n",
       "      <td>207802.0</td>\n",
       "      <td>1780229.0</td>\n",
       "      <td>17248.0</td>\n",
       "    </tr>\n",
       "    <tr>\n",
       "      <th>5.041706e+07</th>\n",
       "      <td>12946699.0</td>\n",
       "      <td>128921.0</td>\n",
       "      <td>NaN</td>\n",
       "      <td>NaN</td>\n",
       "    </tr>\n",
       "    <tr>\n",
       "      <th>1.876191e+08</th>\n",
       "      <td>186857.0</td>\n",
       "      <td>867.0</td>\n",
       "      <td>NaN</td>\n",
       "      <td>NaN</td>\n",
       "    </tr>\n",
       "    <tr>\n",
       "      <th>4.968651e+08</th>\n",
       "      <td>5676272.0</td>\n",
       "      <td>26845.0</td>\n",
       "      <td>NaN</td>\n",
       "      <td>NaN</td>\n",
       "    </tr>\n",
       "    <tr>\n",
       "      <th>9.070254e+08</th>\n",
       "      <td>13352324.0</td>\n",
       "      <td>85572.0</td>\n",
       "      <td>NaN</td>\n",
       "      <td>NaN</td>\n",
       "    </tr>\n",
       "    <tr>\n",
       "      <th>2.125507e+09</th>\n",
       "      <td>1311218.0</td>\n",
       "      <td>12521.0</td>\n",
       "      <td>NaN</td>\n",
       "      <td>NaN</td>\n",
       "    </tr>\n",
       "  </tbody>\n",
       "</table>\n",
       "</div>"
      ],
      "text/plain": [
       "              numbr_likes_x  number_comments_x  numbr_likes_y  \\\n",
       "profile_id                                                      \n",
       "3.416684e+06      1153749.0             2192.0       522816.0   \n",
       "2.082449e+07      3149064.0            14142.0      1036478.0   \n",
       "2.341008e+07       162427.0              730.0            NaN   \n",
       "2.423993e+07      3263087.0            17421.0       125291.0   \n",
       "2.502532e+07     28083937.0           207802.0      1780229.0   \n",
       "5.041706e+07     12946699.0           128921.0            NaN   \n",
       "1.876191e+08       186857.0              867.0            NaN   \n",
       "4.968651e+08      5676272.0            26845.0            NaN   \n",
       "9.070254e+08     13352324.0            85572.0            NaN   \n",
       "2.125507e+09      1311218.0            12521.0            NaN   \n",
       "\n",
       "              number_comments_y  \n",
       "profile_id                       \n",
       "3.416684e+06             1166.0  \n",
       "2.082449e+07             5134.0  \n",
       "2.341008e+07                NaN  \n",
       "2.423993e+07             2710.0  \n",
       "2.502532e+07            17248.0  \n",
       "5.041706e+07                NaN  \n",
       "1.876191e+08                NaN  \n",
       "4.968651e+08                NaN  \n",
       "9.070254e+08                NaN  \n",
       "2.125507e+09                NaN  "
      ]
     },
     "execution_count": 140,
     "metadata": {},
     "output_type": "execute_result"
    }
   ],
   "source": [
    "merged_3"
   ]
  },
  {
   "cell_type": "code",
   "execution_count": 141,
   "id": "616269c3",
   "metadata": {},
   "outputs": [],
   "source": [
    "merged_4 = pd.merge(selected[['profile_id','profile_name','followers']], merged_3, on = 'profile_id', how = \"left\")"
   ]
  },
  {
   "cell_type": "code",
   "execution_count": 149,
   "id": "3623834b",
   "metadata": {},
   "outputs": [],
   "source": [
    "#rename columns\n",
    "merged_4.columns = ['profile_id','profile_name','followers','PhotoLikeNumber','PhotoCmNumber','VideoLikeNumber','VideoCmNumber']"
   ]
  },
  {
   "cell_type": "code",
   "execution_count": 168,
   "id": "4f2f4faf",
   "metadata": {},
   "outputs": [],
   "source": [
    "merged_4.sort_values(by='followers', inplace = True)"
   ]
  },
  {
   "cell_type": "code",
   "execution_count": 169,
   "id": "a5701256",
   "metadata": {},
   "outputs": [
    {
     "data": {
      "text/html": [
       "<div>\n",
       "<style scoped>\n",
       "    .dataframe tbody tr th:only-of-type {\n",
       "        vertical-align: middle;\n",
       "    }\n",
       "\n",
       "    .dataframe tbody tr th {\n",
       "        vertical-align: top;\n",
       "    }\n",
       "\n",
       "    .dataframe thead th {\n",
       "        text-align: right;\n",
       "    }\n",
       "</style>\n",
       "<table border=\"1\" class=\"dataframe\">\n",
       "  <thead>\n",
       "    <tr style=\"text-align: right;\">\n",
       "      <th></th>\n",
       "      <th>profile_id</th>\n",
       "      <th>profile_name</th>\n",
       "      <th>followers</th>\n",
       "      <th>PhotoLikeNumber</th>\n",
       "      <th>PhotoCmNumber</th>\n",
       "      <th>VideoLikeNumber</th>\n",
       "      <th>VideoCmNumber</th>\n",
       "    </tr>\n",
       "  </thead>\n",
       "  <tbody>\n",
       "    <tr>\n",
       "      <th>9</th>\n",
       "      <td>9.070254e+08</td>\n",
       "      <td>akshaykumar</td>\n",
       "      <td>26252169.0</td>\n",
       "      <td>13352324.0</td>\n",
       "      <td>85572.0</td>\n",
       "      <td>NaN</td>\n",
       "      <td>NaN</td>\n",
       "    </tr>\n",
       "    <tr>\n",
       "      <th>8</th>\n",
       "      <td>5.041706e+07</td>\n",
       "      <td>danbilzerian</td>\n",
       "      <td>26476004.0</td>\n",
       "      <td>12946699.0</td>\n",
       "      <td>128921.0</td>\n",
       "      <td>NaN</td>\n",
       "      <td>NaN</td>\n",
       "    </tr>\n",
       "    <tr>\n",
       "      <th>7</th>\n",
       "      <td>2.423993e+07</td>\n",
       "      <td>princessyahrini</td>\n",
       "      <td>29042823.0</td>\n",
       "      <td>3263087.0</td>\n",
       "      <td>17421.0</td>\n",
       "      <td>125291.0</td>\n",
       "      <td>2710.0</td>\n",
       "    </tr>\n",
       "    <tr>\n",
       "      <th>6</th>\n",
       "      <td>2.341008e+07</td>\n",
       "      <td>hm</td>\n",
       "      <td>29176804.0</td>\n",
       "      <td>162427.0</td>\n",
       "      <td>730.0</td>\n",
       "      <td>NaN</td>\n",
       "      <td>NaN</td>\n",
       "    </tr>\n",
       "    <tr>\n",
       "      <th>5</th>\n",
       "      <td>4.968651e+08</td>\n",
       "      <td>andresiniesta8</td>\n",
       "      <td>29542143.0</td>\n",
       "      <td>5676272.0</td>\n",
       "      <td>26845.0</td>\n",
       "      <td>NaN</td>\n",
       "      <td>NaN</td>\n",
       "    </tr>\n",
       "    <tr>\n",
       "      <th>4</th>\n",
       "      <td>2.125507e+09</td>\n",
       "      <td>buzzfeedtasty</td>\n",
       "      <td>30246783.0</td>\n",
       "      <td>1311218.0</td>\n",
       "      <td>12521.0</td>\n",
       "      <td>NaN</td>\n",
       "      <td>NaN</td>\n",
       "    </tr>\n",
       "    <tr>\n",
       "      <th>3</th>\n",
       "      <td>1.876191e+08</td>\n",
       "      <td>louisvuitton</td>\n",
       "      <td>30689316.0</td>\n",
       "      <td>186857.0</td>\n",
       "      <td>867.0</td>\n",
       "      <td>NaN</td>\n",
       "      <td>NaN</td>\n",
       "    </tr>\n",
       "    <tr>\n",
       "      <th>2</th>\n",
       "      <td>2.082449e+07</td>\n",
       "      <td>nba</td>\n",
       "      <td>35339708.0</td>\n",
       "      <td>3149064.0</td>\n",
       "      <td>14142.0</td>\n",
       "      <td>1036478.0</td>\n",
       "      <td>5134.0</td>\n",
       "    </tr>\n",
       "    <tr>\n",
       "      <th>1</th>\n",
       "      <td>3.416684e+06</td>\n",
       "      <td>victoriassecret</td>\n",
       "      <td>65269440.0</td>\n",
       "      <td>1153749.0</td>\n",
       "      <td>2192.0</td>\n",
       "      <td>522816.0</td>\n",
       "      <td>1166.0</td>\n",
       "    </tr>\n",
       "    <tr>\n",
       "      <th>0</th>\n",
       "      <td>2.502532e+07</td>\n",
       "      <td>instagram</td>\n",
       "      <td>285457645.0</td>\n",
       "      <td>28083937.0</td>\n",
       "      <td>207802.0</td>\n",
       "      <td>1780229.0</td>\n",
       "      <td>17248.0</td>\n",
       "    </tr>\n",
       "  </tbody>\n",
       "</table>\n",
       "</div>"
      ],
      "text/plain": [
       "     profile_id     profile_name    followers  PhotoLikeNumber  PhotoCmNumber  \\\n",
       "9  9.070254e+08      akshaykumar   26252169.0       13352324.0        85572.0   \n",
       "8  5.041706e+07     danbilzerian   26476004.0       12946699.0       128921.0   \n",
       "7  2.423993e+07  princessyahrini   29042823.0        3263087.0        17421.0   \n",
       "6  2.341008e+07               hm   29176804.0         162427.0          730.0   \n",
       "5  4.968651e+08   andresiniesta8   29542143.0        5676272.0        26845.0   \n",
       "4  2.125507e+09    buzzfeedtasty   30246783.0        1311218.0        12521.0   \n",
       "3  1.876191e+08     louisvuitton   30689316.0         186857.0          867.0   \n",
       "2  2.082449e+07              nba   35339708.0        3149064.0        14142.0   \n",
       "1  3.416684e+06  victoriassecret   65269440.0        1153749.0         2192.0   \n",
       "0  2.502532e+07        instagram  285457645.0       28083937.0       207802.0   \n",
       "\n",
       "   VideoLikeNumber  VideoCmNumber  \n",
       "9              NaN            NaN  \n",
       "8              NaN            NaN  \n",
       "7         125291.0         2710.0  \n",
       "6              NaN            NaN  \n",
       "5              NaN            NaN  \n",
       "4              NaN            NaN  \n",
       "3              NaN            NaN  \n",
       "2        1036478.0         5134.0  \n",
       "1         522816.0         1166.0  \n",
       "0        1780229.0        17248.0  "
      ]
     },
     "execution_count": 169,
     "metadata": {},
     "output_type": "execute_result"
    }
   ],
   "source": [
    "merged_4"
   ]
  },
  {
   "cell_type": "code",
   "execution_count": 181,
   "id": "b7ac81ea",
   "metadata": {},
   "outputs": [
    {
     "data": {
      "text/plain": [
       "<AxesSubplot:xlabel='followers'>"
      ]
     },
     "execution_count": 181,
     "metadata": {},
     "output_type": "execute_result"
    },
    {
     "data": {
      "image/png": "[encoded data removed]",
      "text/plain": [
       "<Figure size 432x288 with 1 Axes>"
      ]
     },
     "metadata": {
      "needs_background": "light"
     },
     "output_type": "display_data"
    }
   ],
   "source": [
    "merged_4.plot.bar( x = 'followers', y = 'PhotoLikeNumber', color = 'orange')"
   ]
  },
  {
   "cell_type": "code",
   "execution_count": 180,
   "id": "4d4d7bd0",
   "metadata": {},
   "outputs": [
    {
     "data": {
      "text/plain": [
       "<AxesSubplot:xlabel='followers'>"
      ]
     },
     "execution_count": 180,
     "metadata": {},
     "output_type": "execute_result"
    },
    {
     "data": {
      "image/png": "[encoded data removed]",
      "text/plain": [
       "<Figure size 432x288 with 1 Axes>"
      ]
     },
     "metadata": {
      "needs_background": "light"
     },
     "output_type": "display_data"
    }
   ],
   "source": [
    "merged_4.plot.bar( x = 'followers', y = 'PhotoCmNumber', color = 'coral')"
   ]
  },
  {
   "cell_type": "code",
   "execution_count": 179,
   "id": "ae40975e",
   "metadata": {},
   "outputs": [
    {
     "data": {
      "text/plain": [
       "<AxesSubplot:xlabel='followers'>"
      ]
     },
     "execution_count": 179,
     "metadata": {},
     "output_type": "execute_result"
    },
    {
     "data": {
      "image/png": "[encoded data removed]",
      "text/plain": [
       "<Figure size 432x288 with 1 Axes>"
      ]
     },
     "metadata": {
      "needs_background": "light"
     },
     "output_type": "display_data"
    }
   ],
   "source": [
    "merged_4.plot.bar( x = 'followers', y = 'VideoLikeNumber', color = 'plum')"
   ]
  },
  {
   "cell_type": "code",
   "execution_count": 176,
   "id": "722cd74d",
   "metadata": {},
   "outputs": [
    {
     "data": {
      "text/plain": [
       "<AxesSubplot:xlabel='VideoCmNumber'>"
      ]
     },
     "execution_count": 176,
     "metadata": {},
     "output_type": "execute_result"
    },
    {
     "data": {
      "image/png": "[encoded data removed]",
      "text/plain": [
       "<Figure size 432x288 with 1 Axes>"
      ]
     },
     "metadata": {
      "needs_background": "light"
     },
     "output_type": "display_data"
    }
   ],
   "source": [
    "merged_4.plot.bar( x = 'VideoCmNumber',y = 'followers', color = 'purple')"
   ]
  },
  {
   "cell_type": "code",
   "execution_count": null,
   "id": "fe8cda22",
   "metadata": {},
   "outputs": [],
   "source": []
  }
 ],
 "metadata": {
  "kernelspec": {
   "display_name": "Python 3 (ipykernel)",
   "language": "python",
   "name": "python3"
  },
  "language_info": {
   "codemirror_mode": {
    "name": "ipython",
    "version": 3
   },
   "file_extension": ".py",
   "mimetype": "text/x-python",
   "name": "python",
   "nbconvert_exporter": "python",
   "pygments_lexer": "ipython3",
   "version": "3.10.1"
  }
 },
 "nbformat": 4,
 "nbformat_minor": 5
}
