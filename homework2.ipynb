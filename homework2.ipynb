{
 "cells": [
  {
   "cell_type": "code",
   "execution_count": 1,
   "metadata": {},
   "outputs": [],
   "source": [
    "\n",
    "import pandas as pd\n",
    "import matplotlib.pyplot as plt\n",
    "\n",
    "datalocation = pd.read_csv('instagram_locations.csv',delimiter='\\t')\n",
    "dataprofile = pd.read_csv('instagram_profiles.csv',delimiter='\\t')\n",
    "\n"
   ]
  },
  {
   "cell_type": "code",
   "execution_count": null,
   "metadata": {},
   "outputs": [],
   "source": [
    "datapost = pd.read_csv('instagram_posts.zip', delimiter='\\t')"
   ]
  },
  {
   "cell_type": "code",
   "execution_count": 4,
   "metadata": {},
   "outputs": [],
   "source": [
    "\n",
    "\n",
    "dataprofile.firstname_lastname.fillna('', inplace=True)\n",
    "dataprofile.url.fillna('', inplace=True)\n",
    "\n",
    "dataprofile.is_business_account.fillna(False, inplace=True)\n",
    "dataprofile.following.fillna(0, inplace=True)\n",
    "dataprofile.followers.fillna(0, inplace=True)\n",
    "dataprofile.n_posts.fillna(0, inplace=True)\n",
    "\n",
    "\n",
    "datalocation.street.fillna('',inplace=True)\n",
    "datalocation.zip.fillna('',inplace=True)\n",
    "datalocation.city.fillna('',inplace=True)\n",
    "datalocation.region.fillna('',inplace=True)\n",
    "datalocation.cd.fillna('',inplace=True)\n",
    "datalocation.phone.fillna('',inplace=True)\n",
    "datalocation.dir_city_id.fillna('',inplace=True)\n",
    "datalocation.dir_city_name.fillna('',inplace=True)\n",
    "datalocation.dir_city_slug.fillna('',inplace=True)\n",
    "datalocation.dir_country_id.fillna('',inplace=True)\n",
    "datalocation.dir_country_name.fillna('',inplace=True)\n",
    "datalocation.primary_alias_on_fb.fillna('',inplace=True)\n",
    "\n",
    "\n",
    "datapost.numbr_likes.fillna(0.0,inplace=True)\n",
    "datapost.number_comments.fillna(0.0,inplace=True)\n",
    "\n"
   ]
  },
  {
   "cell_type": "code",
   "execution_count": 5,
   "metadata": {},
   "outputs": [
    {
     "data": {
      "text/plain": [
       "3990313    183730.0\n",
       "2571453    142428.0\n",
       "4338921    126340.0\n",
       "3942129    125220.0\n",
       "4219642    117262.0\n",
       "             ...   \n",
       "2300812         0.0\n",
       "2300811         0.0\n",
       "2300810         0.0\n",
       "2300809         0.0\n",
       "4509585         0.0\n",
       "Name: n_posts, Length: 4509586, dtype: float64"
      ]
     },
     "execution_count": 5,
     "metadata": {},
     "output_type": "execute_result"
    }
   ],
   "source": [
    "#RQ2\n",
    "#1\n",
    "dataprofile.sort_values([\"n_posts\"],axis=0,ascending=[False],inplace=True)\n",
    "dataprofile.n_posts\n",
    "\n"
   ]
  },
  {
   "cell_type": "code",
   "execution_count": 6,
   "metadata": {},
   "outputs": [
    {
     "data": {
      "text/html": [
       "<div>\n",
       "<style scoped>\n",
       "    .dataframe tbody tr th:only-of-type {\n",
       "        vertical-align: middle;\n",
       "    }\n",
       "\n",
       "    .dataframe tbody tr th {\n",
       "        vertical-align: top;\n",
       "    }\n",
       "\n",
       "    .dataframe thead th {\n",
       "        text-align: right;\n",
       "    }\n",
       "</style>\n",
       "<table border=\"1\" class=\"dataframe\">\n",
       "  <thead>\n",
       "    <tr style=\"text-align: right;\">\n",
       "      <th></th>\n",
       "      <th>sid</th>\n",
       "      <th>sid_profile</th>\n",
       "      <th>post_id</th>\n",
       "      <th>profile_id</th>\n",
       "      <th>location_id</th>\n",
       "      <th>cts</th>\n",
       "      <th>post_type</th>\n",
       "      <th>description</th>\n",
       "      <th>numbr_likes</th>\n",
       "      <th>number_comments</th>\n",
       "    </tr>\n",
       "  </thead>\n",
       "  <tbody>\n",
       "    <tr>\n",
       "      <th>19624085</th>\n",
       "      <td>4768909</td>\n",
       "      <td>531404</td>\n",
       "      <td>Bt3yaXmAM0d</td>\n",
       "      <td>49067778.0</td>\n",
       "      <td>NaN</td>\n",
       "      <td>2019-02-14 18:07:43.000</td>\n",
       "      <td>1</td>\n",
       "      <td>You make me very happy. Happy Valentine’s Day,...</td>\n",
       "      <td>8822952.0</td>\n",
       "      <td>165886.0</td>\n",
       "    </tr>\n",
       "  </tbody>\n",
       "</table>\n",
       "</div>"
      ],
      "text/plain": [
       "              sid  sid_profile      post_id  profile_id  location_id  \\\n",
       "19624085  4768909       531404  Bt3yaXmAM0d  49067778.0          NaN   \n",
       "\n",
       "                              cts  post_type  \\\n",
       "19624085  2019-02-14 18:07:43.000          1   \n",
       "\n",
       "                                                description  numbr_likes  \\\n",
       "19624085  You make me very happy. Happy Valentine’s Day,...    8822952.0   \n",
       "\n",
       "          number_comments  \n",
       "19624085         165886.0  "
      ]
     },
     "execution_count": 6,
     "metadata": {},
     "output_type": "execute_result"
    }
   ],
   "source": [
    "#2\n",
    "a = max(datapost.numbr_likes)\n",
    "datapost[datapost.numbr_likes == a]"
   ]
  },
  {
   "cell_type": "code",
   "execution_count": 7,
   "metadata": {},
   "outputs": [
    {
     "data": {
      "text/html": [
       "<div>\n",
       "<style scoped>\n",
       "    .dataframe tbody tr th:only-of-type {\n",
       "        vertical-align: middle;\n",
       "    }\n",
       "\n",
       "    .dataframe tbody tr th {\n",
       "        vertical-align: top;\n",
       "    }\n",
       "\n",
       "    .dataframe thead th {\n",
       "        text-align: right;\n",
       "    }\n",
       "</style>\n",
       "<table border=\"1\" class=\"dataframe\">\n",
       "  <thead>\n",
       "    <tr style=\"text-align: right;\">\n",
       "      <th></th>\n",
       "      <th>sid</th>\n",
       "      <th>sid_profile</th>\n",
       "      <th>post_id</th>\n",
       "      <th>profile_id</th>\n",
       "      <th>location_id</th>\n",
       "      <th>cts</th>\n",
       "      <th>post_type</th>\n",
       "      <th>description</th>\n",
       "      <th>numbr_likes</th>\n",
       "      <th>number_comments</th>\n",
       "    </tr>\n",
       "  </thead>\n",
       "  <tbody>\n",
       "    <tr>\n",
       "      <th>41873060</th>\n",
       "      <td>27503892</td>\n",
       "      <td>-1</td>\n",
       "      <td>Bx2sPAjHviO</td>\n",
       "      <td>1.635670e+09</td>\n",
       "      <td>244000222.0</td>\n",
       "      <td>2019-05-24 20:00:04.000</td>\n",
       "      <td>1</td>\n",
       "      <td>Anne Oğul 🧡</td>\n",
       "      <td>38871.0</td>\n",
       "      <td>488953.0</td>\n",
       "    </tr>\n",
       "  </tbody>\n",
       "</table>\n",
       "</div>"
      ],
      "text/plain": [
       "               sid  sid_profile      post_id    profile_id  location_id  \\\n",
       "41873060  27503892           -1  Bx2sPAjHviO  1.635670e+09  244000222.0   \n",
       "\n",
       "                              cts  post_type  description  numbr_likes  \\\n",
       "41873060  2019-05-24 20:00:04.000          1  Anne Oğul 🧡      38871.0   \n",
       "\n",
       "          number_comments  \n",
       "41873060         488953.0  "
      ]
     },
     "execution_count": 7,
     "metadata": {},
     "output_type": "execute_result"
    }
   ],
   "source": [
    "#3.1\n",
    "maxcommenti = max(datapost.number_comments)\n",
    "datapost[datapost.number_comments == maxcommenti]\n"
   ]
  },
  {
   "cell_type": "code",
   "execution_count": 8,
   "metadata": {},
   "outputs": [
    {
     "data": {
      "text/html": [
       "<div>\n",
       "<style scoped>\n",
       "    .dataframe tbody tr th:only-of-type {\n",
       "        vertical-align: middle;\n",
       "    }\n",
       "\n",
       "    .dataframe tbody tr th {\n",
       "        vertical-align: top;\n",
       "    }\n",
       "\n",
       "    .dataframe thead th {\n",
       "        text-align: right;\n",
       "    }\n",
       "</style>\n",
       "<table border=\"1\" class=\"dataframe\">\n",
       "  <thead>\n",
       "    <tr style=\"text-align: right;\">\n",
       "      <th></th>\n",
       "      <th>sid</th>\n",
       "      <th>sid_profile</th>\n",
       "      <th>post_id</th>\n",
       "      <th>profile_id</th>\n",
       "      <th>location_id</th>\n",
       "      <th>cts</th>\n",
       "      <th>post_type</th>\n",
       "      <th>description</th>\n",
       "      <th>numbr_likes</th>\n",
       "      <th>number_comments</th>\n",
       "    </tr>\n",
       "  </thead>\n",
       "  <tbody>\n",
       "    <tr>\n",
       "      <th>0</th>\n",
       "      <td>28370919</td>\n",
       "      <td>3496776</td>\n",
       "      <td>BXdjjUlgcgq</td>\n",
       "      <td>2.237948e+09</td>\n",
       "      <td>1.022366e+15</td>\n",
       "      <td>2017-08-06 20:06:57.000</td>\n",
       "      <td>2</td>\n",
       "      <td>Wreckloose! Deevalley bike park laps on the @i...</td>\n",
       "      <td>80.0</td>\n",
       "      <td>0.0</td>\n",
       "    </tr>\n",
       "    <tr>\n",
       "      <th>2</th>\n",
       "      <td>28370933</td>\n",
       "      <td>-1</td>\n",
       "      <td>BRgkjcXFp3Q</td>\n",
       "      <td>3.134296e+08</td>\n",
       "      <td>4.574268e+14</td>\n",
       "      <td>2017-03-11 20:05:03.000</td>\n",
       "      <td>1</td>\n",
       "      <td>#meraviglia #incensi #the #candele #profumo #a...</td>\n",
       "      <td>9.0</td>\n",
       "      <td>0.0</td>\n",
       "    </tr>\n",
       "    <tr>\n",
       "      <th>3</th>\n",
       "      <td>28370934</td>\n",
       "      <td>-1</td>\n",
       "      <td>BKTKeNhjEA7</td>\n",
       "      <td>1.837593e+09</td>\n",
       "      <td>4.574268e+14</td>\n",
       "      <td>2016-09-13 16:27:16.000</td>\n",
       "      <td>1</td>\n",
       "      <td>#teatime #scorpion #friends #love #mountains #...</td>\n",
       "      <td>4.0</td>\n",
       "      <td>0.0</td>\n",
       "    </tr>\n",
       "    <tr>\n",
       "      <th>4</th>\n",
       "      <td>28370935</td>\n",
       "      <td>-1</td>\n",
       "      <td>8-NQrvoYLX</td>\n",
       "      <td>1.131527e+09</td>\n",
       "      <td>4.574268e+14</td>\n",
       "      <td>2015-10-18 10:19:27.000</td>\n",
       "      <td>1</td>\n",
       "      <td>thE sky gavE mE a #constEllation</td>\n",
       "      <td>8.0</td>\n",
       "      <td>0.0</td>\n",
       "    </tr>\n",
       "    <tr>\n",
       "      <th>11</th>\n",
       "      <td>28370965</td>\n",
       "      <td>-1</td>\n",
       "      <td>Bx-ptmpinBs</td>\n",
       "      <td>4.276275e+07</td>\n",
       "      <td>2.826187e+08</td>\n",
       "      <td>2019-05-27 22:11:58.000</td>\n",
       "      <td>1</td>\n",
       "      <td>Cheers! Returning to this café after 5 years.\\...</td>\n",
       "      <td>16.0</td>\n",
       "      <td>0.0</td>\n",
       "    </tr>\n",
       "    <tr>\n",
       "      <th>...</th>\n",
       "      <td>...</td>\n",
       "      <td>...</td>\n",
       "      <td>...</td>\n",
       "      <td>...</td>\n",
       "      <td>...</td>\n",
       "      <td>...</td>\n",
       "      <td>...</td>\n",
       "      <td>...</td>\n",
       "      <td>...</td>\n",
       "      <td>...</td>\n",
       "    </tr>\n",
       "    <tr>\n",
       "      <th>42710190</th>\n",
       "      <td>28370927</td>\n",
       "      <td>-1</td>\n",
       "      <td>BpeRbppFQ2l</td>\n",
       "      <td>7.012646e+09</td>\n",
       "      <td>4.574268e+14</td>\n",
       "      <td>2018-10-28 11:12:57.000</td>\n",
       "      <td>1</td>\n",
       "      <td>Ben size aşığım gerisinin ne önemi var ki..🌼🍃💓...</td>\n",
       "      <td>43.0</td>\n",
       "      <td>0.0</td>\n",
       "    </tr>\n",
       "    <tr>\n",
       "      <th>42710191</th>\n",
       "      <td>28370923</td>\n",
       "      <td>-1</td>\n",
       "      <td>Bdx3o7WDypu</td>\n",
       "      <td>6.891278e+09</td>\n",
       "      <td>4.574268e+14</td>\n",
       "      <td>2018-01-10 19:35:39.000</td>\n",
       "      <td>1</td>\n",
       "      <td>Many many HAPPY returns of the day star gbu st...</td>\n",
       "      <td>149.0</td>\n",
       "      <td>0.0</td>\n",
       "    </tr>\n",
       "    <tr>\n",
       "      <th>42710192</th>\n",
       "      <td>28370925</td>\n",
       "      <td>-1</td>\n",
       "      <td>BcpWMWGBfxh</td>\n",
       "      <td>5.556457e+09</td>\n",
       "      <td>4.574268e+14</td>\n",
       "      <td>2017-12-13 15:38:04.000</td>\n",
       "      <td>1</td>\n",
       "      <td>Mm not bad but not so pretty😕\\n#puthtroop#puth...</td>\n",
       "      <td>74.0</td>\n",
       "      <td>0.0</td>\n",
       "    </tr>\n",
       "    <tr>\n",
       "      <th>42710193</th>\n",
       "      <td>28370926</td>\n",
       "      <td>-1</td>\n",
       "      <td>Ba6LZWwlCl8</td>\n",
       "      <td>3.371865e+08</td>\n",
       "      <td>4.574268e+14</td>\n",
       "      <td>2017-10-31 11:28:01.000</td>\n",
       "      <td>1</td>\n",
       "      <td>🌸🌺</td>\n",
       "      <td>49.0</td>\n",
       "      <td>0.0</td>\n",
       "    </tr>\n",
       "    <tr>\n",
       "      <th>42710194</th>\n",
       "      <td>28370929</td>\n",
       "      <td>-1</td>\n",
       "      <td>BPN0kM1hYUw</td>\n",
       "      <td>3.289886e+09</td>\n",
       "      <td>4.574268e+14</td>\n",
       "      <td>2017-01-13 20:16:37.000</td>\n",
       "      <td>1</td>\n",
       "      <td>#pasanlosaños #creweedrepresent  #SlgFamily</td>\n",
       "      <td>18.0</td>\n",
       "      <td>0.0</td>\n",
       "    </tr>\n",
       "  </tbody>\n",
       "</table>\n",
       "<p>14133205 rows × 10 columns</p>\n",
       "</div>"
      ],
      "text/plain": [
       "               sid  sid_profile      post_id    profile_id   location_id  \\\n",
       "0         28370919      3496776  BXdjjUlgcgq  2.237948e+09  1.022366e+15   \n",
       "2         28370933           -1  BRgkjcXFp3Q  3.134296e+08  4.574268e+14   \n",
       "3         28370934           -1  BKTKeNhjEA7  1.837593e+09  4.574268e+14   \n",
       "4         28370935           -1   8-NQrvoYLX  1.131527e+09  4.574268e+14   \n",
       "11        28370965           -1  Bx-ptmpinBs  4.276275e+07  2.826187e+08   \n",
       "...            ...          ...          ...           ...           ...   \n",
       "42710190  28370927           -1  BpeRbppFQ2l  7.012646e+09  4.574268e+14   \n",
       "42710191  28370923           -1  Bdx3o7WDypu  6.891278e+09  4.574268e+14   \n",
       "42710192  28370925           -1  BcpWMWGBfxh  5.556457e+09  4.574268e+14   \n",
       "42710193  28370926           -1  Ba6LZWwlCl8  3.371865e+08  4.574268e+14   \n",
       "42710194  28370929           -1  BPN0kM1hYUw  3.289886e+09  4.574268e+14   \n",
       "\n",
       "                              cts  post_type  \\\n",
       "0         2017-08-06 20:06:57.000          2   \n",
       "2         2017-03-11 20:05:03.000          1   \n",
       "3         2016-09-13 16:27:16.000          1   \n",
       "4         2015-10-18 10:19:27.000          1   \n",
       "11        2019-05-27 22:11:58.000          1   \n",
       "...                           ...        ...   \n",
       "42710190  2018-10-28 11:12:57.000          1   \n",
       "42710191  2018-01-10 19:35:39.000          1   \n",
       "42710192  2017-12-13 15:38:04.000          1   \n",
       "42710193  2017-10-31 11:28:01.000          1   \n",
       "42710194  2017-01-13 20:16:37.000          1   \n",
       "\n",
       "                                                description  numbr_likes  \\\n",
       "0         Wreckloose! Deevalley bike park laps on the @i...         80.0   \n",
       "2         #meraviglia #incensi #the #candele #profumo #a...          9.0   \n",
       "3         #teatime #scorpion #friends #love #mountains #...          4.0   \n",
       "4                          thE sky gavE mE a #constEllation          8.0   \n",
       "11        Cheers! Returning to this café after 5 years.\\...         16.0   \n",
       "...                                                     ...          ...   \n",
       "42710190  Ben size aşığım gerisinin ne önemi var ki..🌼🍃💓...         43.0   \n",
       "42710191  Many many HAPPY returns of the day star gbu st...        149.0   \n",
       "42710192  Mm not bad but not so pretty😕\\n#puthtroop#puth...         74.0   \n",
       "42710193                                                 🌸🌺         49.0   \n",
       "42710194        #pasanlosaños #creweedrepresent  #SlgFamily         18.0   \n",
       "\n",
       "          number_comments  \n",
       "0                     0.0  \n",
       "2                     0.0  \n",
       "3                     0.0  \n",
       "4                     0.0  \n",
       "11                    0.0  \n",
       "...                   ...  \n",
       "42710190              0.0  \n",
       "42710191              0.0  \n",
       "42710192              0.0  \n",
       "42710193              0.0  \n",
       "42710194              0.0  \n",
       "\n",
       "[14133205 rows x 10 columns]"
      ]
     },
     "execution_count": 8,
     "metadata": {},
     "output_type": "execute_result"
    }
   ],
   "source": [
    "#3.2\n",
    "mincommenti = min(datapost.number_comments)\n",
    "datapost[datapost.number_comments == mincommenti]"
   ]
  },
  {
   "cell_type": "code",
   "execution_count": 10,
   "metadata": {},
   "outputs": [
    {
     "data": {
      "text/plain": [
       "<function matplotlib.pyplot.show(close=None, block=None)>"
      ]
     },
     "execution_count": 10,
     "metadata": {},
     "output_type": "execute_result"
    },
    {
     "data": {
      "image/png": "[encoded data removed]",
      "text/plain": [
       "<Figure size 432x288 with 1 Axes>"
      ]
     },
     "metadata": {},
     "output_type": "display_data"
    }
   ],
   "source": [
    "#4\n",
    "import numpy as np\n",
    "datapost.location_id.fillna('',inplace=True)\n",
    "a = sum(datapost.location_id == '')\n",
    "b = sum(datapost.location_id != '')\n",
    "x = np.array([a,b])\n",
    "label = ['Post senza location', 'Post con location']\n",
    "\n",
    "plt.pie(x,labels=label)\n",
    "plt.legend()\n",
    "plt.show"
   ]
  },
  {
   "cell_type": "code",
   "execution_count": 11,
   "metadata": {},
   "outputs": [
    {
     "data": {
      "image/png": "[encoded data removed]",
      "text/plain": [
       "<Figure size 432x288 with 1 Axes>"
      ]
     },
     "metadata": {
      "needs_background": "light"
     },
     "output_type": "display_data"
    }
   ],
   "source": [
    "#5\n",
    "\n",
    "a = sum(datapost.post_type == 1)\n",
    "b = sum(datapost.post_type == 2)\n",
    "ps =[1,2]\n",
    "plt.bar(ps,[a,b])\n",
    "bars = ('Photo','Video')\n",
    "plt.xticks(ps,bars)\n",
    "\n",
    "plt.show()\n"
   ]
  },
  {
   "cell_type": "markdown",
   "metadata": {},
   "source": [
    "Come si può notare dall'istogramma e dai valori ottenuti, il numero di post con foto è molto frequente, quasi tutti sono di questo tipo. Mentre i post con video sono molti pochi."
   ]
  },
  {
   "cell_type": "code",
   "execution_count": 12,
   "metadata": {},
   "outputs": [
    {
     "name": "stdout",
     "output_type": "stream",
     "text": [
      "18.965244259672616 81.03475574032738\n"
     ]
    },
    {
     "data": {
      "image/png": "[encoded data removed]",
      "text/plain": [
       "<Figure size 432x288 with 1 Axes>"
      ]
     },
     "metadata": {},
     "output_type": "display_data"
    }
   ],
   "source": [
    "#6\n",
    "\n",
    "a = sum(dataprofile.is_business_account== True)\n",
    "b = sum(dataprofile.is_business_account == False)\n",
    "total = a+b\n",
    "percbus = (a/total)*100\n",
    "percnobus = (b/total)*100\n",
    "print(percbus,percnobus)\n",
    "\n",
    "label = ['Profili business','Profili non business']\n",
    "mycolor = ['r','b']\n",
    "plt.pie([percbus,percnobus],labels=label,colors=mycolor)\n",
    "plt.legend()\n",
    "plt.show()\n"
   ]
  },
  {
   "cell_type": "markdown",
   "metadata": {},
   "source": [
    "Dato che c'è un alto numero di valori nan nella colonna is_business_account, le percentuali calcolate non sono molto precise."
   ]
  },
  {
   "cell_type": "code",
   "execution_count": 13,
   "metadata": {},
   "outputs": [
    {
     "data": {
      "text/plain": [
       "(19, 2499758)"
      ]
     },
     "execution_count": 13,
     "metadata": {},
     "output_type": "execute_result"
    }
   ],
   "source": [
    "#RQ3\n",
    "#1\n",
    "import collections\n",
    "a = pd.to_datetime(datapost.cts)\n",
    "b = [el.hour for el in a]\n",
    "c = collections.Counter(b)\n",
    "c.most_common()[0]"
   ]
  },
  {
   "cell_type": "code",
   "execution_count": 16,
   "metadata": {},
   "outputs": [
    {
     "data": {
      "text/plain": [
       "15139417    B0-ialyhrrQ\n",
       "15139418    B06IBU5hAgk\n",
       "15139419    ByuuapFB79D\n",
       "15139420    Byfp-RlB_uw\n",
       "15139421    ByJGI45htl6\n",
       "15139422    BxptOzchGQ0\n",
       "15139423    BxXvL-7BQGE\n",
       "15139424    BxFlWvJBKus\n",
       "15139425    BwhXw7EhbI6\n",
       "15139426    BwXTVW3BIqa\n",
       "15139427    BwMjqr7hlkb\n",
       "15139428    Bv9xxp5H4cw\n",
       "28490452    Bk4ZeJcgY91\n",
       "Name: post_id, dtype: object"
      ]
     },
     "execution_count": 16,
     "metadata": {},
     "output_type": "execute_result"
    }
   ],
   "source": [
    "#RQ4\n",
    "#1\n",
    "def f1(profile):\n",
    "   return datapost.post_id[datapost[\"profile_id\"] == profile]\n",
    "\n",
    "f1(183711246.0)\n"
   ]
  },
  {
   "cell_type": "code",
   "execution_count": 23,
   "metadata": {},
   "outputs": [],
   "source": [
    "#2\n",
    "def f2(n):\n",
    "  dataprofile.sort_values([\"n_posts\"],axis=0,ascending=[False],inplace=True)\n",
    "  a = dataprofile.profile_id[dataprofile.n_posts.head(n)]\n",
    "\n"
   ]
  },
  {
   "cell_type": "code",
   "execution_count": null,
   "metadata": {},
   "outputs": [],
   "source": [
    "#RQ6\n",
    "pd.to_datetime(datapost.cts)\n",
    "a = list(datapost.cts)\n"
   ]
  },
  {
   "cell_type": "code",
   "execution_count": null,
   "metadata": {},
   "outputs": [],
   "source": [
    "#AQ1\n",
    "#1\n",
    "Function f1 takes as input a list of characters without repetitions and the index of the last element. The function makes a for loop on the list and prints all the elements, one element for each row.\n",
    "Function f2 takes as input a list of characters without repetitions, the index of the first element and the index of the last element. If the list has only one element, is called function f1 that prints the element.\n",
    "Otherwise the function f2 make a for loop on the list, it prints all n! combinations of the list's elements, one for each iteration. The algorithm is a recursive algorithm, it makes n recursive calls.\n",
    "\n",
    "#2\n",
    "Time complexity is O(n!). The recurrence equation is: T(n) = nT(n-1) = n(n-1)(n-2)....(n-n+1) = n!\n"
   ]
  }
 ],
 "metadata": {
  "kernelspec": {
   "display_name": "Python 3 (ipykernel)",
   "language": "python",
   "name": "python3"
  },
  "language_info": {
   "codemirror_mode": {
    "name": "ipython",
    "version": 3
   },
   "file_extension": ".py",
   "mimetype": "text/x-python",
   "name": "python",
   "nbconvert_exporter": "python",
   "pygments_lexer": "ipython3",
   "version": "3.9.12"
  },
  "vscode": {
   "interpreter": {
    "hash": "492de5c55b0784f5394852be3d129468b1a3cbd17c8e16230d794b01878ae870"
   }
  }
 },
 "nbformat": 4,
 "nbformat_minor": 2
}
