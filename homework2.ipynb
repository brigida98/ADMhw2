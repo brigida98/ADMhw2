{
 "cells": [
  {
   "cell_type": "code",
   "execution_count": 1,
   "metadata": {},
   "outputs": [],
   "source": [
    "\n",
    "import pandas as pd\n",
    "import matplotlib.pyplot as plt\n",
    "\n",
    "datalocation = pd.read_csv('C:\\\\Users\\\\Utente\\\\Desktop\\\\instagram_locations.csv',delimiter='\\t')\n",
    "dataprofile = pd.read_csv('C:\\\\Users\\\\Utente\\\\Desktop\\\\instagram_profiles.csv',delimiter='\\t')\n",
    "\n"
   ]
  },
  {
   "cell_type": "code",
   "execution_count": 2,
   "metadata": {},
   "outputs": [
    {
     "data": {
      "text/plain": [
       "(1022658, 23)"
      ]
     },
     "execution_count": 2,
     "metadata": {},
     "output_type": "execute_result"
    }
   ],
   "source": [
    "#RQ1\n",
    "datalocation.shape"
   ]
  },
  {
   "cell_type": "code",
   "execution_count": 3,
   "metadata": {},
   "outputs": [
    {
     "name": "stdout",
     "output_type": "stream",
     "text": [
      "<class 'pandas.core.frame.DataFrame'>\n",
      "RangeIndex: 1022658 entries, 0 to 1022657\n",
      "Data columns (total 23 columns):\n",
      " #   Column                  Non-Null Count    Dtype  \n",
      "---  ------                  --------------    -----  \n",
      " 0   sid                     1022658 non-null  int64  \n",
      " 1   id                      1022658 non-null  int64  \n",
      " 2   name                    1022658 non-null  object \n",
      " 3   street                  715704 non-null   object \n",
      " 4   zip                     715579 non-null   object \n",
      " 5   city                    937166 non-null   object \n",
      " 6   region                  1760 non-null     object \n",
      " 7   cd                      939010 non-null   object \n",
      " 8   phone                   601688 non-null   object \n",
      " 9   aj_exact_city_match     1000510 non-null  object \n",
      " 10  aj_exact_country_match  1000510 non-null  object \n",
      " 11  blurb                   406705 non-null   object \n",
      " 12  dir_city_id             495698 non-null   object \n",
      " 13  dir_city_name           495698 non-null   object \n",
      " 14  dir_city_slug           495221 non-null   object \n",
      " 15  dir_country_id          495628 non-null   object \n",
      " 16  dir_country_name        495698 non-null   object \n",
      " 17  lat                     1016495 non-null  float64\n",
      " 18  lng                     1016495 non-null  float64\n",
      " 19  primary_alias_on_fb     425531 non-null   object \n",
      " 20  slug                    941668 non-null   object \n",
      " 21  website                 623262 non-null   object \n",
      " 22  cts                     1022658 non-null  object \n",
      "dtypes: float64(2), int64(2), object(19)\n",
      "memory usage: 179.5+ MB\n"
     ]
    }
   ],
   "source": [
    "datalocation.info()"
   ]
  },
  {
   "cell_type": "code",
   "execution_count": 4,
   "metadata": {},
   "outputs": [
    {
     "data": {
      "text/html": [
       "<div>\n",
       "<style scoped>\n",
       "    .dataframe tbody tr th:only-of-type {\n",
       "        vertical-align: middle;\n",
       "    }\n",
       "\n",
       "    .dataframe tbody tr th {\n",
       "        vertical-align: top;\n",
       "    }\n",
       "\n",
       "    .dataframe thead th {\n",
       "        text-align: right;\n",
       "    }\n",
       "</style>\n",
       "<table border=\"1\" class=\"dataframe\">\n",
       "  <thead>\n",
       "    <tr style=\"text-align: right;\">\n",
       "      <th></th>\n",
       "      <th>sid</th>\n",
       "      <th>id</th>\n",
       "      <th>name</th>\n",
       "      <th>street</th>\n",
       "      <th>zip</th>\n",
       "      <th>city</th>\n",
       "      <th>region</th>\n",
       "      <th>cd</th>\n",
       "      <th>phone</th>\n",
       "      <th>aj_exact_city_match</th>\n",
       "      <th>...</th>\n",
       "      <th>dir_city_name</th>\n",
       "      <th>dir_city_slug</th>\n",
       "      <th>dir_country_id</th>\n",
       "      <th>dir_country_name</th>\n",
       "      <th>lat</th>\n",
       "      <th>lng</th>\n",
       "      <th>primary_alias_on_fb</th>\n",
       "      <th>slug</th>\n",
       "      <th>website</th>\n",
       "      <th>cts</th>\n",
       "    </tr>\n",
       "  </thead>\n",
       "  <tbody>\n",
       "    <tr>\n",
       "      <th>0</th>\n",
       "      <td>719981</td>\n",
       "      <td>110296492939207</td>\n",
       "      <td>Playa de Daimuz - Valencia, España</td>\n",
       "      <td>NaN</td>\n",
       "      <td>NaN</td>\n",
       "      <td>NaN</td>\n",
       "      <td>NaN</td>\n",
       "      <td>NaN</td>\n",
       "      <td>NaN</td>\n",
       "      <td>False</td>\n",
       "      <td>...</td>\n",
       "      <td>NaN</td>\n",
       "      <td>NaN</td>\n",
       "      <td>NaN</td>\n",
       "      <td>NaN</td>\n",
       "      <td>-0.139475</td>\n",
       "      <td>38.974391</td>\n",
       "      <td>daimuzplaya</td>\n",
       "      <td>playa-de-daimuz-valencia-espana</td>\n",
       "      <td>https://es.wikipedia.org/wiki/Daimuz</td>\n",
       "      <td>2019-05-29 01:21:29.987</td>\n",
       "    </tr>\n",
       "    <tr>\n",
       "      <th>1</th>\n",
       "      <td>719983</td>\n",
       "      <td>274391278</td>\n",
       "      <td>Nová Vieska</td>\n",
       "      <td>NaN</td>\n",
       "      <td>NaN</td>\n",
       "      <td>Nová Vieska</td>\n",
       "      <td>NaN</td>\n",
       "      <td>SK</td>\n",
       "      <td>NaN</td>\n",
       "      <td>True</td>\n",
       "      <td>...</td>\n",
       "      <td>Kis-Újfalu</td>\n",
       "      <td>kis-ujfalu</td>\n",
       "      <td>SK</td>\n",
       "      <td>Slovakia</td>\n",
       "      <td>18.466667</td>\n",
       "      <td>47.866667</td>\n",
       "      <td>NaN</td>\n",
       "      <td>nova-vieska</td>\n",
       "      <td>NaN</td>\n",
       "      <td>2019-05-29 01:21:38.037</td>\n",
       "    </tr>\n",
       "    <tr>\n",
       "      <th>2</th>\n",
       "      <td>719985</td>\n",
       "      <td>148885595789195</td>\n",
       "      <td>Everest Today</td>\n",
       "      <td>Himalayas</td>\n",
       "      <td>+977</td>\n",
       "      <td>Kathmandu, Nepal</td>\n",
       "      <td>NaN</td>\n",
       "      <td>NP</td>\n",
       "      <td>NaN</td>\n",
       "      <td>False</td>\n",
       "      <td>...</td>\n",
       "      <td>Pasupati</td>\n",
       "      <td>pasupati</td>\n",
       "      <td>NP</td>\n",
       "      <td>Nepal</td>\n",
       "      <td>85.330150</td>\n",
       "      <td>27.701960</td>\n",
       "      <td>EverestToday</td>\n",
       "      <td>everest-today</td>\n",
       "      <td>NaN</td>\n",
       "      <td>2019-05-29 01:21:46.295</td>\n",
       "    </tr>\n",
       "    <tr>\n",
       "      <th>3</th>\n",
       "      <td>719987</td>\n",
       "      <td>263258277</td>\n",
       "      <td>BULAC - Bibliothèque universitaire des langues...</td>\n",
       "      <td>65, rue des Grands-Moulins</td>\n",
       "      <td>75013</td>\n",
       "      <td>Paris, France</td>\n",
       "      <td>NaN</td>\n",
       "      <td>FR</td>\n",
       "      <td>01 81 69 18 00</td>\n",
       "      <td>False</td>\n",
       "      <td>...</td>\n",
       "      <td>13ème Arrondissement Paris</td>\n",
       "      <td>13eme-arrondissement-paris</td>\n",
       "      <td>FR</td>\n",
       "      <td>France</td>\n",
       "      <td>2.375995</td>\n",
       "      <td>48.827240</td>\n",
       "      <td>BULAC.Paris</td>\n",
       "      <td>bulac-bibliotheque-universitaire-des-langues-e...</td>\n",
       "      <td>www.bulac.fr</td>\n",
       "      <td>2019-05-29 01:21:54.355</td>\n",
       "    </tr>\n",
       "    <tr>\n",
       "      <th>4</th>\n",
       "      <td>326443</td>\n",
       "      <td>406147529857708</td>\n",
       "      <td>ABC Cable Networks Group</td>\n",
       "      <td>3800 W Alameda Ave</td>\n",
       "      <td>91505</td>\n",
       "      <td>Burbank, California</td>\n",
       "      <td>NaN</td>\n",
       "      <td>US</td>\n",
       "      <td>(818) 569-7500</td>\n",
       "      <td>False</td>\n",
       "      <td>...</td>\n",
       "      <td>NaN</td>\n",
       "      <td>NaN</td>\n",
       "      <td>NaN</td>\n",
       "      <td>NaN</td>\n",
       "      <td>-118.341864</td>\n",
       "      <td>34.153265</td>\n",
       "      <td>NaN</td>\n",
       "      <td>abc-cable-networks-group</td>\n",
       "      <td>NaN</td>\n",
       "      <td>2019-04-02 15:22:55.703</td>\n",
       "    </tr>\n",
       "  </tbody>\n",
       "</table>\n",
       "<p>5 rows × 23 columns</p>\n",
       "</div>"
      ],
      "text/plain": [
       "      sid               id                                               name  \\\n",
       "0  719981  110296492939207                 Playa de Daimuz - Valencia, España   \n",
       "1  719983        274391278                                        Nová Vieska   \n",
       "2  719985  148885595789195                                      Everest Today   \n",
       "3  719987        263258277  BULAC - Bibliothèque universitaire des langues...   \n",
       "4  326443  406147529857708                           ABC Cable Networks Group   \n",
       "\n",
       "                       street    zip                 city region   cd  \\\n",
       "0                         NaN    NaN                  NaN    NaN  NaN   \n",
       "1                         NaN    NaN          Nová Vieska    NaN   SK   \n",
       "2                   Himalayas   +977     Kathmandu, Nepal    NaN   NP   \n",
       "3  65, rue des Grands-Moulins  75013        Paris, France    NaN   FR   \n",
       "4          3800 W Alameda Ave  91505  Burbank, California    NaN   US   \n",
       "\n",
       "            phone aj_exact_city_match  ...               dir_city_name  \\\n",
       "0             NaN               False  ...                         NaN   \n",
       "1             NaN                True  ...                  Kis-Újfalu   \n",
       "2             NaN               False  ...                    Pasupati   \n",
       "3  01 81 69 18 00               False  ...  13ème Arrondissement Paris   \n",
       "4  (818) 569-7500               False  ...                         NaN   \n",
       "\n",
       "                dir_city_slug dir_country_id dir_country_name         lat  \\\n",
       "0                         NaN            NaN              NaN   -0.139475   \n",
       "1                  kis-ujfalu             SK         Slovakia   18.466667   \n",
       "2                    pasupati             NP            Nepal   85.330150   \n",
       "3  13eme-arrondissement-paris             FR           France    2.375995   \n",
       "4                         NaN            NaN              NaN -118.341864   \n",
       "\n",
       "         lng primary_alias_on_fb  \\\n",
       "0  38.974391         daimuzplaya   \n",
       "1  47.866667                 NaN   \n",
       "2  27.701960        EverestToday   \n",
       "3  48.827240         BULAC.Paris   \n",
       "4  34.153265                 NaN   \n",
       "\n",
       "                                                slug  \\\n",
       "0                    playa-de-daimuz-valencia-espana   \n",
       "1                                        nova-vieska   \n",
       "2                                      everest-today   \n",
       "3  bulac-bibliotheque-universitaire-des-langues-e...   \n",
       "4                           abc-cable-networks-group   \n",
       "\n",
       "                                website                      cts  \n",
       "0  https://es.wikipedia.org/wiki/Daimuz  2019-05-29 01:21:29.987  \n",
       "1                                   NaN  2019-05-29 01:21:38.037  \n",
       "2                                   NaN  2019-05-29 01:21:46.295  \n",
       "3                          www.bulac.fr  2019-05-29 01:21:54.355  \n",
       "4                                   NaN  2019-04-02 15:22:55.703  \n",
       "\n",
       "[5 rows x 23 columns]"
      ]
     },
     "execution_count": 4,
     "metadata": {},
     "output_type": "execute_result"
    }
   ],
   "source": [
    "datalocation.head()"
   ]
  },
  {
   "cell_type": "code",
   "execution_count": 5,
   "metadata": {},
   "outputs": [
    {
     "data": {
      "text/html": [
       "<div>\n",
       "<style scoped>\n",
       "    .dataframe tbody tr th:only-of-type {\n",
       "        vertical-align: middle;\n",
       "    }\n",
       "\n",
       "    .dataframe tbody tr th {\n",
       "        vertical-align: top;\n",
       "    }\n",
       "\n",
       "    .dataframe thead th {\n",
       "        text-align: right;\n",
       "    }\n",
       "</style>\n",
       "<table border=\"1\" class=\"dataframe\">\n",
       "  <thead>\n",
       "    <tr style=\"text-align: right;\">\n",
       "      <th></th>\n",
       "      <th>sid</th>\n",
       "      <th>id</th>\n",
       "      <th>name</th>\n",
       "      <th>street</th>\n",
       "      <th>zip</th>\n",
       "      <th>city</th>\n",
       "      <th>region</th>\n",
       "      <th>cd</th>\n",
       "      <th>phone</th>\n",
       "      <th>aj_exact_city_match</th>\n",
       "      <th>...</th>\n",
       "      <th>dir_city_name</th>\n",
       "      <th>dir_city_slug</th>\n",
       "      <th>dir_country_id</th>\n",
       "      <th>dir_country_name</th>\n",
       "      <th>lat</th>\n",
       "      <th>lng</th>\n",
       "      <th>primary_alias_on_fb</th>\n",
       "      <th>slug</th>\n",
       "      <th>website</th>\n",
       "      <th>cts</th>\n",
       "    </tr>\n",
       "  </thead>\n",
       "  <tbody>\n",
       "    <tr>\n",
       "      <th>1022653</th>\n",
       "      <td>719973</td>\n",
       "      <td>873926439475785</td>\n",
       "      <td>Baby Season</td>\n",
       "      <td>Suarez de Figueroa # 380</td>\n",
       "      <td>NaN</td>\n",
       "      <td>Santa Cruz de la Sierra, Bolivia</td>\n",
       "      <td>NaN</td>\n",
       "      <td>BO</td>\n",
       "      <td>69118383</td>\n",
       "      <td>False</td>\n",
       "      <td>...</td>\n",
       "      <td>Santa Cruz de la Sierra</td>\n",
       "      <td>santa-cruz-de-la-sierra</td>\n",
       "      <td>BO</td>\n",
       "      <td>Bolivia</td>\n",
       "      <td>-63.185307</td>\n",
       "      <td>-17.786130</td>\n",
       "      <td>babyseason.srl</td>\n",
       "      <td>baby-season</td>\n",
       "      <td>NaN</td>\n",
       "      <td>2019-05-29 01:20:57.078</td>\n",
       "    </tr>\n",
       "    <tr>\n",
       "      <th>1022654</th>\n",
       "      <td>719975</td>\n",
       "      <td>390707529</td>\n",
       "      <td>Cueva Carvajal</td>\n",
       "      <td>NaN</td>\n",
       "      <td>NaN</td>\n",
       "      <td>NaN</td>\n",
       "      <td>NaN</td>\n",
       "      <td>NaN</td>\n",
       "      <td>+52 81 2089 7776</td>\n",
       "      <td>NaN</td>\n",
       "      <td>...</td>\n",
       "      <td>NaN</td>\n",
       "      <td>NaN</td>\n",
       "      <td>NaN</td>\n",
       "      <td>NaN</td>\n",
       "      <td>-100.359619</td>\n",
       "      <td>25.653550</td>\n",
       "      <td>CuevaCarvajalBrewPub</td>\n",
       "      <td>cueva-carvajal</td>\n",
       "      <td>http://www.cuevacarvajal.mx</td>\n",
       "      <td>2019-05-29 01:21:04.434</td>\n",
       "    </tr>\n",
       "    <tr>\n",
       "      <th>1022655</th>\n",
       "      <td>719977</td>\n",
       "      <td>1205466612894741</td>\n",
       "      <td>The Cheesecake Factory</td>\n",
       "      <td>304 Orland Square Dr</td>\n",
       "      <td>60462</td>\n",
       "      <td>Orland Park, Illinois</td>\n",
       "      <td>NaN</td>\n",
       "      <td>US</td>\n",
       "      <td>(708) 873-3747</td>\n",
       "      <td>False</td>\n",
       "      <td>...</td>\n",
       "      <td>Manor Homes</td>\n",
       "      <td>manor-homes</td>\n",
       "      <td>US</td>\n",
       "      <td>United States</td>\n",
       "      <td>-87.843649</td>\n",
       "      <td>41.618551</td>\n",
       "      <td>NaN</td>\n",
       "      <td>the-cheesecake-factory</td>\n",
       "      <td>http://locations.thecheesecakefactory.com/il/o...</td>\n",
       "      <td>2019-05-29 01:21:13.404</td>\n",
       "    </tr>\n",
       "    <tr>\n",
       "      <th>1022656</th>\n",
       "      <td>719979</td>\n",
       "      <td>286794844</td>\n",
       "      <td>Plimmer Towers</td>\n",
       "      <td>2 Gilmer Terrace</td>\n",
       "      <td>NaN</td>\n",
       "      <td>Wellington, New Zealand</td>\n",
       "      <td>NaN</td>\n",
       "      <td>NZ</td>\n",
       "      <td>NaN</td>\n",
       "      <td>False</td>\n",
       "      <td>...</td>\n",
       "      <td>NaN</td>\n",
       "      <td>NaN</td>\n",
       "      <td>NaN</td>\n",
       "      <td>NaN</td>\n",
       "      <td>174.775000</td>\n",
       "      <td>-41.285800</td>\n",
       "      <td>NaN</td>\n",
       "      <td>plimmer-towers</td>\n",
       "      <td>NaN</td>\n",
       "      <td>2019-05-29 01:21:21.628</td>\n",
       "    </tr>\n",
       "    <tr>\n",
       "      <th>1022657</th>\n",
       "      <td>720678</td>\n",
       "      <td>554330673</td>\n",
       "      <td>Старые Бирюли</td>\n",
       "      <td>Северная улица</td>\n",
       "      <td>NaN</td>\n",
       "      <td>NaN</td>\n",
       "      <td>NaN</td>\n",
       "      <td>NaN</td>\n",
       "      <td>NaN</td>\n",
       "      <td>False</td>\n",
       "      <td>...</td>\n",
       "      <td>NaN</td>\n",
       "      <td>NaN</td>\n",
       "      <td>NaN</td>\n",
       "      <td>NaN</td>\n",
       "      <td>49.444430</td>\n",
       "      <td>55.979180</td>\n",
       "      <td>NaN</td>\n",
       "      <td>NaN</td>\n",
       "      <td>NaN</td>\n",
       "      <td>2019-05-29 02:07:00.772</td>\n",
       "    </tr>\n",
       "  </tbody>\n",
       "</table>\n",
       "<p>5 rows × 23 columns</p>\n",
       "</div>"
      ],
      "text/plain": [
       "            sid                id                    name  \\\n",
       "1022653  719973   873926439475785             Baby Season   \n",
       "1022654  719975         390707529          Cueva Carvajal   \n",
       "1022655  719977  1205466612894741  The Cheesecake Factory   \n",
       "1022656  719979         286794844          Plimmer Towers   \n",
       "1022657  720678         554330673           Старые Бирюли   \n",
       "\n",
       "                           street    zip                              city  \\\n",
       "1022653  Suarez de Figueroa # 380    NaN  Santa Cruz de la Sierra, Bolivia   \n",
       "1022654                       NaN    NaN                               NaN   \n",
       "1022655      304 Orland Square Dr  60462             Orland Park, Illinois   \n",
       "1022656          2 Gilmer Terrace    NaN           Wellington, New Zealand   \n",
       "1022657            Северная улица    NaN                               NaN   \n",
       "\n",
       "        region   cd             phone aj_exact_city_match  ...  \\\n",
       "1022653    NaN   BO          69118383               False  ...   \n",
       "1022654    NaN  NaN  +52 81 2089 7776                 NaN  ...   \n",
       "1022655    NaN   US    (708) 873-3747               False  ...   \n",
       "1022656    NaN   NZ               NaN               False  ...   \n",
       "1022657    NaN  NaN               NaN               False  ...   \n",
       "\n",
       "                   dir_city_name            dir_city_slug dir_country_id  \\\n",
       "1022653  Santa Cruz de la Sierra  santa-cruz-de-la-sierra             BO   \n",
       "1022654                      NaN                      NaN            NaN   \n",
       "1022655              Manor Homes              manor-homes             US   \n",
       "1022656                      NaN                      NaN            NaN   \n",
       "1022657                      NaN                      NaN            NaN   \n",
       "\n",
       "        dir_country_name         lat        lng   primary_alias_on_fb  \\\n",
       "1022653          Bolivia  -63.185307 -17.786130        babyseason.srl   \n",
       "1022654              NaN -100.359619  25.653550  CuevaCarvajalBrewPub   \n",
       "1022655    United States  -87.843649  41.618551                   NaN   \n",
       "1022656              NaN  174.775000 -41.285800                   NaN   \n",
       "1022657              NaN   49.444430  55.979180                   NaN   \n",
       "\n",
       "                           slug  \\\n",
       "1022653             baby-season   \n",
       "1022654          cueva-carvajal   \n",
       "1022655  the-cheesecake-factory   \n",
       "1022656          plimmer-towers   \n",
       "1022657                     NaN   \n",
       "\n",
       "                                                   website  \\\n",
       "1022653                                                NaN   \n",
       "1022654                        http://www.cuevacarvajal.mx   \n",
       "1022655  http://locations.thecheesecakefactory.com/il/o...   \n",
       "1022656                                                NaN   \n",
       "1022657                                                NaN   \n",
       "\n",
       "                             cts  \n",
       "1022653  2019-05-29 01:20:57.078  \n",
       "1022654  2019-05-29 01:21:04.434  \n",
       "1022655  2019-05-29 01:21:13.404  \n",
       "1022656  2019-05-29 01:21:21.628  \n",
       "1022657  2019-05-29 02:07:00.772  \n",
       "\n",
       "[5 rows x 23 columns]"
      ]
     },
     "execution_count": 5,
     "metadata": {},
     "output_type": "execute_result"
    }
   ],
   "source": [
    "datalocation.tail()"
   ]
  },
  {
   "cell_type": "code",
   "execution_count": 6,
   "metadata": {},
   "outputs": [
    {
     "data": {
      "text/plain": [
       "sid                         int64\n",
       "id                          int64\n",
       "name                       object\n",
       "street                     object\n",
       "zip                        object\n",
       "city                       object\n",
       "region                     object\n",
       "cd                         object\n",
       "phone                      object\n",
       "aj_exact_city_match        object\n",
       "aj_exact_country_match     object\n",
       "blurb                      object\n",
       "dir_city_id                object\n",
       "dir_city_name              object\n",
       "dir_city_slug              object\n",
       "dir_country_id             object\n",
       "dir_country_name           object\n",
       "lat                       float64\n",
       "lng                       float64\n",
       "primary_alias_on_fb        object\n",
       "slug                       object\n",
       "website                    object\n",
       "cts                        object\n",
       "dtype: object"
      ]
     },
     "execution_count": 6,
     "metadata": {},
     "output_type": "execute_result"
    }
   ],
   "source": [
    "datalocation.dtypes"
   ]
  },
  {
   "cell_type": "code",
   "execution_count": 7,
   "metadata": {},
   "outputs": [
    {
     "data": {
      "text/html": [
       "<div>\n",
       "<style scoped>\n",
       "    .dataframe tbody tr th:only-of-type {\n",
       "        vertical-align: middle;\n",
       "    }\n",
       "\n",
       "    .dataframe tbody tr th {\n",
       "        vertical-align: top;\n",
       "    }\n",
       "\n",
       "    .dataframe thead th {\n",
       "        text-align: right;\n",
       "    }\n",
       "</style>\n",
       "<table border=\"1\" class=\"dataframe\">\n",
       "  <thead>\n",
       "    <tr style=\"text-align: right;\">\n",
       "      <th></th>\n",
       "      <th>sid</th>\n",
       "      <th>id</th>\n",
       "      <th>lat</th>\n",
       "      <th>lng</th>\n",
       "    </tr>\n",
       "  </thead>\n",
       "  <tbody>\n",
       "    <tr>\n",
       "      <th>count</th>\n",
       "      <td>1.022658e+06</td>\n",
       "      <td>1.022658e+06</td>\n",
       "      <td>1.016495e+06</td>\n",
       "      <td>1.016495e+06</td>\n",
       "    </tr>\n",
       "    <tr>\n",
       "      <th>mean</th>\n",
       "      <td>5.274856e+05</td>\n",
       "      <td>3.152851e+14</td>\n",
       "      <td>-1.529215e+01</td>\n",
       "      <td>3.421718e+01</td>\n",
       "    </tr>\n",
       "    <tr>\n",
       "      <th>std</th>\n",
       "      <td>2.994567e+05</td>\n",
       "      <td>5.795031e+14</td>\n",
       "      <td>7.615085e+01</td>\n",
       "      <td>2.201081e+01</td>\n",
       "    </tr>\n",
       "    <tr>\n",
       "      <th>min</th>\n",
       "      <td>1.000000e+00</td>\n",
       "      <td>7.000000e+00</td>\n",
       "      <td>-1.799830e+02</td>\n",
       "      <td>-9.000000e+01</td>\n",
       "    </tr>\n",
       "    <tr>\n",
       "      <th>25%</th>\n",
       "      <td>2.688392e+05</td>\n",
       "      <td>2.522377e+08</td>\n",
       "      <td>-8.015575e+01</td>\n",
       "      <td>2.997555e+01</td>\n",
       "    </tr>\n",
       "    <tr>\n",
       "      <th>50%</th>\n",
       "      <td>5.300405e+05</td>\n",
       "      <td>8.573350e+08</td>\n",
       "      <td>-2.450000e+00</td>\n",
       "      <td>4.067820e+01</td>\n",
       "    </tr>\n",
       "    <tr>\n",
       "      <th>75%</th>\n",
       "      <td>7.866598e+05</td>\n",
       "      <td>3.304662e+14</td>\n",
       "      <td>3.071740e+01</td>\n",
       "      <td>4.884722e+01</td>\n",
       "    </tr>\n",
       "    <tr>\n",
       "      <th>max</th>\n",
       "      <td>1.043657e+06</td>\n",
       "      <td>2.402148e+16</td>\n",
       "      <td>1.799941e+02</td>\n",
       "      <td>8.999870e+01</td>\n",
       "    </tr>\n",
       "  </tbody>\n",
       "</table>\n",
       "</div>"
      ],
      "text/plain": [
       "                sid            id           lat           lng\n",
       "count  1.022658e+06  1.022658e+06  1.016495e+06  1.016495e+06\n",
       "mean   5.274856e+05  3.152851e+14 -1.529215e+01  3.421718e+01\n",
       "std    2.994567e+05  5.795031e+14  7.615085e+01  2.201081e+01\n",
       "min    1.000000e+00  7.000000e+00 -1.799830e+02 -9.000000e+01\n",
       "25%    2.688392e+05  2.522377e+08 -8.015575e+01  2.997555e+01\n",
       "50%    5.300405e+05  8.573350e+08 -2.450000e+00  4.067820e+01\n",
       "75%    7.866598e+05  3.304662e+14  3.071740e+01  4.884722e+01\n",
       "max    1.043657e+06  2.402148e+16  1.799941e+02  8.999870e+01"
      ]
     },
     "execution_count": 7,
     "metadata": {},
     "output_type": "execute_result"
    }
   ],
   "source": [
    "datalocation.describe()"
   ]
  },
  {
   "cell_type": "markdown",
   "metadata": {},
   "source": [
    "Instagram_locations dataframe has 1022658 rows and 23 columns containing 4 quantitative variables (sid, id, lat, lng) and the remaining ones are qualitative variables. Basic statistic informations about the quantitative variables are reported in the table above like the amount of aech variable, mean, standard deviation, minimum and maximum value and the quartiles."
   ]
  },
  {
   "cell_type": "code",
   "execution_count": 8,
   "metadata": {},
   "outputs": [
    {
     "data": {
      "text/plain": [
       "sid                             0\n",
       "id                              0\n",
       "name                            0\n",
       "street                     306954\n",
       "zip                        307079\n",
       "city                        85492\n",
       "region                    1020898\n",
       "cd                          83648\n",
       "phone                      420970\n",
       "aj_exact_city_match         22148\n",
       "aj_exact_country_match      22148\n",
       "blurb                      615953\n",
       "dir_city_id                526960\n",
       "dir_city_name              526960\n",
       "dir_city_slug              527437\n",
       "dir_country_id             527030\n",
       "dir_country_name           526960\n",
       "lat                          6163\n",
       "lng                          6163\n",
       "primary_alias_on_fb        597127\n",
       "slug                        80990\n",
       "website                    399396\n",
       "cts                             0\n",
       "dtype: int64"
      ]
     },
     "execution_count": 8,
     "metadata": {},
     "output_type": "execute_result"
    }
   ],
   "source": [
    "datalocation.isna().sum()"
   ]
  },
  {
   "cell_type": "markdown",
   "metadata": {},
   "source": [
    "One of the most important things to do is check how many null values we have in the whole dataframe for each column and \n",
    "decide what to deal with them."
   ]
  },
  {
   "cell_type": "code",
   "execution_count": 9,
   "metadata": {},
   "outputs": [
    {
     "data": {
      "text/plain": [
       "sid                        0.00\n",
       "id                         0.00\n",
       "name                       0.00\n",
       "street                    30.02\n",
       "zip                       30.03\n",
       "city                       8.36\n",
       "region                    99.83\n",
       "cd                         8.18\n",
       "phone                     41.16\n",
       "aj_exact_city_match        2.17\n",
       "aj_exact_country_match     2.17\n",
       "blurb                     60.23\n",
       "dir_city_id               51.53\n",
       "dir_city_name             51.53\n",
       "dir_city_slug             51.58\n",
       "dir_country_id            51.54\n",
       "dir_country_name          51.53\n",
       "lat                        0.60\n",
       "lng                        0.60\n",
       "primary_alias_on_fb       58.39\n",
       "slug                       7.92\n",
       "website                   39.05\n",
       "cts                        0.00\n",
       "dtype: float64"
      ]
     },
     "execution_count": 9,
     "metadata": {},
     "output_type": "execute_result"
    }
   ],
   "source": [
    "round(((datalocation.isnull().sum()/datalocation.shape[0])*100),2) #percentage of Nan Values "
   ]
  },
  {
   "cell_type": "code",
   "execution_count": 10,
   "metadata": {},
   "outputs": [],
   "source": [
    "l_copy=datalocation.copy()"
   ]
  },
  {
   "cell_type": "markdown",
   "metadata": {},
   "source": [
    "Before modifying or deleting objects from the dataframe is better being sure to make a copy of it so, if we make a mistake, we can avoid importing the original data again and just restart from the copied one."
   ]
  },
  {
   "cell_type": "code",
   "execution_count": 11,
   "metadata": {},
   "outputs": [],
   "source": [
    "l_copy.rename(columns={'lat': 'LNG', 'lng':'LAT'}, inplace=True) "
   ]
  },
  {
   "cell_type": "markdown",
   "metadata": {},
   "source": [
    "Since the latitude and longitude variables were assigned one to each other values, we decided to rename the columns to have the right values under the right column name."
   ]
  },
  {
   "cell_type": "code",
   "execution_count": 12,
   "metadata": {},
   "outputs": [
    {
     "name": "stdout",
     "output_type": "stream",
     "text": [
      "-179.983 179.994121\n",
      "-90.0 89.998698\n"
     ]
    }
   ],
   "source": [
    "print(min(l_copy.LNG), max(l_copy.LNG))\n",
    "print(min(l_copy.LAT), max(l_copy.LAT))"
   ]
  },
  {
   "cell_type": "code",
   "execution_count": 13,
   "metadata": {},
   "outputs": [],
   "source": [
    "def outliers(df):\n",
    "   Q1=df.quantile(0.25)\n",
    "   Q3=df.quantile(0.75)\n",
    "   outliers = df[((df<(Q1-1.5*(Q3-Q1))) | (df>(Q3+1.5*(Q3-Q1))))]\n",
    "   return outliers"
   ]
  },
  {
   "cell_type": "markdown",
   "metadata": {},
   "source": [
    "The function above finds outliers of a quantitative variable. Statistically, an outlier is a value that is out of a certain range obtained by: $$[Q1-1.5*(Q3-Q1), Q3+1.5*(Q3-Q1)]$$ where Q1 and Q3 are respectively the first and the third quartile.\n",
    "The fact is that not always what is classified, from this formula, as an outlier is actually a value we don't want to consider, it depends on the data we're dealing with and what we're supposed to study and understand from them. "
   ]
  },
  {
   "cell_type": "code",
   "execution_count": 14,
   "metadata": {},
   "outputs": [
    {
     "name": "stdout",
     "output_type": "stream",
     "text": [
      "outliers in lat variable: 96259\n"
     ]
    },
    {
     "data": {
      "text/plain": [
       "<AxesSubplot:>"
      ]
     },
     "execution_count": 14,
     "metadata": {},
     "output_type": "execute_result"
    },
    {
     "data": {
      "image/png": "[encoded data removed]",
      "text/plain": [
       "<Figure size 432x288 with 1 Axes>"
      ]
     },
     "metadata": {
      "needs_background": "light"
     },
     "output_type": "display_data"
    }
   ],
   "source": [
    "locations_outliers=outliers(l_copy.LAT)\n",
    "\n",
    "print('outliers in lat variable: '+ str(len(locations_outliers)))\n",
    "\n",
    "l_copy.boxplot(column=['LAT'])"
   ]
  },
  {
   "cell_type": "markdown",
   "metadata": {},
   "source": [
    "From this boxplot it seems there are lots of outliers in the latitude values, in the way they are defined, but we know latitute values go from -90 to 90 so those who look like outliers are just a small amount of values which are out of the main region where data are gathered and that is explained by the negative skewness we highlithed before."
   ]
  },
  {
   "cell_type": "code",
   "execution_count": 15,
   "metadata": {},
   "outputs": [
    {
     "name": "stdout",
     "output_type": "stream",
     "text": [
      "outliers in lng variable: 0\n"
     ]
    },
    {
     "data": {
      "text/plain": [
       "<AxesSubplot:>"
      ]
     },
     "execution_count": 15,
     "metadata": {},
     "output_type": "execute_result"
    },
    {
     "data": {
      "image/png": "[encoded data removed]",
      "text/plain": [
       "<Figure size 432x288 with 1 Axes>"
      ]
     },
     "metadata": {
      "needs_background": "light"
     },
     "output_type": "display_data"
    }
   ],
   "source": [
    "locations_outliers=outliers(l_copy.LNG)\n",
    "\n",
    "print('outliers in lng variable: '+ str(len(locations_outliers)))\n",
    "\n",
    "l_copy.boxplot(column=['LNG'])"
   ]
  },
  {
   "cell_type": "code",
   "execution_count": 16,
   "metadata": {},
   "outputs": [],
   "source": [
    "l_copy.street.fillna('', inplace=True)\n",
    "l_copy.zip.fillna('', inplace=True)\n",
    "l_copy.city.fillna('', inplace=True)\n",
    "l_copy.region.fillna('', inplace=True)\n",
    "l_copy.cd.fillna('', inplace=True)\n",
    "l_copy.phone.fillna('', inplace=True)\n",
    "l_copy.aj_exact_city_match.fillna('', inplace=True)\n",
    "l_copy.aj_exact_country_match.fillna('', inplace=True)\n",
    "l_copy.blurb.fillna('', inplace=True)\n",
    "l_copy.dir_city_id.fillna('', inplace=True)\n",
    "l_copy.dir_city_name.fillna('', inplace=True)\n",
    "l_copy.dir_city_slug.fillna('', inplace=True)\n",
    "l_copy.dir_country_id.fillna('', inplace=True)\n",
    "l_copy.dir_country_name.fillna('', inplace=True)\n",
    "l_copy.primary_alias_on_fb.fillna('', inplace=True)\n",
    "l_copy.slug.fillna('', inplace=True)\n",
    "l_copy.website.fillna('', inplace=True)\n",
    "l_copy.cts.fillna('', inplace=True)\n",
    "l_copy.LAT.fillna(-99, inplace=True)\n",
    "l_copy.LNG.fillna(-99, inplace=True)"
   ]
  },
  {
   "cell_type": "markdown",
   "metadata": {},
   "source": [
    "Before moving forword with the analysis, we have to deal with null values. We decided to replace NaN values with an empty string for all the variables but LAT and LNG which NaN values were replaced with the simbolic value -99 to remark them from given values and don't alterate any result."
   ]
  },
  {
   "cell_type": "code",
   "execution_count": 17,
   "metadata": {},
   "outputs": [
    {
     "data": {
      "text/plain": [
       "sid                       0\n",
       "id                        0\n",
       "name                      0\n",
       "street                    0\n",
       "zip                       0\n",
       "city                      0\n",
       "region                    0\n",
       "cd                        0\n",
       "phone                     0\n",
       "aj_exact_city_match       0\n",
       "aj_exact_country_match    0\n",
       "blurb                     0\n",
       "dir_city_id               0\n",
       "dir_city_name             0\n",
       "dir_city_slug             0\n",
       "dir_country_id            0\n",
       "dir_country_name          0\n",
       "LNG                       0\n",
       "LAT                       0\n",
       "primary_alias_on_fb       0\n",
       "slug                      0\n",
       "website                   0\n",
       "cts                       0\n",
       "dtype: int64"
      ]
     },
     "execution_count": 17,
     "metadata": {},
     "output_type": "execute_result"
    }
   ],
   "source": [
    "l_copy.isnull().sum() #check if NaN values are all gone"
   ]
  },
  {
   "cell_type": "code",
   "execution_count": 18,
   "metadata": {},
   "outputs": [
    {
     "data": {
      "image/png": "[encoded data removed]",
      "text/plain": [
       "<Figure size 432x288 with 1 Axes>"
      ]
     },
     "metadata": {
      "needs_background": "light"
     },
     "output_type": "display_data"
    }
   ],
   "source": [
    "image, plot= plt.subplots()\n",
    "plot.hist(l_copy['LAT'], bins=20, fc='orange', ec='black')\n",
    "plot.set_xlabel('Latitude')\n",
    "plot.set_ylabel('Absolute frequency')\n",
    "plt.show()"
   ]
  },
  {
   "cell_type": "markdown",
   "metadata": {},
   "source": [
    "The distribution of latitude values is negatively skewed because a big amount of data is gathered in the right part\n",
    "of the histogram, so latitudes between 30 to 60 are the most frequent in the Instagram_locations dataframe."
   ]
  },
  {
   "cell_type": "code",
   "execution_count": 19,
   "metadata": {},
   "outputs": [
    {
     "data": {
      "image/png": "[encoded data removed]",
      "text/plain": [
       "<Figure size 432x288 with 1 Axes>"
      ]
     },
     "metadata": {
      "needs_background": "light"
     },
     "output_type": "display_data"
    }
   ],
   "source": [
    "image, plot= plt.subplots()\n",
    "plot.hist(l_copy['LNG'], bins=20, fc='orange', ec='black')\n",
    "plot.set_xlabel('Longitude')\n",
    "plot.set_ylabel('Absolute frequency')\n",
    "plt.show()"
   ]
  },
  {
   "cell_type": "markdown",
   "metadata": {},
   "source": [
    "The distribution of longitude values is asymmetrical with a peak between -90 to -70, so these are the most frequent longitudes in the instagram_locations dataframe."
   ]
  },
  {
   "cell_type": "code",
   "execution_count": 20,
   "metadata": {},
   "outputs": [
    {
     "data": {
      "text/plain": [
       "(4509586, 11)"
      ]
     },
     "execution_count": 20,
     "metadata": {},
     "output_type": "execute_result"
    }
   ],
   "source": [
    "dataprofile.shape"
   ]
  },
  {
   "cell_type": "code",
   "execution_count": 21,
   "metadata": {},
   "outputs": [
    {
     "data": {
      "text/plain": [
       "<bound method DataFrame.info of              sid    profile_id      profile_name    firstname_lastname  \\\n",
       "0        4184446  4.721050e+09       jphillip033           John Pierce   \n",
       "1        4184457  5.905830e+08         mama_haas                Deanna   \n",
       "2        4184460  1.074147e+09  yellowlightbreen            Eliza Gray   \n",
       "3        4184461  1.472039e+09           tec1025          Thomas Clark   \n",
       "4        4184462  3.531421e+09        luckyfluff                   NaN   \n",
       "...          ...           ...               ...                   ...   \n",
       "4509581  4184467  1.418322e+09    karenarkesteyn       Karen Arkesteyn   \n",
       "4509582  4184469  1.340704e+07     jornvlaeminck        Jorn Vlaeminck   \n",
       "4509583  4184470  6.007354e+09           s_degol           Sanne Degol   \n",
       "4509584  4184473  2.338990e+07           anwilms              An Wilms   \n",
       "4509585  4184511  2.088094e+09     arnaubassols_  Arnau Bassols Noguer   \n",
       "\n",
       "                                               description  following  \\\n",
       "0                             \"Document Everything Always\"      250.0   \n",
       "1        Trying to enjoy the simple things in life. Kni...      534.0   \n",
       "2                                      Maine is for Lovers      469.0   \n",
       "3                                                      NaN        NaN   \n",
       "4                                                      NaN        NaN   \n",
       "...                                                    ...        ...   \n",
       "4509581                                                 🙏🏻      468.0   \n",
       "4509582                                                NaN        NaN   \n",
       "4509583                                                NaN        NaN   \n",
       "4509584  Fashion - travel - photography ... that's me!👗...      504.0   \n",
       "4509585                                                NaN        NaN   \n",
       "\n",
       "         followers  n_posts                           url  \\\n",
       "0            146.0    170.0                           NaN   \n",
       "1           1145.0   2878.0  www.etsy.com/shop/MamaHaas69   \n",
       "2            324.0    431.0             elizajanegray.com   \n",
       "3              NaN      NaN                           NaN   \n",
       "4              NaN      NaN                           NaN   \n",
       "...            ...      ...                           ...   \n",
       "4509581      481.0    497.0                           NaN   \n",
       "4509582        NaN      NaN                           NaN   \n",
       "4509583        NaN      NaN                           NaN   \n",
       "4509584      153.0    183.0                           NaN   \n",
       "4509585        NaN      NaN                           NaN   \n",
       "\n",
       "                                   cts is_business_account  \n",
       "0        2019-08-01 14:38:55.394 -0400               False  \n",
       "1        2019-08-01 14:39:36.526 -0400               False  \n",
       "2        2019-08-01 14:39:54.407 -0400               False  \n",
       "3        2019-08-01 14:40:06.472 -0400                 NaN  \n",
       "4        2019-08-01 14:40:07.806 -0400                 NaN  \n",
       "...                                ...                 ...  \n",
       "4509581  2019-08-01 14:40:26.554 -0400               False  \n",
       "4509582  2019-08-01 14:40:41.628 -0400                 NaN  \n",
       "4509583  2019-08-01 14:40:42.983 -0400                 NaN  \n",
       "4509584  2019-08-01 14:40:49.982 -0400               False  \n",
       "4509585  2019-08-01 14:42:30.055 -0400                 NaN  \n",
       "\n",
       "[4509586 rows x 11 columns]>"
      ]
     },
     "execution_count": 21,
     "metadata": {},
     "output_type": "execute_result"
    }
   ],
   "source": [
    "dataprofile.info"
   ]
  },
  {
   "cell_type": "code",
   "execution_count": 22,
   "metadata": {},
   "outputs": [
    {
     "data": {
      "text/html": [
       "<div>\n",
       "<style scoped>\n",
       "    .dataframe tbody tr th:only-of-type {\n",
       "        vertical-align: middle;\n",
       "    }\n",
       "\n",
       "    .dataframe tbody tr th {\n",
       "        vertical-align: top;\n",
       "    }\n",
       "\n",
       "    .dataframe thead th {\n",
       "        text-align: right;\n",
       "    }\n",
       "</style>\n",
       "<table border=\"1\" class=\"dataframe\">\n",
       "  <thead>\n",
       "    <tr style=\"text-align: right;\">\n",
       "      <th></th>\n",
       "      <th>sid</th>\n",
       "      <th>profile_id</th>\n",
       "      <th>profile_name</th>\n",
       "      <th>firstname_lastname</th>\n",
       "      <th>description</th>\n",
       "      <th>following</th>\n",
       "      <th>followers</th>\n",
       "      <th>n_posts</th>\n",
       "      <th>url</th>\n",
       "      <th>cts</th>\n",
       "      <th>is_business_account</th>\n",
       "    </tr>\n",
       "  </thead>\n",
       "  <tbody>\n",
       "    <tr>\n",
       "      <th>0</th>\n",
       "      <td>4184446</td>\n",
       "      <td>4.721050e+09</td>\n",
       "      <td>jphillip033</td>\n",
       "      <td>John Pierce</td>\n",
       "      <td>\"Document Everything Always\"</td>\n",
       "      <td>250.0</td>\n",
       "      <td>146.0</td>\n",
       "      <td>170.0</td>\n",
       "      <td>NaN</td>\n",
       "      <td>2019-08-01 14:38:55.394 -0400</td>\n",
       "      <td>False</td>\n",
       "    </tr>\n",
       "    <tr>\n",
       "      <th>1</th>\n",
       "      <td>4184457</td>\n",
       "      <td>5.905830e+08</td>\n",
       "      <td>mama_haas</td>\n",
       "      <td>Deanna</td>\n",
       "      <td>Trying to enjoy the simple things in life. Kni...</td>\n",
       "      <td>534.0</td>\n",
       "      <td>1145.0</td>\n",
       "      <td>2878.0</td>\n",
       "      <td>www.etsy.com/shop/MamaHaas69</td>\n",
       "      <td>2019-08-01 14:39:36.526 -0400</td>\n",
       "      <td>False</td>\n",
       "    </tr>\n",
       "    <tr>\n",
       "      <th>2</th>\n",
       "      <td>4184460</td>\n",
       "      <td>1.074147e+09</td>\n",
       "      <td>yellowlightbreen</td>\n",
       "      <td>Eliza Gray</td>\n",
       "      <td>Maine is for Lovers</td>\n",
       "      <td>469.0</td>\n",
       "      <td>324.0</td>\n",
       "      <td>431.0</td>\n",
       "      <td>elizajanegray.com</td>\n",
       "      <td>2019-08-01 14:39:54.407 -0400</td>\n",
       "      <td>False</td>\n",
       "    </tr>\n",
       "    <tr>\n",
       "      <th>3</th>\n",
       "      <td>4184461</td>\n",
       "      <td>1.472039e+09</td>\n",
       "      <td>tec1025</td>\n",
       "      <td>Thomas Clark</td>\n",
       "      <td>NaN</td>\n",
       "      <td>NaN</td>\n",
       "      <td>NaN</td>\n",
       "      <td>NaN</td>\n",
       "      <td>NaN</td>\n",
       "      <td>2019-08-01 14:40:06.472 -0400</td>\n",
       "      <td>NaN</td>\n",
       "    </tr>\n",
       "    <tr>\n",
       "      <th>4</th>\n",
       "      <td>4184462</td>\n",
       "      <td>3.531421e+09</td>\n",
       "      <td>luckyfluff</td>\n",
       "      <td>NaN</td>\n",
       "      <td>NaN</td>\n",
       "      <td>NaN</td>\n",
       "      <td>NaN</td>\n",
       "      <td>NaN</td>\n",
       "      <td>NaN</td>\n",
       "      <td>2019-08-01 14:40:07.806 -0400</td>\n",
       "      <td>NaN</td>\n",
       "    </tr>\n",
       "  </tbody>\n",
       "</table>\n",
       "</div>"
      ],
      "text/plain": [
       "       sid    profile_id      profile_name firstname_lastname  \\\n",
       "0  4184446  4.721050e+09       jphillip033        John Pierce   \n",
       "1  4184457  5.905830e+08         mama_haas             Deanna   \n",
       "2  4184460  1.074147e+09  yellowlightbreen         Eliza Gray   \n",
       "3  4184461  1.472039e+09           tec1025       Thomas Clark   \n",
       "4  4184462  3.531421e+09        luckyfluff                NaN   \n",
       "\n",
       "                                         description  following  followers  \\\n",
       "0                       \"Document Everything Always\"      250.0      146.0   \n",
       "1  Trying to enjoy the simple things in life. Kni...      534.0     1145.0   \n",
       "2                                Maine is for Lovers      469.0      324.0   \n",
       "3                                                NaN        NaN        NaN   \n",
       "4                                                NaN        NaN        NaN   \n",
       "\n",
       "   n_posts                           url                            cts  \\\n",
       "0    170.0                           NaN  2019-08-01 14:38:55.394 -0400   \n",
       "1   2878.0  www.etsy.com/shop/MamaHaas69  2019-08-01 14:39:36.526 -0400   \n",
       "2    431.0             elizajanegray.com  2019-08-01 14:39:54.407 -0400   \n",
       "3      NaN                           NaN  2019-08-01 14:40:06.472 -0400   \n",
       "4      NaN                           NaN  2019-08-01 14:40:07.806 -0400   \n",
       "\n",
       "  is_business_account  \n",
       "0               False  \n",
       "1               False  \n",
       "2               False  \n",
       "3                 NaN  \n",
       "4                 NaN  "
      ]
     },
     "execution_count": 22,
     "metadata": {},
     "output_type": "execute_result"
    }
   ],
   "source": [
    "dataprofile.head()"
   ]
  },
  {
   "cell_type": "code",
   "execution_count": 23,
   "metadata": {},
   "outputs": [
    {
     "data": {
      "text/html": [
       "<div>\n",
       "<style scoped>\n",
       "    .dataframe tbody tr th:only-of-type {\n",
       "        vertical-align: middle;\n",
       "    }\n",
       "\n",
       "    .dataframe tbody tr th {\n",
       "        vertical-align: top;\n",
       "    }\n",
       "\n",
       "    .dataframe thead th {\n",
       "        text-align: right;\n",
       "    }\n",
       "</style>\n",
       "<table border=\"1\" class=\"dataframe\">\n",
       "  <thead>\n",
       "    <tr style=\"text-align: right;\">\n",
       "      <th></th>\n",
       "      <th>sid</th>\n",
       "      <th>profile_id</th>\n",
       "      <th>profile_name</th>\n",
       "      <th>firstname_lastname</th>\n",
       "      <th>description</th>\n",
       "      <th>following</th>\n",
       "      <th>followers</th>\n",
       "      <th>n_posts</th>\n",
       "      <th>url</th>\n",
       "      <th>cts</th>\n",
       "      <th>is_business_account</th>\n",
       "    </tr>\n",
       "  </thead>\n",
       "  <tbody>\n",
       "    <tr>\n",
       "      <th>4509581</th>\n",
       "      <td>4184467</td>\n",
       "      <td>1.418322e+09</td>\n",
       "      <td>karenarkesteyn</td>\n",
       "      <td>Karen Arkesteyn</td>\n",
       "      <td>🙏🏻</td>\n",
       "      <td>468.0</td>\n",
       "      <td>481.0</td>\n",
       "      <td>497.0</td>\n",
       "      <td>NaN</td>\n",
       "      <td>2019-08-01 14:40:26.554 -0400</td>\n",
       "      <td>False</td>\n",
       "    </tr>\n",
       "    <tr>\n",
       "      <th>4509582</th>\n",
       "      <td>4184469</td>\n",
       "      <td>1.340704e+07</td>\n",
       "      <td>jornvlaeminck</td>\n",
       "      <td>Jorn Vlaeminck</td>\n",
       "      <td>NaN</td>\n",
       "      <td>NaN</td>\n",
       "      <td>NaN</td>\n",
       "      <td>NaN</td>\n",
       "      <td>NaN</td>\n",
       "      <td>2019-08-01 14:40:41.628 -0400</td>\n",
       "      <td>NaN</td>\n",
       "    </tr>\n",
       "    <tr>\n",
       "      <th>4509583</th>\n",
       "      <td>4184470</td>\n",
       "      <td>6.007354e+09</td>\n",
       "      <td>s_degol</td>\n",
       "      <td>Sanne Degol</td>\n",
       "      <td>NaN</td>\n",
       "      <td>NaN</td>\n",
       "      <td>NaN</td>\n",
       "      <td>NaN</td>\n",
       "      <td>NaN</td>\n",
       "      <td>2019-08-01 14:40:42.983 -0400</td>\n",
       "      <td>NaN</td>\n",
       "    </tr>\n",
       "    <tr>\n",
       "      <th>4509584</th>\n",
       "      <td>4184473</td>\n",
       "      <td>2.338990e+07</td>\n",
       "      <td>anwilms</td>\n",
       "      <td>An Wilms</td>\n",
       "      <td>Fashion - travel - photography ... that's me!👗...</td>\n",
       "      <td>504.0</td>\n",
       "      <td>153.0</td>\n",
       "      <td>183.0</td>\n",
       "      <td>NaN</td>\n",
       "      <td>2019-08-01 14:40:49.982 -0400</td>\n",
       "      <td>False</td>\n",
       "    </tr>\n",
       "    <tr>\n",
       "      <th>4509585</th>\n",
       "      <td>4184511</td>\n",
       "      <td>2.088094e+09</td>\n",
       "      <td>arnaubassols_</td>\n",
       "      <td>Arnau Bassols Noguer</td>\n",
       "      <td>NaN</td>\n",
       "      <td>NaN</td>\n",
       "      <td>NaN</td>\n",
       "      <td>NaN</td>\n",
       "      <td>NaN</td>\n",
       "      <td>2019-08-01 14:42:30.055 -0400</td>\n",
       "      <td>NaN</td>\n",
       "    </tr>\n",
       "  </tbody>\n",
       "</table>\n",
       "</div>"
      ],
      "text/plain": [
       "             sid    profile_id    profile_name    firstname_lastname  \\\n",
       "4509581  4184467  1.418322e+09  karenarkesteyn       Karen Arkesteyn   \n",
       "4509582  4184469  1.340704e+07   jornvlaeminck        Jorn Vlaeminck   \n",
       "4509583  4184470  6.007354e+09         s_degol           Sanne Degol   \n",
       "4509584  4184473  2.338990e+07         anwilms              An Wilms   \n",
       "4509585  4184511  2.088094e+09   arnaubassols_  Arnau Bassols Noguer   \n",
       "\n",
       "                                               description  following  \\\n",
       "4509581                                                 🙏🏻      468.0   \n",
       "4509582                                                NaN        NaN   \n",
       "4509583                                                NaN        NaN   \n",
       "4509584  Fashion - travel - photography ... that's me!👗...      504.0   \n",
       "4509585                                                NaN        NaN   \n",
       "\n",
       "         followers  n_posts  url                            cts  \\\n",
       "4509581      481.0    497.0  NaN  2019-08-01 14:40:26.554 -0400   \n",
       "4509582        NaN      NaN  NaN  2019-08-01 14:40:41.628 -0400   \n",
       "4509583        NaN      NaN  NaN  2019-08-01 14:40:42.983 -0400   \n",
       "4509584      153.0    183.0  NaN  2019-08-01 14:40:49.982 -0400   \n",
       "4509585        NaN      NaN  NaN  2019-08-01 14:42:30.055 -0400   \n",
       "\n",
       "        is_business_account  \n",
       "4509581               False  \n",
       "4509582                 NaN  \n",
       "4509583                 NaN  \n",
       "4509584               False  \n",
       "4509585                 NaN  "
      ]
     },
     "execution_count": 23,
     "metadata": {},
     "output_type": "execute_result"
    }
   ],
   "source": [
    "dataprofile.tail()"
   ]
  },
  {
   "cell_type": "code",
   "execution_count": 24,
   "metadata": {},
   "outputs": [
    {
     "data": {
      "text/plain": [
       "sid                      int64\n",
       "profile_id             float64\n",
       "profile_name            object\n",
       "firstname_lastname      object\n",
       "description             object\n",
       "following              float64\n",
       "followers              float64\n",
       "n_posts                float64\n",
       "url                     object\n",
       "cts                     object\n",
       "is_business_account     object\n",
       "dtype: object"
      ]
     },
     "execution_count": 24,
     "metadata": {},
     "output_type": "execute_result"
    }
   ],
   "source": [
    "dataprofile.dtypes"
   ]
  },
  {
   "cell_type": "code",
   "execution_count": 25,
   "metadata": {},
   "outputs": [
    {
     "data": {
      "text/html": [
       "<div>\n",
       "<style scoped>\n",
       "    .dataframe tbody tr th:only-of-type {\n",
       "        vertical-align: middle;\n",
       "    }\n",
       "\n",
       "    .dataframe tbody tr th {\n",
       "        vertical-align: top;\n",
       "    }\n",
       "\n",
       "    .dataframe thead th {\n",
       "        text-align: right;\n",
       "    }\n",
       "</style>\n",
       "<table border=\"1\" class=\"dataframe\">\n",
       "  <thead>\n",
       "    <tr style=\"text-align: right;\">\n",
       "      <th></th>\n",
       "      <th>sid</th>\n",
       "      <th>profile_id</th>\n",
       "      <th>following</th>\n",
       "      <th>followers</th>\n",
       "      <th>n_posts</th>\n",
       "    </tr>\n",
       "  </thead>\n",
       "  <tbody>\n",
       "    <tr>\n",
       "      <th>count</th>\n",
       "      <td>4.509586e+06</td>\n",
       "      <td>4.477139e+06</td>\n",
       "      <td>3.452771e+06</td>\n",
       "      <td>3.452771e+06</td>\n",
       "      <td>3.452771e+06</td>\n",
       "    </tr>\n",
       "    <tr>\n",
       "      <th>mean</th>\n",
       "      <td>2.255992e+06</td>\n",
       "      <td>3.083302e+09</td>\n",
       "      <td>1.405641e+03</td>\n",
       "      <td>4.739899e+03</td>\n",
       "      <td>4.095414e+02</td>\n",
       "    </tr>\n",
       "    <tr>\n",
       "      <th>std</th>\n",
       "      <td>1.301807e+06</td>\n",
       "      <td>4.266575e+10</td>\n",
       "      <td>8.113473e+03</td>\n",
       "      <td>1.939087e+05</td>\n",
       "      <td>1.041940e+03</td>\n",
       "    </tr>\n",
       "    <tr>\n",
       "      <th>min</th>\n",
       "      <td>1.186000e+03</td>\n",
       "      <td>4.000000e+00</td>\n",
       "      <td>0.000000e+00</td>\n",
       "      <td>0.000000e+00</td>\n",
       "      <td>0.000000e+00</td>\n",
       "    </tr>\n",
       "    <tr>\n",
       "      <th>25%</th>\n",
       "      <td>1.128596e+06</td>\n",
       "      <td>2.735177e+08</td>\n",
       "      <td>3.560000e+02</td>\n",
       "      <td>1.590000e+02</td>\n",
       "      <td>2.200000e+01</td>\n",
       "    </tr>\n",
       "    <tr>\n",
       "      <th>50%</th>\n",
       "      <td>2.255992e+06</td>\n",
       "      <td>1.649248e+09</td>\n",
       "      <td>7.540000e+02</td>\n",
       "      <td>4.060000e+02</td>\n",
       "      <td>1.200000e+02</td>\n",
       "    </tr>\n",
       "    <tr>\n",
       "      <th>75%</th>\n",
       "      <td>3.383389e+06</td>\n",
       "      <td>5.514691e+09</td>\n",
       "      <td>1.573000e+03</td>\n",
       "      <td>9.740000e+02</td>\n",
       "      <td>4.200000e+02</td>\n",
       "    </tr>\n",
       "    <tr>\n",
       "      <th>max</th>\n",
       "      <td>4.510785e+06</td>\n",
       "      <td>9.001013e+13</td>\n",
       "      <td>4.191080e+06</td>\n",
       "      <td>2.854576e+08</td>\n",
       "      <td>1.837300e+05</td>\n",
       "    </tr>\n",
       "  </tbody>\n",
       "</table>\n",
       "</div>"
      ],
      "text/plain": [
       "                sid    profile_id     following     followers       n_posts\n",
       "count  4.509586e+06  4.477139e+06  3.452771e+06  3.452771e+06  3.452771e+06\n",
       "mean   2.255992e+06  3.083302e+09  1.405641e+03  4.739899e+03  4.095414e+02\n",
       "std    1.301807e+06  4.266575e+10  8.113473e+03  1.939087e+05  1.041940e+03\n",
       "min    1.186000e+03  4.000000e+00  0.000000e+00  0.000000e+00  0.000000e+00\n",
       "25%    1.128596e+06  2.735177e+08  3.560000e+02  1.590000e+02  2.200000e+01\n",
       "50%    2.255992e+06  1.649248e+09  7.540000e+02  4.060000e+02  1.200000e+02\n",
       "75%    3.383389e+06  5.514691e+09  1.573000e+03  9.740000e+02  4.200000e+02\n",
       "max    4.510785e+06  9.001013e+13  4.191080e+06  2.854576e+08  1.837300e+05"
      ]
     },
     "execution_count": 25,
     "metadata": {},
     "output_type": "execute_result"
    }
   ],
   "source": [
    "dataprofile.describe()"
   ]
  },
  {
   "cell_type": "markdown",
   "metadata": {},
   "source": [
    "Instagram_profiles dataframe has 4509586 rows and 11 column, 5 of which containing quantitatives variables. As before, basic \n",
    "statistic informations about the amount of data, mean, standard deviation, minimum and maximum values, quartiles are reported in table above."
   ]
  },
  {
   "cell_type": "code",
   "execution_count": 26,
   "metadata": {},
   "outputs": [
    {
     "name": "stdout",
     "output_type": "stream",
     "text": [
      "outliers in following variable: 370009\n"
     ]
    },
    {
     "data": {
      "text/plain": [
       "<AxesSubplot:>"
      ]
     },
     "execution_count": 26,
     "metadata": {},
     "output_type": "execute_result"
    },
    {
     "data": {
      "image/png": "[encoded data removed]",
      "text/plain": [
       "<Figure size 432x288 with 1 Axes>"
      ]
     },
     "metadata": {
      "needs_background": "light"
     },
     "output_type": "display_data"
    }
   ],
   "source": [
    "following_outliers=outliers(dataprofile['following'])\n",
    "\n",
    "print('outliers in following variable: '+ str(len(following_outliers)))\n",
    "\n",
    "dataprofile.boxplot(column=['following'])"
   ]
  },
  {
   "cell_type": "code",
   "execution_count": 27,
   "metadata": {},
   "outputs": [
    {
     "name": "stdout",
     "output_type": "stream",
     "text": [
      "outliers in followers variable: 385054\n"
     ]
    },
    {
     "data": {
      "text/plain": [
       "<AxesSubplot:>"
      ]
     },
     "execution_count": 27,
     "metadata": {},
     "output_type": "execute_result"
    },
    {
     "data": {
      "image/png": "[encoded data removed]",
      "text/plain": [
       "<Figure size 432x288 with 1 Axes>"
      ]
     },
     "metadata": {
      "needs_background": "light"
     },
     "output_type": "display_data"
    }
   ],
   "source": [
    "followers_outliers=outliers(dataprofile['followers'])\n",
    "\n",
    "print('outliers in followers variable: '+ str(len(followers_outliers)))\n",
    "\n",
    "dataprofile.boxplot(column=['followers'])"
   ]
  },
  {
   "cell_type": "code",
   "execution_count": 28,
   "metadata": {},
   "outputs": [
    {
     "name": "stdout",
     "output_type": "stream",
     "text": [
      "outliers in n_posts variable: 349151\n"
     ]
    },
    {
     "data": {
      "text/plain": [
       "<AxesSubplot:>"
      ]
     },
     "execution_count": 28,
     "metadata": {},
     "output_type": "execute_result"
    },
    {
     "data": {
      "image/png": "[encoded data removed]",
      "text/plain": [
       "<Figure size 432x288 with 1 Axes>"
      ]
     },
     "metadata": {
      "needs_background": "light"
     },
     "output_type": "display_data"
    }
   ],
   "source": [
    "n_posts_outliers=outliers(dataprofile['n_posts'])\n",
    "\n",
    "print('outliers in n_posts variable: '+ str(len(n_posts_outliers)))\n",
    "\n",
    "dataprofile.boxplot(column=['n_posts'])"
   ]
  },
  {
   "cell_type": "markdown",
   "id": "8789bed7",
   "metadata": {},
   "source": [
    "In this case, outliers are those people who have a very high number of following, followers and number of posts. They are a small part of the whole dataframe. So as the green line helps us understand, the main part of the distribution is set corresponding to a very low number of following, followers and posts that is where 'common' people with 'non famous' accounts are."
   ]
  },
  {
   "cell_type": "code",
   "execution_count": 29,
   "metadata": {},
   "outputs": [
    {
     "data": {
      "text/plain": [
       "sid                          0\n",
       "profile_id               32447\n",
       "profile_name                 0\n",
       "firstname_lastname      288465\n",
       "description            2055996\n",
       "following              1056815\n",
       "followers              1056815\n",
       "n_posts                1056815\n",
       "url                    3639312\n",
       "cts                     438488\n",
       "is_business_account    1064263\n",
       "dtype: int64"
      ]
     },
     "execution_count": 29,
     "metadata": {},
     "output_type": "execute_result"
    }
   ],
   "source": [
    "dataprofile.isna().sum()"
   ]
  },
  {
   "cell_type": "code",
   "execution_count": 30,
   "metadata": {},
   "outputs": [
    {
     "data": {
      "text/plain": [
       "sid                     0.00\n",
       "profile_id              0.72\n",
       "profile_name            0.00\n",
       "firstname_lastname      6.40\n",
       "description            45.59\n",
       "following              23.43\n",
       "followers              23.43\n",
       "n_posts                23.43\n",
       "url                    80.70\n",
       "cts                     9.72\n",
       "is_business_account    23.60\n",
       "dtype: float64"
      ]
     },
     "execution_count": 30,
     "metadata": {},
     "output_type": "execute_result"
    }
   ],
   "source": [
    "round(((dataprofile.isnull().sum()/dataprofile.shape[0])*100),2) #percetage of NaN values for aech column "
   ]
  },
  {
   "cell_type": "code",
   "execution_count": 31,
   "metadata": {},
   "outputs": [],
   "source": [
    "p_copy = dataprofile.copy()"
   ]
  },
  {
   "cell_type": "code",
   "execution_count": 32,
   "metadata": {},
   "outputs": [
    {
     "name": "stdout",
     "output_type": "stream",
     "text": [
      "754.0\n",
      "406.0\n",
      "120.0\n"
     ]
    }
   ],
   "source": [
    "following_median = dataprofile['following'].median()\n",
    "followers_median = dataprofile['followers'].median()\n",
    "n_posts_median = dataprofile['n_posts'].median()\n",
    "\n",
    "print(following_median)\n",
    "print(followers_median)\n",
    "print(n_posts_median)"
   ]
  },
  {
   "cell_type": "code",
   "execution_count": 33,
   "metadata": {},
   "outputs": [],
   "source": [
    "p_copy.profile_id.fillna('', inplace=True)\n",
    "p_copy.firstname_lastname.fillna('', inplace=True)\n",
    "p_copy.description.fillna('', inplace=True)\n",
    "p_copy.following.fillna(754, inplace=True)\n",
    "p_copy.followers.fillna(406, inplace=True)\n",
    "p_copy.n_posts.fillna(120, inplace=True)\n",
    "p_copy.url.fillna('', inplace=True)\n",
    "p_copy.cts.fillna('', inplace=True)\n",
    "p_copy.is_business_account.fillna(False, inplace=True)"
   ]
  },
  {
   "cell_type": "markdown",
   "metadata": {},
   "source": [
    "We decided to replace null values of followers, following and n_posts values with the median to avoid modifications in the statistic evaluation of data which in this way remains significant. The number of null values for these variables is too high to drop them all. "
   ]
  },
  {
   "cell_type": "code",
   "execution_count": 34,
   "metadata": {},
   "outputs": [
    {
     "data": {
      "text/plain": [
       "sid                    0\n",
       "profile_id             0\n",
       "profile_name           0\n",
       "firstname_lastname     0\n",
       "description            0\n",
       "following              0\n",
       "followers              0\n",
       "n_posts                0\n",
       "url                    0\n",
       "cts                    0\n",
       "is_business_account    0\n",
       "dtype: int64"
      ]
     },
     "execution_count": 34,
     "metadata": {},
     "output_type": "execute_result"
    }
   ],
   "source": [
    "p_copy.isnull().sum() #check if NaN values are all gone"
   ]
  },
  {
   "cell_type": "code",
   "execution_count": 35,
   "metadata": {},
   "outputs": [
    {
     "name": "stdout",
     "output_type": "stream",
     "text": [
      "False    3654332\n",
      "True      855254\n",
      "Name: is_business_account, dtype: int64\n"
     ]
    }
   ],
   "source": [
    "print(p_copy[\"is_business_account\"].value_counts())"
   ]
  },
  {
   "cell_type": "code",
   "execution_count": 36,
   "metadata": {},
   "outputs": [],
   "source": [
    "pos = [False, True]\n",
    "bars = ('Non business account', 'Business account')"
   ]
  },
  {
   "cell_type": "code",
   "execution_count": 37,
   "metadata": {},
   "outputs": [],
   "source": [
    "h_t = p_copy[\"is_business_account\"].value_counts()[1]\n",
    "h_f = p_copy[\"is_business_account\"].value_counts()[0]\n",
    "heights = [h_f, h_t]"
   ]
  },
  {
   "cell_type": "code",
   "execution_count": 38,
   "metadata": {},
   "outputs": [
    {
     "data": {
      "image/png": "[encoded data removed]",
      "text/plain": [
       "<Figure size 432x288 with 1 Axes>"
      ]
     },
     "metadata": {
      "needs_background": "light"
     },
     "output_type": "display_data"
    }
   ],
   "source": [
    "plt.bar(pos, heights, color=('red','green'), edgecolor='black')\n",
    "plt.xticks(pos, bars)\n",
    "plt.show()"
   ]
  },
  {
   "cell_type": "markdown",
   "metadata": {},
   "source": [
    "Before moving forword with the graphic visualization of the quantitative variables, we need to specify that the range of the x axis was reduced, in order to visualize better the distribution of the variables for the lower values of each column which are much more than higher ones. "
   ]
  },
  {
   "cell_type": "code",
   "execution_count": 39,
   "metadata": {},
   "outputs": [
    {
     "data": {
      "image/png": "[encoded data removed]",
      "text/plain": [
       "<Figure size 432x288 with 1 Axes>"
      ]
     },
     "metadata": {
      "needs_background": "light"
     },
     "output_type": "display_data"
    }
   ],
   "source": [
    "following_new = p_copy[p_copy['following'] < 5000]\n",
    "image, plot= plt.subplots()\n",
    "plot.hist(following_new['following'], bins=10, fc='blue', ec='black')\n",
    "plot.set_xlabel('Number of following')\n",
    "plot.set_ylabel('Absolute frequency')\n",
    "plt.show()"
   ]
  },
  {
   "cell_type": "markdown",
   "metadata": {},
   "source": [
    "The distribution of following is positively skewed because the main part of the population is on the left, corresponding to a number of following lower than 1000."
   ]
  },
  {
   "cell_type": "code",
   "execution_count": 40,
   "metadata": {},
   "outputs": [
    {
     "data": {
      "image/png": "[encoded data removed]",
      "text/plain": [
       "<Figure size 432x288 with 1 Axes>"
      ]
     },
     "metadata": {
      "needs_background": "light"
     },
     "output_type": "display_data"
    }
   ],
   "source": [
    "followers_new = p_copy[p_copy['followers'] < 4000]\n",
    "image, plot= plt.subplots()\n",
    "plot.hist(followers_new['followers'], bins=15, fc='blue', ec='black')\n",
    "plot.set_xlabel('Number of followers')\n",
    "plot.set_ylabel('Absolute frequency')\n",
    "plt.show()"
   ]
  },
  {
   "cell_type": "markdown",
   "metadata": {},
   "source": [
    "The distribution of the followers is positively skewed as the following one, this because the main part of the population has\n",
    "less than 500 followers. So a very long tail characterizes the decreasing number of people who have an increasing number of followers."
   ]
  },
  {
   "cell_type": "code",
   "execution_count": 41,
   "metadata": {},
   "outputs": [
    {
     "data": {
      "image/png": "[encoded data removed]",
      "text/plain": [
       "<Figure size 432x288 with 1 Axes>"
      ]
     },
     "metadata": {
      "needs_background": "light"
     },
     "output_type": "display_data"
    },
    {
     "name": "stdout",
     "output_type": "stream",
     "text": [
      "Mode: 120.0\n"
     ]
    }
   ],
   "source": [
    "from statistics import mode\n",
    "n_posts_new = p_copy[p_copy['n_posts'] < 500]\n",
    "image, plot= plt.subplots()\n",
    "plot.hist(n_posts_new['n_posts'], bins=15, fc='blue', ec='black')\n",
    "plot.set_xlabel('Number of posts')\n",
    "plot.set_ylabel('Absolute frequency')\n",
    "plt.show()\n",
    "print('Mode: ' + str( mode(p_copy['n_posts'])))"
   ]
  },
  {
   "cell_type": "markdown",
   "metadata": {},
   "source": [
    "The distribution of the number of posts would be positively skewed if there was not a peak, corresponding to the mode,  between 100 and 200  posts. The mode is, in fact, 120 but, mainly, the population has a very low number of posts."
   ]
  },
  {
   "cell_type": "code",
   "execution_count": 50,
   "metadata": {},
   "outputs": [],
   "source": [
    "datapost = pd.read_csv('C:\\\\Users\\\\Utente\\\\Desktop\\\\instagram_posts.csv.zip', delimiter='\\t', usecols=['profile_id', 'location_id', 'cts'])"
   ]
  },
  {
   "cell_type": "code",
   "execution_count": 51,
   "metadata": {},
   "outputs": [
    {
     "data": {
      "text/plain": [
       "(42710197, 3)"
      ]
     },
     "execution_count": 51,
     "metadata": {},
     "output_type": "execute_result"
    }
   ],
   "source": [
    "datapost.shape"
   ]
  },
  {
   "cell_type": "code",
   "execution_count": 52,
   "metadata": {},
   "outputs": [
    {
     "name": "stdout",
     "output_type": "stream",
     "text": [
      "<class 'pandas.core.frame.DataFrame'>\n",
      "RangeIndex: 42710197 entries, 0 to 42710196\n",
      "Data columns (total 3 columns):\n",
      " #   Column       Dtype  \n",
      "---  ------       -----  \n",
      " 0   profile_id   float64\n",
      " 1   location_id  float64\n",
      " 2   cts          object \n",
      "dtypes: float64(2), object(1)\n",
      "memory usage: 977.6+ MB\n"
     ]
    }
   ],
   "source": [
    "datapost.info()"
   ]
  },
  {
   "cell_type": "code",
   "execution_count": 53,
   "metadata": {},
   "outputs": [
    {
     "data": {
      "text/html": [
       "<div>\n",
       "<style scoped>\n",
       "    .dataframe tbody tr th:only-of-type {\n",
       "        vertical-align: middle;\n",
       "    }\n",
       "\n",
       "    .dataframe tbody tr th {\n",
       "        vertical-align: top;\n",
       "    }\n",
       "\n",
       "    .dataframe thead th {\n",
       "        text-align: right;\n",
       "    }\n",
       "</style>\n",
       "<table border=\"1\" class=\"dataframe\">\n",
       "  <thead>\n",
       "    <tr style=\"text-align: right;\">\n",
       "      <th></th>\n",
       "      <th>profile_id</th>\n",
       "      <th>location_id</th>\n",
       "      <th>cts</th>\n",
       "    </tr>\n",
       "  </thead>\n",
       "  <tbody>\n",
       "    <tr>\n",
       "      <th>0</th>\n",
       "      <td>2.237948e+09</td>\n",
       "      <td>1.022366e+15</td>\n",
       "      <td>2017-08-06 20:06:57.000</td>\n",
       "    </tr>\n",
       "    <tr>\n",
       "      <th>1</th>\n",
       "      <td>5.579335e+09</td>\n",
       "      <td>4.574268e+14</td>\n",
       "      <td>2017-06-19 09:31:16.000</td>\n",
       "    </tr>\n",
       "    <tr>\n",
       "      <th>2</th>\n",
       "      <td>3.134296e+08</td>\n",
       "      <td>4.574268e+14</td>\n",
       "      <td>2017-03-11 20:05:03.000</td>\n",
       "    </tr>\n",
       "    <tr>\n",
       "      <th>3</th>\n",
       "      <td>1.837593e+09</td>\n",
       "      <td>4.574268e+14</td>\n",
       "      <td>2016-09-13 16:27:16.000</td>\n",
       "    </tr>\n",
       "    <tr>\n",
       "      <th>4</th>\n",
       "      <td>1.131527e+09</td>\n",
       "      <td>4.574268e+14</td>\n",
       "      <td>2015-10-18 10:19:27.000</td>\n",
       "    </tr>\n",
       "  </tbody>\n",
       "</table>\n",
       "</div>"
      ],
      "text/plain": [
       "     profile_id   location_id                      cts\n",
       "0  2.237948e+09  1.022366e+15  2017-08-06 20:06:57.000\n",
       "1  5.579335e+09  4.574268e+14  2017-06-19 09:31:16.000\n",
       "2  3.134296e+08  4.574268e+14  2017-03-11 20:05:03.000\n",
       "3  1.837593e+09  4.574268e+14  2016-09-13 16:27:16.000\n",
       "4  1.131527e+09  4.574268e+14  2015-10-18 10:19:27.000"
      ]
     },
     "execution_count": 53,
     "metadata": {},
     "output_type": "execute_result"
    }
   ],
   "source": [
    "datapost.head()"
   ]
  },
  {
   "cell_type": "code",
   "execution_count": 54,
   "metadata": {},
   "outputs": [
    {
     "data": {
      "text/html": [
       "<div>\n",
       "<style scoped>\n",
       "    .dataframe tbody tr th:only-of-type {\n",
       "        vertical-align: middle;\n",
       "    }\n",
       "\n",
       "    .dataframe tbody tr th {\n",
       "        vertical-align: top;\n",
       "    }\n",
       "\n",
       "    .dataframe thead th {\n",
       "        text-align: right;\n",
       "    }\n",
       "</style>\n",
       "<table border=\"1\" class=\"dataframe\">\n",
       "  <thead>\n",
       "    <tr style=\"text-align: right;\">\n",
       "      <th></th>\n",
       "      <th>profile_id</th>\n",
       "      <th>location_id</th>\n",
       "      <th>cts</th>\n",
       "    </tr>\n",
       "  </thead>\n",
       "  <tbody>\n",
       "    <tr>\n",
       "      <th>42710192</th>\n",
       "      <td>5.556457e+09</td>\n",
       "      <td>4.574268e+14</td>\n",
       "      <td>2017-12-13 15:38:04.000</td>\n",
       "    </tr>\n",
       "    <tr>\n",
       "      <th>42710193</th>\n",
       "      <td>3.371865e+08</td>\n",
       "      <td>4.574268e+14</td>\n",
       "      <td>2017-10-31 11:28:01.000</td>\n",
       "    </tr>\n",
       "    <tr>\n",
       "      <th>42710194</th>\n",
       "      <td>3.289886e+09</td>\n",
       "      <td>4.574268e+14</td>\n",
       "      <td>2017-01-13 20:16:37.000</td>\n",
       "    </tr>\n",
       "    <tr>\n",
       "      <th>42710195</th>\n",
       "      <td>8.536366e+09</td>\n",
       "      <td>4.267235e+06</td>\n",
       "      <td>2019-05-20 20:07:52.000</td>\n",
       "    </tr>\n",
       "    <tr>\n",
       "      <th>42710196</th>\n",
       "      <td>2.219100e+09</td>\n",
       "      <td>4.574268e+14</td>\n",
       "      <td>2018-03-12 02:57:17.000</td>\n",
       "    </tr>\n",
       "  </tbody>\n",
       "</table>\n",
       "</div>"
      ],
      "text/plain": [
       "            profile_id   location_id                      cts\n",
       "42710192  5.556457e+09  4.574268e+14  2017-12-13 15:38:04.000\n",
       "42710193  3.371865e+08  4.574268e+14  2017-10-31 11:28:01.000\n",
       "42710194  3.289886e+09  4.574268e+14  2017-01-13 20:16:37.000\n",
       "42710195  8.536366e+09  4.267235e+06  2019-05-20 20:07:52.000\n",
       "42710196  2.219100e+09  4.574268e+14  2018-03-12 02:57:17.000"
      ]
     },
     "execution_count": 54,
     "metadata": {},
     "output_type": "execute_result"
    }
   ],
   "source": [
    "datapost.tail()"
   ]
  },
  {
   "cell_type": "code",
   "execution_count": 55,
   "metadata": {},
   "outputs": [
    {
     "data": {
      "text/html": [
       "<div>\n",
       "<style scoped>\n",
       "    .dataframe tbody tr th:only-of-type {\n",
       "        vertical-align: middle;\n",
       "    }\n",
       "\n",
       "    .dataframe tbody tr th {\n",
       "        vertical-align: top;\n",
       "    }\n",
       "\n",
       "    .dataframe thead th {\n",
       "        text-align: right;\n",
       "    }\n",
       "</style>\n",
       "<table border=\"1\" class=\"dataframe\">\n",
       "  <thead>\n",
       "    <tr style=\"text-align: right;\">\n",
       "      <th></th>\n",
       "      <th>profile_id</th>\n",
       "      <th>location_id</th>\n",
       "    </tr>\n",
       "  </thead>\n",
       "  <tbody>\n",
       "    <tr>\n",
       "      <th>count</th>\n",
       "      <td>4.012690e+07</td>\n",
       "      <td>2.973742e+07</td>\n",
       "    </tr>\n",
       "    <tr>\n",
       "      <th>mean</th>\n",
       "      <td>3.115016e+09</td>\n",
       "      <td>2.505684e+14</td>\n",
       "    </tr>\n",
       "    <tr>\n",
       "      <th>std</th>\n",
       "      <td>5.693654e+10</td>\n",
       "      <td>5.314271e+14</td>\n",
       "    </tr>\n",
       "    <tr>\n",
       "      <th>min</th>\n",
       "      <td>3.000000e+00</td>\n",
       "      <td>7.000000e+00</td>\n",
       "    </tr>\n",
       "    <tr>\n",
       "      <th>25%</th>\n",
       "      <td>2.869186e+08</td>\n",
       "      <td>2.242033e+08</td>\n",
       "    </tr>\n",
       "    <tr>\n",
       "      <th>50%</th>\n",
       "      <td>1.623552e+09</td>\n",
       "      <td>4.668245e+08</td>\n",
       "    </tr>\n",
       "    <tr>\n",
       "      <th>75%</th>\n",
       "      <td>5.430715e+09</td>\n",
       "      <td>2.170444e+14</td>\n",
       "    </tr>\n",
       "    <tr>\n",
       "      <th>max</th>\n",
       "      <td>9.001014e+13</td>\n",
       "      <td>2.402148e+16</td>\n",
       "    </tr>\n",
       "  </tbody>\n",
       "</table>\n",
       "</div>"
      ],
      "text/plain": [
       "         profile_id   location_id\n",
       "count  4.012690e+07  2.973742e+07\n",
       "mean   3.115016e+09  2.505684e+14\n",
       "std    5.693654e+10  5.314271e+14\n",
       "min    3.000000e+00  7.000000e+00\n",
       "25%    2.869186e+08  2.242033e+08\n",
       "50%    1.623552e+09  4.668245e+08\n",
       "75%    5.430715e+09  2.170444e+14\n",
       "max    9.001014e+13  2.402148e+16"
      ]
     },
     "execution_count": 55,
     "metadata": {},
     "output_type": "execute_result"
    }
   ],
   "source": [
    "datapost.describe()"
   ]
  },
  {
   "cell_type": "code",
   "execution_count": 56,
   "metadata": {},
   "outputs": [
    {
     "data": {
      "text/plain": [
       "profile_id     float64\n",
       "location_id    float64\n",
       "cts             object\n",
       "dtype: object"
      ]
     },
     "execution_count": 56,
     "metadata": {},
     "output_type": "execute_result"
    }
   ],
   "source": [
    "datapost.dtypes"
   ]
  },
  {
   "cell_type": "markdown",
   "metadata": {},
   "source": [
    "The instagram_posts dataframe has 42775776 rows and, because of its composition, is too big to be imported all together. So we decided to import interesting columns to analyse them. \n",
    "For each quantitative variable basic statistic are available in the table above."
   ]
  },
  {
   "cell_type": "code",
   "execution_count": 57,
   "metadata": {},
   "outputs": [
    {
     "data": {
      "text/plain": [
       "profile_id      2583292\n",
       "location_id    12972772\n",
       "cts                3332\n",
       "dtype: int64"
      ]
     },
     "execution_count": 57,
     "metadata": {},
     "output_type": "execute_result"
    }
   ],
   "source": [
    "datapost.isna().sum()"
   ]
  },
  {
   "cell_type": "code",
   "execution_count": 58,
   "metadata": {},
   "outputs": [
    {
     "data": {
      "text/plain": [
       "profile_id      6.05\n",
       "location_id    30.37\n",
       "cts             0.01\n",
       "dtype: float64"
      ]
     },
     "execution_count": 58,
     "metadata": {},
     "output_type": "execute_result"
    }
   ],
   "source": [
    "round(((datapost.isnull().sum()/datapost.shape[0])*100),2) #percetage of NaN values for each column "
   ]
  },
  {
   "cell_type": "code",
   "execution_count": 62,
   "metadata": {},
   "outputs": [],
   "source": [
    "datapostn = pd.read_csv('C:\\\\Users\\\\Utente\\\\Desktop\\\\instagram_posts.csv.zip', delimiter='\\t', usecols=['post_type', 'numbr_likes', 'number_comments'])\n",
    "posts_copy = datapostn.copy()"
   ]
  },
  {
   "cell_type": "code",
   "execution_count": 63,
   "metadata": {},
   "outputs": [],
   "source": [
    "pos = [1, 2, 3]\n",
    "bars = ('Photo', 'Video', 'Multy')"
   ]
  },
  {
   "cell_type": "code",
   "execution_count": 64,
   "metadata": {},
   "outputs": [],
   "source": [
    "h_1 = []\n",
    "h_2 = []\n",
    "h_3 = []\n",
    "for i in posts_copy['post_type']:\n",
    "    if i == 1:\n",
    "        h_1.append(i)\n",
    "    elif i == 2:\n",
    "        h_2.append(i)\n",
    "    else:\n",
    "        h_3.append(i)\n",
    "heights = [len(h_1), len(h_2), len(h_3)]"
   ]
  },
  {
   "cell_type": "code",
   "execution_count": 65,
   "metadata": {},
   "outputs": [
    {
     "data": {
      "image/png": "[encoded data removed]",
      "text/plain": [
       "<Figure size 432x288 with 1 Axes>"
      ]
     },
     "metadata": {
      "needs_background": "light"
     },
     "output_type": "display_data"
    }
   ],
   "source": [
    "plt.bar(pos, heights, color='orange', edgecolor='black')\n",
    "plt.xticks(pos, bars)\n",
    "plt.show()"
   ]
  },
  {
   "cell_type": "markdown",
   "metadata": {},
   "source": [
    "The barplot on post_type shows that the population in the dataframe mostly shares photos instead of videos and multy. About multy, the amount of this kind of post is so little compared with the other two that it can't be seen in the plot. "
   ]
  },
  {
   "cell_type": "code",
   "execution_count": 66,
   "metadata": {},
   "outputs": [
    {
     "name": "stdout",
     "output_type": "stream",
     "text": [
      "0.0 8822952.0\n"
     ]
    }
   ],
   "source": [
    "print(min(posts_copy['numbr_likes']), max(posts_copy['numbr_likes']))"
   ]
  },
  {
   "cell_type": "code",
   "execution_count": 67,
   "metadata": {},
   "outputs": [
    {
     "data": {
      "image/png": "[encoded data removed]",
      "text/plain": [
       "<Figure size 432x288 with 1 Axes>"
      ]
     },
     "metadata": {
      "needs_background": "light"
     },
     "output_type": "display_data"
    }
   ],
   "source": [
    "n_likes_new = posts_copy[posts_copy['numbr_likes'] < 1000]\n",
    "image, plot= plt.subplots()\n",
    "plot.hist(n_likes_new['numbr_likes'], fc='blue', ec='black')\n",
    "plot.set_xlabel('Number of likes')\n",
    "plot.set_ylabel('Absolute frequency')\n",
    "plt.show()"
   ]
  },
  {
   "cell_type": "markdown",
   "metadata": {},
   "source": [
    "The plot shows that mainly the population receives a number of likes between 0 and 100. The distribution is positively skewed with a very long tail that becomes thinner as we go towards higher number of likes."
   ]
  },
  {
   "cell_type": "code",
   "execution_count": 68,
   "metadata": {},
   "outputs": [
    {
     "data": {
      "image/png": "[encoded data removed]",
      "text/plain": [
       "<Figure size 432x288 with 1 Axes>"
      ]
     },
     "metadata": {
      "needs_background": "light"
     },
     "output_type": "display_data"
    }
   ],
   "source": [
    "n_comments_new = posts_copy[posts_copy['number_comments'] < 100]\n",
    "image, plot= plt.subplots()\n",
    "plot.hist(n_comments_new['number_comments'], fc='blue', ec='black')\n",
    "plot.set_xlabel('Number of comments')\n",
    "plot.set_ylabel('Absolute frequency')\n",
    "plt.show()"
   ]
  },
  {
   "cell_type": "markdown",
   "metadata": {},
   "source": [
    "The distribution of number of comments is mostly gathered under 10 comments and has a long tail that covers the other values which frequency is very low."
   ]
  },
  {
   "cell_type": "code",
   "execution_count": 69,
   "metadata": {},
   "outputs": [
    {
     "data": {
      "text/plain": [
       "3990313    183730.0\n",
       "2571453    142428.0\n",
       "4338921    126340.0\n",
       "3942129    125220.0\n",
       "4219642    117262.0\n",
       "             ...   \n",
       "4509575         NaN\n",
       "4509577         NaN\n",
       "4509582         NaN\n",
       "4509583         NaN\n",
       "4509585         NaN\n",
       "Name: n_posts, Length: 4509586, dtype: float64"
      ]
     },
     "execution_count": 69,
     "metadata": {},
     "output_type": "execute_result"
    }
   ],
   "source": [
    "#RQ2\n",
    "#1\n",
    "dataprofile.sort_values([\"n_posts\"],axis=0,ascending=[False],inplace=True)\n",
    "dataprofile.n_posts\n",
    "\n"
   ]
  },
  {
   "cell_type": "code",
   "execution_count": 70,
   "metadata": {},
   "outputs": [
    {
     "data": {
      "text/html": [
       "<div>\n",
       "<style scoped>\n",
       "    .dataframe tbody tr th:only-of-type {\n",
       "        vertical-align: middle;\n",
       "    }\n",
       "\n",
       "    .dataframe tbody tr th {\n",
       "        vertical-align: top;\n",
       "    }\n",
       "\n",
       "    .dataframe thead th {\n",
       "        text-align: right;\n",
       "    }\n",
       "</style>\n",
       "<table border=\"1\" class=\"dataframe\">\n",
       "  <thead>\n",
       "    <tr style=\"text-align: right;\">\n",
       "      <th></th>\n",
       "      <th>post_type</th>\n",
       "      <th>numbr_likes</th>\n",
       "      <th>number_comments</th>\n",
       "    </tr>\n",
       "  </thead>\n",
       "  <tbody>\n",
       "    <tr>\n",
       "      <th>19624085</th>\n",
       "      <td>1</td>\n",
       "      <td>8822952.0</td>\n",
       "      <td>165886.0</td>\n",
       "    </tr>\n",
       "  </tbody>\n",
       "</table>\n",
       "</div>"
      ],
      "text/plain": [
       "          post_type  numbr_likes  number_comments\n",
       "19624085          1    8822952.0         165886.0"
      ]
     },
     "execution_count": 70,
     "metadata": {},
     "output_type": "execute_result"
    }
   ],
   "source": [
    "#2\n",
    "a = max(datapostn.numbr_likes)\n",
    "datapostn[datapostn.numbr_likes == a]"
   ]
  },
  {
   "cell_type": "code",
   "execution_count": 71,
   "metadata": {},
   "outputs": [
    {
     "data": {
      "text/html": [
       "<div>\n",
       "<style scoped>\n",
       "    .dataframe tbody tr th:only-of-type {\n",
       "        vertical-align: middle;\n",
       "    }\n",
       "\n",
       "    .dataframe tbody tr th {\n",
       "        vertical-align: top;\n",
       "    }\n",
       "\n",
       "    .dataframe thead th {\n",
       "        text-align: right;\n",
       "    }\n",
       "</style>\n",
       "<table border=\"1\" class=\"dataframe\">\n",
       "  <thead>\n",
       "    <tr style=\"text-align: right;\">\n",
       "      <th></th>\n",
       "      <th>post_type</th>\n",
       "      <th>numbr_likes</th>\n",
       "      <th>number_comments</th>\n",
       "    </tr>\n",
       "  </thead>\n",
       "  <tbody>\n",
       "    <tr>\n",
       "      <th>41873060</th>\n",
       "      <td>1</td>\n",
       "      <td>38871.0</td>\n",
       "      <td>488953.0</td>\n",
       "    </tr>\n",
       "  </tbody>\n",
       "</table>\n",
       "</div>"
      ],
      "text/plain": [
       "          post_type  numbr_likes  number_comments\n",
       "41873060          1      38871.0         488953.0"
      ]
     },
     "execution_count": 71,
     "metadata": {},
     "output_type": "execute_result"
    }
   ],
   "source": [
    "#3.1\n",
    "maxcommenti = max(datapostn.number_comments)\n",
    "datapostn[datapostn.number_comments == maxcommenti]\n"
   ]
  },
  {
   "cell_type": "code",
   "execution_count": 72,
   "metadata": {},
   "outputs": [
    {
     "data": {
      "text/html": [
       "<div>\n",
       "<style scoped>\n",
       "    .dataframe tbody tr th:only-of-type {\n",
       "        vertical-align: middle;\n",
       "    }\n",
       "\n",
       "    .dataframe tbody tr th {\n",
       "        vertical-align: top;\n",
       "    }\n",
       "\n",
       "    .dataframe thead th {\n",
       "        text-align: right;\n",
       "    }\n",
       "</style>\n",
       "<table border=\"1\" class=\"dataframe\">\n",
       "  <thead>\n",
       "    <tr style=\"text-align: right;\">\n",
       "      <th></th>\n",
       "      <th>post_type</th>\n",
       "      <th>numbr_likes</th>\n",
       "      <th>number_comments</th>\n",
       "    </tr>\n",
       "  </thead>\n",
       "  <tbody>\n",
       "    <tr>\n",
       "      <th>0</th>\n",
       "      <td>2</td>\n",
       "      <td>80.0</td>\n",
       "      <td>0.0</td>\n",
       "    </tr>\n",
       "    <tr>\n",
       "      <th>2</th>\n",
       "      <td>1</td>\n",
       "      <td>9.0</td>\n",
       "      <td>0.0</td>\n",
       "    </tr>\n",
       "    <tr>\n",
       "      <th>3</th>\n",
       "      <td>1</td>\n",
       "      <td>4.0</td>\n",
       "      <td>0.0</td>\n",
       "    </tr>\n",
       "    <tr>\n",
       "      <th>4</th>\n",
       "      <td>1</td>\n",
       "      <td>8.0</td>\n",
       "      <td>0.0</td>\n",
       "    </tr>\n",
       "    <tr>\n",
       "      <th>11</th>\n",
       "      <td>1</td>\n",
       "      <td>16.0</td>\n",
       "      <td>0.0</td>\n",
       "    </tr>\n",
       "    <tr>\n",
       "      <th>...</th>\n",
       "      <td>...</td>\n",
       "      <td>...</td>\n",
       "      <td>...</td>\n",
       "    </tr>\n",
       "    <tr>\n",
       "      <th>42710190</th>\n",
       "      <td>1</td>\n",
       "      <td>43.0</td>\n",
       "      <td>0.0</td>\n",
       "    </tr>\n",
       "    <tr>\n",
       "      <th>42710191</th>\n",
       "      <td>1</td>\n",
       "      <td>149.0</td>\n",
       "      <td>0.0</td>\n",
       "    </tr>\n",
       "    <tr>\n",
       "      <th>42710192</th>\n",
       "      <td>1</td>\n",
       "      <td>74.0</td>\n",
       "      <td>0.0</td>\n",
       "    </tr>\n",
       "    <tr>\n",
       "      <th>42710193</th>\n",
       "      <td>1</td>\n",
       "      <td>49.0</td>\n",
       "      <td>0.0</td>\n",
       "    </tr>\n",
       "    <tr>\n",
       "      <th>42710194</th>\n",
       "      <td>1</td>\n",
       "      <td>18.0</td>\n",
       "      <td>0.0</td>\n",
       "    </tr>\n",
       "  </tbody>\n",
       "</table>\n",
       "<p>14133205 rows × 3 columns</p>\n",
       "</div>"
      ],
      "text/plain": [
       "          post_type  numbr_likes  number_comments\n",
       "0                 2         80.0              0.0\n",
       "2                 1          9.0              0.0\n",
       "3                 1          4.0              0.0\n",
       "4                 1          8.0              0.0\n",
       "11                1         16.0              0.0\n",
       "...             ...          ...              ...\n",
       "42710190          1         43.0              0.0\n",
       "42710191          1        149.0              0.0\n",
       "42710192          1         74.0              0.0\n",
       "42710193          1         49.0              0.0\n",
       "42710194          1         18.0              0.0\n",
       "\n",
       "[14133205 rows x 3 columns]"
      ]
     },
     "execution_count": 72,
     "metadata": {},
     "output_type": "execute_result"
    }
   ],
   "source": [
    "#3.2\n",
    "datapostn.number_comments.fillna(0.0,inplace = True)\n",
    "mincommenti = min(datapostn.number_comments)\n",
    "datapostn[datapostn.number_comments == mincommenti]"
   ]
  },
  {
   "cell_type": "code",
   "execution_count": 73,
   "metadata": {},
   "outputs": [
    {
     "data": {
      "text/plain": [
       "<function matplotlib.pyplot.show(close=None, block=None)>"
      ]
     },
     "execution_count": 73,
     "metadata": {},
     "output_type": "execute_result"
    },
    {
     "data": {
      "image/png": "[encoded data removed]",
      "text/plain": [
       "<Figure size 432x288 with 1 Axes>"
      ]
     },
     "metadata": {},
     "output_type": "display_data"
    }
   ],
   "source": [
    "#4\n",
    "import numpy as np\n",
    "datapost.location_id.fillna('',inplace=True)\n",
    "a = sum(datapost.location_id == '')\n",
    "b = sum(datapost.location_id != '')\n",
    "x = np.array([a,b])\n",
    "label = ['Post senza location', 'Post con location']\n",
    "\n",
    "plt.pie(x,labels=label)\n",
    "plt.legend()\n",
    "plt.show"
   ]
  },
  {
   "cell_type": "code",
   "execution_count": 74,
   "metadata": {},
   "outputs": [
    {
     "data": {
      "image/png": "[encoded data removed]",
      "text/plain": [
       "<Figure size 432x288 with 1 Axes>"
      ]
     },
     "metadata": {
      "needs_background": "light"
     },
     "output_type": "display_data"
    }
   ],
   "source": [
    "#5\n",
    "\n",
    "a = sum(datapostn.post_type == 1)\n",
    "b = sum(datapostn.post_type == 2)\n",
    "ps =[1,2]\n",
    "plt.bar(ps,[a,b])\n",
    "bars = ('Photo','Video')\n",
    "plt.xticks(ps,bars)\n",
    "\n",
    "plt.show()\n"
   ]
  },
  {
   "cell_type": "markdown",
   "metadata": {},
   "source": [
    "As we can see from the histogram and the values ​​obtained, the number of posts with photos is very frequent, almost all of them are of this type. Instead there are very few posts with videos."
   ]
  },
  {
   "cell_type": "code",
   "execution_count": 75,
   "metadata": {},
   "outputs": [
    {
     "name": "stdout",
     "output_type": "stream",
     "text": [
      "18.965244259672616 81.03475574032738\n"
     ]
    },
    {
     "data": {
      "image/png": "[encoded data removed]",
      "text/plain": [
       "<Figure size 432x288 with 1 Axes>"
      ]
     },
     "metadata": {},
     "output_type": "display_data"
    }
   ],
   "source": [
    "#6\n",
    "a = sum(p_copy.is_business_account== True)\n",
    "b = sum(p_copy.is_business_account == False)\n",
    "total = a+b\n",
    "percbus = (a/total)*100\n",
    "percnobus = (b/total)*100\n",
    "print(percbus,percnobus)\n",
    "\n",
    "label = ['Profili business','Profili non business']\n",
    "mycolor = ['r','b']\n",
    "plt.pie([percbus,percnobus],labels=label,colors=mycolor)\n",
    "plt.legend()\n",
    "plt.show()\n"
   ]
  },
  {
   "cell_type": "markdown",
   "metadata": {},
   "source": [
    "Dato che c'è un alto numero di valori nan nella colonna is_business_account, le percentuali calcolate non sono molto precise."
   ]
  },
  {
   "cell_type": "code",
   "execution_count": 76,
   "metadata": {},
   "outputs": [
    {
     "data": {
      "text/plain": [
       "(19, 2499758)"
      ]
     },
     "execution_count": 76,
     "metadata": {},
     "output_type": "execute_result"
    }
   ],
   "source": [
    "#RQ3\n",
    "#1\n",
    "import collections\n",
    "a = pd.to_datetime(datapost.cts)\n",
    "b = [el.hour for el in a]\n",
    "c = collections.Counter(b)\n",
    "c.most_common()[0]"
   ]
  },
  {
   "cell_type": "code",
   "execution_count": 78,
   "metadata": {},
   "outputs": [
    {
     "data": {
      "text/plain": [
       "15139417    B0-ialyhrrQ\n",
       "15139418    B06IBU5hAgk\n",
       "15139419    ByuuapFB79D\n",
       "15139420    Byfp-RlB_uw\n",
       "15139421    ByJGI45htl6\n",
       "15139422    BxptOzchGQ0\n",
       "15139423    BxXvL-7BQGE\n",
       "15139424    BxFlWvJBKus\n",
       "15139425    BwhXw7EhbI6\n",
       "15139426    BwXTVW3BIqa\n",
       "15139427    BwMjqr7hlkb\n",
       "15139428    Bv9xxp5H4cw\n",
       "28490452    Bk4ZeJcgY91\n",
       "Name: post_id, dtype: object"
      ]
     },
     "execution_count": 78,
     "metadata": {},
     "output_type": "execute_result"
    }
   ],
   "source": [
    "#RQ4\n",
    "#1\n",
    "datapostpostid= pd.read_csv('C:\\\\Users\\\\Utente\\\\Desktop\\\\instagram_posts.csv.zip', delimiter='\\t', usecols=['post_id','profile_id'])\n",
    "def f1(profile):\n",
    "   return datapostpostid.post_id[datapostpostid[\"profile_id\"] == profile]\n",
    "\n",
    "f1(183711246.0)\n"
   ]
  },
  {
   "cell_type": "code",
   "execution_count": 80,
   "metadata": {},
   "outputs": [
    {
     "name": "stdout",
     "output_type": "stream",
     "text": [
      "      profile_id      post_id\n",
      "0   1.996648e+08  Bq3hP3Khp8J\n",
      "1   1.996648e+08  Bq3hN53hUsD\n",
      "2   1.996648e+08  BCqCe9LypeF\n",
      "3   1.996648e+08   20Wu4zypd2\n",
      "4   1.996648e+08  BrKq76AhadU\n",
      "5   1.996648e+08  Bq_MjFzB_Wt\n",
      "6   1.996648e+08  Bq_MiKhhP05\n",
      "7   1.996648e+08  BpQ2cmKF-W0\n",
      "8   1.996648e+08   3V4OeXypTT\n",
      "9   1.996648e+08  BzUmjr2pgni\n",
      "10  1.996648e+08  BzUmictJSO1\n",
      "11  1.996648e+08  BzUmhW0pjrN\n",
      "12  1.996648e+08  BzUmgscJEK4\n",
      "13  1.996648e+08  BzUmgBYJzoS\n",
      "14  1.996648e+08  BzUmfZspDqA\n",
      "15  1.996648e+08  BzUmejDptYx\n",
      "16  1.996648e+08  BzUmdnupYxW\n",
      "17  1.996648e+08  BzUmcZRpTTn\n",
      "18  1.996648e+08  BzScUjhJiwK\n",
      "19  1.996648e+08  BzRkojLJBMQ\n",
      "20  1.996648e+08  BzRkmb3JXea\n",
      "21  8.563367e+09  BxJpvMrpl0n\n",
      "22  8.563367e+09  BxJpeX2pXeN\n",
      "23  8.563367e+09  BxJptNSpk6g\n",
      "24  8.563367e+09  BxJpzW4J6Aq\n",
      "25  8.563367e+09  BxJpgQMJa66\n",
      "26  8.563367e+09  BxJp2qgpVJo\n",
      "27  8.563367e+09  BxJpxSLp4rB\n",
      "28  8.563367e+09  BxJpcZ0JRqN\n",
      "29  8.563367e+09  BxJp4i3pArJ\n",
      "30  8.563367e+09  BxJpq3dppxY\n",
      "31  8.563367e+09  BxJp6dVJvtO\n",
      "32  8.563367e+09  BxJposzpeA7\n",
      "33  8.563367e+09  BxJpmohpwK2\n",
      "34  8.563367e+09  BxJpkrrJ0b3\n",
      "35  8.563367e+09  BxJpijSJd_f\n"
     ]
    }
   ],
   "source": [
    "#2\n",
    "def f2(n):\n",
    "  dataprofile.sort_values(by = 'n_posts' , ascending = False, inplace = True)\n",
    "#create a sub-dataframe of n-top users (profile.csv)\n",
    "  selected = dataprofile.profile_id.head(n)\n",
    "#merge 2 dataframes on profile_id column (profile.csv and post.csv)\n",
    "  merged = pd.merge(selected, datapostpostid[['profile_id','post_id']], on = 'profile_id', how = \"left\")\n",
    "  print(merged)\n",
    "\n",
    "f2(2)"
   ]
  },
  {
   "cell_type": "code",
   "execution_count": 82,
   "metadata": {},
   "outputs": [
    {
     "name": "stdout",
     "output_type": "stream",
     "text": [
      "average number of likes:  3.1713483146067416\n",
      "average number of comments:  0.033707865168539325\n"
     ]
    }
   ],
   "source": [
    "#3\n",
    "#create a sub-dataframe of 10 top users (profile.csv)\n",
    "datapostr = pd.read_csv('C:\\\\Users\\\\Utente\\\\Desktop\\\\instagram_posts.csv.zip', delimiter='\\t', usecols=['profile_id', 'numbr_likes', 'number_comments'])\n",
    "selected_2 = dataprofile.sort_values(by = 'n_posts', ascending = False).head(10)\n",
    "merged_2 = pd.merge(selected_2['profile_id'], datapostr[['profile_id','numbr_likes','number_comments']], on = 'profile_id', how = \"left\")\n",
    "print('average number of likes: ' ,merged_2['numbr_likes'].mean(axis = 0, skipna = True))\n",
    "print('average number of comments: ' ,merged_2['number_comments'].mean(axis = 0, skipna = True))"
   ]
  },
  {
   "cell_type": "code",
   "execution_count": null,
   "metadata": {},
   "outputs": [],
   "source": [
    "data_post = pd.read_csv('C:\\\\Users\\\\Utente\\\\Desktop\\\\instagram_posts.csv.zip',usecols = ['sid','profile_id','post_id','location_id','post_type','numbr_likes','number_comments'],delimiter = '\\t')"
   ]
  },
  {
   "cell_type": "code",
   "execution_count": null,
   "metadata": {},
   "outputs": [],
   "source": [
    "selected3 = dataprofile.sort_values(['followers','n_posts'] , ascending = [False,False]).head(10)\n",
    "selected3"
   ]
  },
  {
   "cell_type": "code",
   "execution_count": null,
   "metadata": {},
   "outputs": [],
   "source": [
    "selected3.plot(x = 'followers' , y = 'n_posts', kind = 'line')\n",
    "plt.show()"
   ]
  },
  {
   "cell_type": "code",
   "execution_count": null,
   "metadata": {},
   "outputs": [],
   "source": [
    "# top 1 profile id based on the number of followers and posts\n",
    "selected3['profile_name'].head(1)"
   ]
  },
  {
   "cell_type": "code",
   "execution_count": null,
   "metadata": {},
   "outputs": [],
   "source": [
    "merged = pd.merge(selected3['profile_id'], data_post[['profile_id','post_id','location_id']], on = 'profile_id', how = \"left\")"
   ]
  },
  {
   "cell_type": "code",
   "execution_count": null,
   "metadata": {},
   "outputs": [],
   "source": [
    "locations = merged.fillna(0)\n",
    "locations"
   ]
  },
  {
   "cell_type": "code",
   "execution_count": null,
   "metadata": {},
   "outputs": [],
   "source": [
    "location_freq = locations.groupby(['location_id','profile_id']).count()"
   ]
  },
  {
   "cell_type": "code",
   "execution_count": null,
   "metadata": {},
   "outputs": [],
   "source": [
    "location_freq.sort_values(by = 'post_id', ascending = False)"
   ]
  },
  {
   "cell_type": "code",
   "execution_count": null,
   "metadata": {},
   "outputs": [],
   "source": [
    "post = data_post.fillna(0)"
   ]
  },
  {
   "cell_type": "code",
   "execution_count": null,
   "metadata": {},
   "outputs": [],
   "source": [
    "#create a sub-dataframe \n",
    "merged_2 = pd.merge(selected3['profile_id'], data_post[['profile_id','post_id','post_type','numbr_likes','number_comments']], on = 'profile_id', how = \"left\")"
   ]
  },
  {
   "cell_type": "code",
   "execution_count": null,
   "metadata": {},
   "outputs": [],
   "source": [
    "merged_2"
   ]
  },
  {
   "cell_type": "code",
   "execution_count": null,
   "metadata": {},
   "outputs": [],
   "source": [
    "merged_2['post_type'].value_counts()\n",
    "#top 10 popular users just share type 1 and 2;in other words, photo and video"
   ]
  },
  {
   "cell_type": "code",
   "execution_count": null,
   "metadata": {},
   "outputs": [],
   "source": [
    "my_labels = 'Photo','Video'\n",
    "my_colors = ['lightblue','lightcoral']\n",
    "plt.pie(merged_2['post_type'].value_counts(), labels = my_labels, autopct = '%1.1f%%', startangle = 10, colors = my_colors)\n",
    "plt.title('Post Type')\n",
    "plt.axis('equal')\n",
    "plt.show()"
   ]
  },
  {
   "cell_type": "code",
   "execution_count": null,
   "metadata": {},
   "outputs": [],
   "source": [
    "#create sub-dataframe based on type of post\n",
    "photo = merged_2[merged_2['post_type'] == 1]\n",
    "video = merged_2[merged_2['post_type'] == 2]\n",
    "both  = merged_2[merged_2['post_type'] == 3]"
   ]
  },
  {
   "cell_type": "code",
   "execution_count": null,
   "metadata": {},
   "outputs": [],
   "source": [
    "#the number of rows in each sub-data frame\n",
    "n_photo = len(photo)\n",
    "n_video = len(video)\n",
    "n_both  = len(both)"
   ]
  },
  {
   "cell_type": "code",
   "execution_count": null,
   "metadata": {},
   "outputs": [],
   "source": [
    "print(n_photo)\n",
    "print(n_video)\n",
    "print(n_both)\n",
    "#top 10 profiles just share photo and video"
   ]
  },
  {
   "cell_type": "code",
   "execution_count": null,
   "metadata": {},
   "outputs": [],
   "source": [
    "#the average of likes and comments for their photo\n",
    "avg_photo = photo.groupby(['profile_id','post_type']).agg('sum')\n",
    "avg_photo"
   ]
  },
  {
   "cell_type": "code",
   "execution_count": null,
   "metadata": {},
   "outputs": [],
   "source": [
    "avg_video =  video.groupby(['profile_id','post_type']).agg('sum')\n",
    "avg_video"
   ]
  },
  {
   "cell_type": "code",
   "execution_count": null,
   "metadata": {},
   "outputs": [],
   "source": [
    "merged_3 = pd.merge(avg_photo, avg_video, on = 'profile_id', how = \"left\")"
   ]
  },
  {
   "cell_type": "code",
   "execution_count": null,
   "metadata": {},
   "outputs": [],
   "source": [
    "merged_3"
   ]
  },
  {
   "cell_type": "code",
   "execution_count": null,
   "metadata": {},
   "outputs": [],
   "source": [
    "merged_4 = pd.merge(selected3[['profile_id','profile_name','followers']], merged_3, on = 'profile_id', how = \"left\")"
   ]
  },
  {
   "cell_type": "code",
   "execution_count": null,
   "metadata": {},
   "outputs": [],
   "source": [
    "#rename columns\n",
    "merged_4.columns = ['profile_id','profile_name','followers','PhotoLikeNumber','PhotoCmNumber','VideoLikeNumber','VideoCmNumber']"
   ]
  },
  {
   "cell_type": "code",
   "execution_count": null,
   "metadata": {},
   "outputs": [],
   "source": [
    "merged_4.sort_values(by='followers', inplace = True)"
   ]
  },
  {
   "cell_type": "code",
   "execution_count": null,
   "metadata": {},
   "outputs": [],
   "source": [
    "merged_4"
   ]
  },
  {
   "cell_type": "code",
   "execution_count": null,
   "metadata": {},
   "outputs": [],
   "source": [
    "merged_4.plot.bar( x = 'followers', y = 'PhotoLikeNumber', color = 'orange')"
   ]
  },
  {
   "cell_type": "code",
   "execution_count": null,
   "metadata": {},
   "outputs": [],
   "source": [
    "merged_4.plot.bar( x = 'followers', y = 'PhotoCmNumber', color = 'coral')"
   ]
  },
  {
   "cell_type": "code",
   "execution_count": null,
   "metadata": {},
   "outputs": [],
   "source": [
    "merged_4.plot.bar( x = 'followers', y = 'VideoLikeNumber', color = 'plum')"
   ]
  },
  {
   "cell_type": "code",
   "execution_count": null,
   "metadata": {},
   "outputs": [],
   "source": [
    "merged_4.plot.bar( x = 'VideoCmNumber',y = 'followers', color = 'purple')"
   ]
  },
  {
   "cell_type": "code",
   "execution_count": 86,
   "metadata": {},
   "outputs": [],
   "source": [
    "#RQ7\n",
    "#1\n",
    "dataprofile.dropna(subset=['profile_id'],inplace=True)\n",
    "datapostr.dropna(subset=['profile_id'],inplace=True)\n",
    "data_profiles_profile_followers = dataprofile[['profile_id','followers']]\n",
    "posts_profiles = pd.merge(datapostr[['profile_id','numbr_likes']],data_profiles_profile_followers)\n",
    "posts_profiles.shape\n",
    "posts_profiles['more'] = posts_profiles['numbr_likes']/posts_profiles['followers'] >= 0.2"
   ]
  },
  {
   "cell_type": "markdown",
   "metadata": {},
   "source": [
    "We created a new boolean variable, called 'more', that contains True and False values. True if the number of likes over the number of followers is higher than 20%, False otherwise."
   ]
  },
  {
   "cell_type": "code",
   "execution_count": 87,
   "metadata": {},
   "outputs": [
    {
     "name": "stdout",
     "output_type": "stream",
     "text": [
      "15.6 %\n"
     ]
    }
   ],
   "source": [
    "print(round((posts_profiles['more'].value_counts(normalize=True)[1]*100),1), '%')"
   ]
  },
  {
   "cell_type": "markdown",
   "metadata": {},
   "source": [
    "The probability that a post receives more than 20% of likes than the number of followers  is 15.6%"
   ]
  },
  {
   "cell_type": "code",
   "execution_count": 88,
   "metadata": {},
   "outputs": [],
   "source": [
    "#RQ7\n",
    "#2\n",
    "pl_copy = datapost.copy()"
   ]
  },
  {
   "cell_type": "code",
   "execution_count": 89,
   "metadata": {},
   "outputs": [],
   "source": [
    "pl_copy.dropna(subset=['profile_id','location_id'], inplace=True)"
   ]
  },
  {
   "cell_type": "code",
   "execution_count": 90,
   "metadata": {},
   "outputs": [],
   "source": [
    "pl_group = pl_copy.groupby('profile_id')"
   ]
  },
  {
   "cell_type": "code",
   "execution_count": null,
   "metadata": {},
   "outputs": [],
   "source": [
    "rep_locations = []\n",
    "for p,l in pl_group:\n",
    "    for i in l.location_id.value_counts():\n",
    "        rep_locations.append(i>1)"
   ]
  },
  {
   "cell_type": "code",
   "execution_count": null,
   "metadata": {},
   "outputs": [],
   "source": [
    "c = pd.Series(rep_locations)\n",
    "c.value_counts(normalize=True)*100"
   ]
  },
  {
   "cell_type": "markdown",
   "metadata": {},
   "source": [
    "The probability that a user returns to a site after having posted it in the past is equal to 14% if we consider that same locations are repeted for the same profile_id. This result isn't precise because people can post pictures and videos of the same place, made in the same day more than once and in different posts. That doesn't really mean returning to a place."
   ]
  },
  {
   "cell_type": "code",
   "execution_count": 94,
   "metadata": {},
   "outputs": [
    {
     "data": {
      "text/plain": [
       "<function matplotlib.pyplot.show(close=None, block=None)>"
      ]
     },
     "execution_count": 94,
     "metadata": {},
     "output_type": "execute_result"
    },
    {
     "data": {
      "image/png": "[encoded data removed]",
      "text/plain": [
       "<Figure size 432x288 with 1 Axes>"
      ]
     },
     "metadata": {
      "needs_background": "light"
     },
     "output_type": "display_data"
    }
   ],
   "source": [
    "#RQ8\n",
    "#1\n",
    "plt.scatter(datapostn['numbr_likes'], datapostn['number_comments'],\n",
    "            c='blueviolet')\n",
    "plt.title('Scatterplot of the number of likes and comments')\n",
    "plt.xlabel('Number of likes')\n",
    "plt.ylabel('Number of comments')\n",
    "plt.show"
   ]
  },
  {
   "cell_type": "markdown",
   "metadata": {},
   "source": [
    "The scatterplot shows how the two quantitative variables number of likes and number of comments are related to each other. As we said before, values are mostly gathered in a small range, where are lower values of the variables. This plot also highlights two outliers in correspondence to the highest value of  likes and  of comments.\n",
    "This two variables are not linearly related, so higher number of likes doesn't mean higher number of comments. "
   ]
  },
  {
   "cell_type": "code",
   "execution_count": 95,
   "metadata": {},
   "outputs": [],
   "source": [
    "#RQ8.2\n",
    "data_posts = pd.read_csv('C:\\\\Users\\\\Utente\\\\Desktop\\\\instagram_posts.csv.zip', delimiter='\\t', usecols=['cts','numbr_likes','number_comments'])"
   ]
  },
  {
   "cell_type": "code",
   "execution_count": 96,
   "metadata": {},
   "outputs": [],
   "source": [
    "c_copy = data_posts.copy()"
   ]
  },
  {
   "cell_type": "code",
   "execution_count": 97,
   "metadata": {},
   "outputs": [],
   "source": [
    "c_copy.dropna(subset=['cts','numbr_likes','number_comments'], inplace=True)"
   ]
  },
  {
   "cell_type": "code",
   "execution_count": 98,
   "metadata": {},
   "outputs": [],
   "source": [
    "c_copy['cts'] = pd.to_datetime(c_copy['cts'])"
   ]
  },
  {
   "cell_type": "code",
   "execution_count": 99,
   "metadata": {},
   "outputs": [
    {
     "name": "stdout",
     "output_type": "stream",
     "text": [
      "Probably different distributions\n"
     ]
    }
   ],
   "source": [
    "from scipy.stats import f_oneway\n",
    "stat, p = f_oneway(c_copy['cts'], c_copy['numbr_likes'])\n",
    "if p > 0.05:\n",
    "    print('Probably the same distribution')\n",
    "else:\n",
    "    print('Probably different distributions')"
   ]
  },
  {
   "cell_type": "code",
   "execution_count": 100,
   "metadata": {},
   "outputs": [
    {
     "name": "stdout",
     "output_type": "stream",
     "text": [
      "Probably different distributions\n"
     ]
    }
   ],
   "source": [
    "stat, p = f_oneway(c_copy['cts'], c_copy['number_comments'])\n",
    "if p > 0.05:\n",
    "    print('Probably the same distribution')\n",
    "else:\n",
    "    print('Probably different distributions')"
   ]
  },
  {
   "cell_type": "markdown",
   "metadata": {},
   "source": [
    "ANOVA is a statistical test used to find a relationship between two variables (if there is one). It compares means of different groups to decide wether they're statistically different or not. Anova result is the test F, which is the ratio between the between and within variance, that returns a value from which we decide wether to reject the null hipothesis or not. In these two cases above, the result is that datetimes and number of likes probably have different distributions which means there'a a relationship between the two of them. Same for datetimes and number of comments, otherwise, distributions would be the same.\n",
    "So we can say that the time a user publishes a post influences the number of likes and comments he/her is going to collect."
   ]
  },
  {
   "cell_type": "markdown",
   "metadata": {},
   "source": [
    "RQ8.3"
   ]
  },
  {
   "cell_type": "code",
   "execution_count": 104,
   "metadata": {},
   "outputs": [],
   "source": [
    "data_profiles = pd.read_csv('C:\\\\Users\\\\Utente\\\\Desktop\\\\instagram_profiles.csv', delimiter='\\t', usecols=['followers'])"
   ]
  },
  {
   "cell_type": "code",
   "execution_count": 106,
   "metadata": {},
   "outputs": [
    {
     "data": {
      "image/png": "[encoded data removed]",
      "text/plain": [
       "<Figure size 432x288 with 1 Axes>"
      ]
     },
     "metadata": {
      "needs_background": "light"
     },
     "output_type": "display_data"
    }
   ],
   "source": [
    "followers_new = data_profiles[data_profiles['followers'] < 4000]\n",
    "image, plot= plt.subplots()\n",
    "plot.hist(followers_new['followers'], bins=10, fc='lightseagreen', ec='black')\n",
    "plt.title('Distribution of the number of followers')\n",
    "plot.set_xlabel('Number of followers')\n",
    "plot.set_ylabel('Absolute frequency')\n",
    "plt.show()"
   ]
  },
  {
   "cell_type": "markdown",
   "metadata": {},
   "source": [
    "The quantitative variable 'followers' is exponentially distributed. So it is characterized of a big amount of low values and a long tail going towards higher values of the number of followers."
   ]
  },
  {
   "cell_type": "code",
   "execution_count": 107,
   "metadata": {},
   "outputs": [],
   "source": [
    "def ecdf(data):\n",
    "    data = data / np.sum(data)\n",
    "    return np.cumsum(data)"
   ]
  },
  {
   "cell_type": "code",
   "execution_count": 108,
   "metadata": {},
   "outputs": [
    {
     "data": {
      "text/plain": [
       "<AxesSubplot:title={'center':'Empirical distribution of followers'}>"
      ]
     },
     "execution_count": 108,
     "metadata": {},
     "output_type": "execute_result"
    },
    {
     "data": {
      "image/png": "[encoded data removed]",
      "text/plain": [
       "<Figure size 432x288 with 1 Axes>"
      ]
     },
     "metadata": {
      "needs_background": "light"
     },
     "output_type": "display_data"
    }
   ],
   "source": [
    "ed = ecdf(data_profiles['followers'])\n",
    "ed.plot(title='Empirical distribution of followers')"
   ]
  },
  {
   "cell_type": "code",
   "execution_count": 109,
   "metadata": {},
   "outputs": [
    {
     "data": {
      "text/plain": [
       "count    3.452771e+06\n",
       "mean     4.739899e+03\n",
       "std      1.939087e+05\n",
       "min      0.000000e+00\n",
       "25%      1.590000e+02\n",
       "50%      4.060000e+02\n",
       "75%      9.740000e+02\n",
       "max      2.854576e+08\n",
       "Name: followers, dtype: float64"
      ]
     },
     "execution_count": 109,
     "metadata": {},
     "output_type": "execute_result"
    }
   ],
   "source": [
    "data_profiles['followers'].describe()"
   ]
  },
  {
   "cell_type": "code",
   "execution_count": null,
   "metadata": {},
   "outputs": [],
   "source": [
    "mode(data_profiles['followers'])"
   ]
  },
  {
   "cell_type": "markdown",
   "metadata": {},
   "source": [
    "The mean of the 'followers' variable is 4739,9 followers. This value is highly influenced by outliers, because the mean is not a robust index as the median. In fact the median is 406 followers that also is the second quartile, so the 50% of the 'followers' variable values are under 406. The first and third quartile are respectively 159 followers and 974 followers. The 25% of the 'followers' variable values are under 159 and the 75% are under 974. "
   ]
  },
  {
   "cell_type": "markdown",
   "metadata": {},
   "source": [
    "RQ8.4"
   ]
  },
  {
   "cell_type": "markdown",
   "metadata": {},
   "source": [
    "Histograms are plots made by adjacent rectangles representing the distribution of a quantitative continuous variable (divided in bins) which values are placed on the x axis and absolute frequencies of the values in the bins on the y axis. The sum of the areas of the rectangles is equal to the sum of the frequencies of the values belonging to the various classes.<br>\n",
    "Bar plots are plots for categoricals variables made by rectangles. Each rectangle represents the amount of a modality. Modalities are placed under the bars and absolute frequencies on the y axis.<br>\n",
    "Scatterplots are plots used to grafically try to understand the relationship between two quantitative variables. Each point of the plot has an x value given by the first variable and the y value given by the second variable. From the way points are plotted we can say if the variables are not correlated to each other (plots are randomly distributed in this case) or ther's a linear, quadratic, cubic ecc. relationship between them.<br>\n",
    "Pie charts are plots used to visualize the amount of ache modality of a categorical variable. it is frequently used with percentage or relative frequencies because it represents sizes of a whole."
   ]
  },
  {
   "cell_type": "markdown",
   "metadata": {},
   "source": [
    "RQ8.5"
   ]
  },
  {
   "cell_type": "markdown",
   "metadata": {},
   "source": [
    "Boxplots show the distribution of a variable in terms of quartiles, so they give informations about where the population in mainly gathered, about skewness, highlight the median (center of the distribution) and help finding outliers which are out of range values. The range is given by 1.5 times the interquartile range starting from the first and third quartile. From there to the minimum and maximum, values are considered as outliers."
   ]
  },
  {
   "cell_type": "markdown",
   "metadata": {},
   "source": [
    "AQ1"
   ]
  },
  {
   "cell_type": "code",
   "execution_count": null,
   "metadata": {},
   "outputs": [],
   "source": []
  },
  {
   "cell_type": "markdown",
   "metadata": {},
   "source": [
    "\n",
    "#1\n",
    "Function f1 takes as input a list of characters without repetitions and the index of the last element. The function makes a for loop on the list and prints all the elements, one element for each row.\n",
    "Function f2 takes as input a list of characters without repetitions, the index of the first element and the index of the last element. If the list has only one element, is called function f1 that prints the element.\n",
    "Otherwise the function f2 make a for loop on the list, it prints all n! combinations of the list's elements, one for each iteration. The algorithm is a recursive algorithm, it makes n recursive calls.\n",
    "\n",
    "#2\n",
    "Time complexity is O(n!). The recurrence equation is: T(n) = nT(n-1) = n(n-1)(n-2)....(n-n+1) = n!\n"
   ]
  }
 ],
 "metadata": {
  "kernelspec": {
   "display_name": "Python 3 (ipykernel)",
   "language": "python",
   "name": "python3"
  },
  "language_info": {
   "codemirror_mode": {
    "name": "ipython",
    "version": 3
   },
   "file_extension": ".py",
   "mimetype": "text/x-python",
   "name": "python",
   "nbconvert_exporter": "python",
   "pygments_lexer": "ipython3",
   "version": "3.9.12"
  },
  "vscode": {
   "interpreter": {
    "hash": "492de5c55b0784f5394852be3d129468b1a3cbd17c8e16230d794b01878ae870"
   }
  }
 },
 "nbformat": 4,
 "nbformat_minor": 2
}
